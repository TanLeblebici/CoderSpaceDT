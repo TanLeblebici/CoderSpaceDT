{
 "cells": [
  {
   "cell_type": "markdown",
   "id": "6acc711a-e384-40fc-b176-eb80197d8de8",
   "metadata": {},
   "source": [
    "## Libraries"
   ]
  },
  {
   "cell_type": "code",
   "execution_count": 1,
   "id": "b0eab483-9490-41ba-8c89-0593d2ca8969",
   "metadata": {},
   "outputs": [],
   "source": [
    "import pandas as pd\n",
    "import numpy as np\n",
    "import matplotlib.pyplot as plt\n",
    "import seaborn as sns\n",
    "from IPython.display import display, HTML\n",
    "from sklearn.model_selection import train_test_split\n",
    "from sklearn.preprocessing import StandardScaler\n",
    "from sklearn.metrics import accuracy_score, precision_score, recall_score, f1_score, confusion_matrix\n",
    "from sklearn.linear_model import LogisticRegression\n",
    "from sklearn.tree import DecisionTreeClassifier\n",
    "from sklearn.ensemble import RandomForestClassifier, GradientBoostingClassifier\n",
    "from sklearn.svm import SVC\n",
    "from sklearn.neighbors import KNeighborsClassifier\n",
    "from sklearn.naive_bayes import GaussianNB\n",
    "from xgboost import XGBClassifier\n",
    "from lightgbm import LGBMClassifier\n",
    "from catboost import CatBoostClassifier"
   ]
  },
  {
   "cell_type": "code",
   "execution_count": 2,
   "id": "c0f86187-a1f8-42e9-8d1d-ac0f8e75b74a",
   "metadata": {},
   "outputs": [],
   "source": [
    "raw_train = pd.read_csv('train.csv')\n",
    "raw_test = pd.read_csv('test.csv')\n",
    "train = raw_train.copy()\n",
    "test = raw_test.copy()\n",
    "pd.set_option('display.max_columns', 60)"
   ]
  },
  {
   "cell_type": "markdown",
   "id": "51de794a-b9b6-433a-b860-03ab9ef7eb09",
   "metadata": {},
   "source": [
    "# Notes"
   ]
  },
  {
   "cell_type": "code",
   "execution_count": 3,
   "id": "bb2b2d86-c990-4fc4-a44f-04e20cf4a7c3",
   "metadata": {},
   "outputs": [],
   "source": [
    "# Ability -> Scale, change 0s with mean to see diff, \n",
    "# Potential -> Fill NaNs with 0s as 'no potential' scale, try changing NaNs with mean, drop the column try again, bin (low med high) , if potential 1 else 0\n",
    "# Positions -> try 'category' astype first, then ohe\n",
    "# Caps / Goals -> Seperated to two columns \n",
    "# Foot -> astype(int)\n",
    "# Height -> Scale\n",
    "# Weight -Scale\n",
    "# Aerial Reach -> fill nans with 0 first Scale , then try bin (low med high), if aerial 1 else 0, drop\n",
    "# Command of Area -> fill nans with 0 first Scale , then try bin (low med high), if coa 1 else 0, drop\n",
    "# Communication -> fill nans with 0 first Scale, if comm 1 else 0, drop\n",
    "# Eccentricity ->  fill nans with 0 first Scale, if ecc 1 else 0, drop\n",
    "# Handling -> fill 0, mean, if hand 1 else 0 , drop\n",
    "# Kicking -> fill 0, mean, if kick 1 else 0 , drop\n",
    "# Punching Tendency -> fill 0, mean, if kick 1 else 0 , drop\n",
    "# Reflexes -> fill 0, mean, if kick 1 else 0 , drop\n",
    "# Rushing Out (Tendency) -> fill 0, mean, if kick 1 else 0 , drop"
   ]
  },
  {
   "cell_type": "markdown",
   "id": "0e1d88b2-3631-4a31-b802-13946e865cdf",
   "metadata": {},
   "source": [
    "## Functions"
   ]
  },
  {
   "cell_type": "code",
   "execution_count": 4,
   "id": "4752449a-4fa0-4866-a286-1a0e21a24fed",
   "metadata": {},
   "outputs": [],
   "source": [
    "def analyze_dataframe(df):\n",
    "    \"\"\"\n",
    "    Function to analyze a DataFrame by printing:\n",
    "    - Shape of the DataFrame\n",
    "    - Information about each column (non-null count and data type)\n",
    "    - Descriptive statistics for numerical columns\n",
    "    - Number of missing values in each column\n",
    "    - List of all column names\n",
    "\n",
    "    Parameters:\n",
    "    df (pd.DataFrame): The DataFrame to analyze\n",
    "    \"\"\"\n",
    "    # Print shape of the DataFrame\n",
    "    print(\"SHAPE\")\n",
    "    print(df.shape)\n",
    "    print(\"\\n----------------------------------------------------\\n\")\n",
    "    \n",
    "    # Print column information (non-null count, data types)\n",
    "    print(df.info())\n",
    "    print(\"\\n----------------------------------------------------\\n\")\n",
    "    \n",
    "    # Print descriptive statistics for numerical columns\n",
    "    print(df.describe())\n",
    "    print(\"\\n----------------------------------------------------\\n\")\n",
    "    \n",
    "    # Print count of missing values in each column\n",
    "    print(df.isna().sum())\n",
    "    print(\"\\n----------------------------------------------------\\n\")\n",
    "    \n",
    "    # Print all column names\n",
    "    print(df.columns)"
   ]
  },
  {
   "cell_type": "code",
   "execution_count": 5,
   "id": "adfc9c22-5cda-49dc-8cc0-a2b0cbb3f9ba",
   "metadata": {},
   "outputs": [],
   "source": [
    "def analyze_column(df, column_name):\n",
    "    \"\"\"\n",
    "    Function to analyze a column in a DataFrame by printing:\n",
    "    - Unique values\n",
    "    - Value counts (including NaNs)\n",
    "    - Number of missing values (NaNs)\n",
    "\n",
    "    Parameters:\n",
    "    df (pd.DataFrame): The DataFrame containing the column\n",
    "    column_name (str): The name of the column to analyze\n",
    "    \"\"\"\n",
    "    # Print unique values\n",
    "    print(f\"Unique values in '{column_name}':\")\n",
    "    print(df[column_name].unique())\n",
    "    print(' ')\n",
    "    \n",
    "    # Print value counts (including NaNs)\n",
    "    print(f\"Value counts in '{column_name}' (including NaNs):\")\n",
    "    print(df[column_name].value_counts(dropna=False))\n",
    "    print(' ')\n",
    "    \n",
    "    # Print the number of missing values (NaNs)\n",
    "    print(f\"Number of missing values (NaNs) in '{column_name}':\")\n",
    "    print(df[column_name].isna().sum())\n",
    "    \n",
    "    print(' ')\n",
    "    print(df[column_name].describe())"
   ]
  },
  {
   "cell_type": "code",
   "execution_count": 6,
   "id": "04174d94-7a5f-4325-86e1-3bb9f59ed4bf",
   "metadata": {},
   "outputs": [],
   "source": [
    "def detect_outlier(df, column_name):\n",
    "    \"\"\"\n",
    "    Lists outlier values in a specified column of a DataFrame using the IQR method.\n",
    "\n",
    "    Parameters:\n",
    "    df (pd.DataFrame): The DataFrame containing the data.\n",
    "    column_name (str): The name of the column to check for outliers.\n",
    "\n",
    "    Returns:\n",
    "    list: A list of outlier values in the specified column.\n",
    "    \"\"\"\n",
    "    # Calculate Q1 (25th percentile) and Q3 (75th percentile)\n",
    "    Q1 = df[column_name].quantile(0.25)\n",
    "    Q3 = df[column_name].quantile(0.75)\n",
    "    \n",
    "    # Calculate the Interquartile Range (IQR)\n",
    "    IQR = Q3 - Q1\n",
    "    \n",
    "    # Determine the outlier boundaries\n",
    "    lower_bound = Q1 - 1.5 * IQR\n",
    "    upper_bound = Q3 + 1.5 * IQR\n",
    "    \n",
    "    # Detect outlier values\n",
    "    outlier_values = df[(df[column_name] < lower_bound) | (df[column_name] > upper_bound)][column_name].tolist()\n",
    "    \n",
    "    return outlier_values"
   ]
  },
  {
   "cell_type": "code",
   "execution_count": 7,
   "id": "d975c405-a3e7-4a38-8cd2-f5fecde31b97",
   "metadata": {},
   "outputs": [],
   "source": [
    "def plot_distributions(df, column):\n",
    "    plt.figure(figsize=(4, 2))\n",
    "    sns.histplot(df[column], kde=True)\n",
    "    plt.title(f'Distribution of {column}')\n",
    "    plt.show()"
   ]
  },
  {
   "cell_type": "code",
   "execution_count": 8,
   "id": "897afca1-3252-4788-af51-17656ddc6696",
   "metadata": {},
   "outputs": [],
   "source": [
    "def group_positions(positions):\n",
    "    # Attacking roles\n",
    "    if any(pos in positions for pos in ['ST', 'AML', 'AMR', 'AMC', 'AMR AML', 'AML ST', 'AMC ST']):\n",
    "        return 'Attacking'\n",
    "    # Midfield roles\n",
    "    elif any(pos in positions for pos in ['MC', 'AMC', 'DM', 'MC AMC', 'DM MC', 'MC MR', 'MC AML AMC']):\n",
    "        return 'Midfield'\n",
    "    # Defensive roles\n",
    "    elif any(pos in positions for pos in ['DC', 'DL', 'DR', 'WBL', 'WBR', 'DL DC', 'DL WBL', 'DL DM MC']):\n",
    "        return 'Defense'\n",
    "    # Goalkeeper\n",
    "    elif any(pos in positions for pos in ['GK']):\n",
    "        return 'Goalkeeper'\n",
    "    else:\n",
    "        return 'Other'"
   ]
  },
  {
   "cell_type": "code",
   "execution_count": 9,
   "id": "471bb553-08d5-470c-af6e-d3b89aa72f8e",
   "metadata": {},
   "outputs": [],
   "source": [
    "def analyze_and_plot_columns_from(train_df, test_df, start_col_idx):\n",
    "    \"\"\"\n",
    "    This function analyzes and plots the distributions of all columns starting from a specific index in both\n",
    "    the training and test datasets.\n",
    "\n",
    "    Parameters:\n",
    "    - train_df: DataFrame for the training data\n",
    "    - test_df: DataFrame for the test data\n",
    "    - start_col_idx: The index from which to start analyzing columns\n",
    "    \"\"\"\n",
    "    # Get all columns starting from the specified index\n",
    "    columns = train_df.columns[start_col_idx:]\n",
    "    \n",
    "    # Loop through each column and perform analysis\n",
    "    for column in columns:\n",
    "        analyze_column(train, column)\n",
    "        print('\\n------------------------------------------------------------------\\n')\n",
    "        analyze_column(test, column)\n",
    "\n",
    "        plot_distributions(train, column) \n",
    "        plot_distributions(test, column)"
   ]
  },
  {
   "cell_type": "code",
   "execution_count": 10,
   "id": "29f31bd1-079a-4bef-8699-12a79490beb4",
   "metadata": {},
   "outputs": [],
   "source": [
    "def columns_with_nulls(df):\n",
    "    \"\"\"\n",
    "    This function returns a list of columns in the DataFrame that contain null values.\n",
    "\n",
    "    Parameters:\n",
    "    - df: DataFrame to check for null values\n",
    "\n",
    "    Returns:\n",
    "    - null_columns: A list of column names with null values\n",
    "    \"\"\"\n",
    "    null_columns = df.columns[df.isnull().any()].tolist()\n",
    "    return null_columns"
   ]
  },
  {
   "cell_type": "code",
   "execution_count": 11,
   "id": "9a89d6b2-cb75-4ab4-b755-d840548387f8",
   "metadata": {},
   "outputs": [],
   "source": [
    "def fill_nulls_with_mean(df, columns):\n",
    "    \"\"\"\n",
    "    This function fills null values in the specified columns with their respective mean values.\n",
    "\n",
    "    Parameters:\n",
    "    - df: DataFrame in which to fill null values\n",
    "    - columns: List of column names to fill with mean values\n",
    "    \"\"\"\n",
    "    for column in columns:\n",
    "        if column in df.columns:  # Check if the column exists in the DataFrame\n",
    "            mean_value = df[column].mean()  # Calculate the mean value\n",
    "            df[column] = df[column].fillna(mean_value)  # Fill nulls with mean value"
   ]
  },
  {
   "cell_type": "code",
   "execution_count": 12,
   "id": "6f67d20a-a3a1-4ba2-a187-5ed616df369f",
   "metadata": {},
   "outputs": [],
   "source": [
    "def scale_columns(df, col_list):\n",
    "    \"\"\"\n",
    "    Scales the specified columns in the DataFrame using StandardScaler.\n",
    "\n",
    "    Parameters:\n",
    "    df (pd.DataFrame): The input DataFrame.\n",
    "    col_list (list): List of column names to scale.\n",
    "\n",
    "    Returns:\n",
    "    pd.DataFrame: The DataFrame with scaled columns.\n",
    "    \"\"\"\n",
    "    # Initialize the StandardScaler\n",
    "    scaler = StandardScaler()\n",
    "    \n",
    "    # Fit the scaler on the selected columns and transform them\n",
    "    df[col_list] = scaler.fit_transform(df[col_list])\n",
    "    \n",
    "    return df"
   ]
  },
  {
   "cell_type": "code",
   "execution_count": 13,
   "id": "2c0543e1-b398-4d0e-98ad-7552b99e593b",
   "metadata": {},
   "outputs": [],
   "source": [
    "def assign_based_on_mean(df, col_name):\n",
    "    # Calculate the mean of the specified column\n",
    "    mean_value = df[col_name].mean()\n",
    "\n",
    "    # Assign 0 if below the mean, 1 if above or equal to the mean directly to the column\n",
    "    df[col_name] = df[col_name].apply(lambda x: 0 if x < mean_value else 1)\n",
    "    \n",
    "    return df"
   ]
  },
  {
   "cell_type": "code",
   "execution_count": 14,
   "id": "843d3336-80c7-4aac-aa9f-963473e63a34",
   "metadata": {},
   "outputs": [],
   "source": [
    "front_half_positions = [\n",
    "    'ST', 'AMC', 'AMR', 'AML', 'DL WBL ML', \n",
    "    'AMR AML', 'AMR AMC', 'MC AMC', 'MR AMR', \n",
    "    'DL AML', 'DC AMC', 'DR WBR MR', 'AMR', \n",
    "    'MC MR', 'MR AMR AML', 'AML AMC ST', \n",
    "    'WBL ML', 'DL WBL', 'DM MC AMC', 'DR WBR', \n",
    "    'DL DC WBL', 'WBR MR AMR', 'ML AML', \n",
    "    'AML ST', 'AMC ST', 'AML AMC', 'WBR MR', \n",
    "    'ML AML ST', 'MC AML AMC', 'MR', 'AMR AML ST', \n",
    "    'AMR AML AMC', 'MR ML AMR AML', 'DR DC WBR', \n",
    "    'WBL AMR AML', 'ML AMR AML ST', 'MC ML', \n",
    "    'MR ML'\n",
    "]\n",
    "\n",
    "behind_half_positions = [\n",
    "    'GK', 'DL', 'DC', 'DR', 'MC', 'DL DC', \n",
    "    'DR DL', 'DM MC', 'DM', 'DC DM', 'DR', \n",
    "    'DL DM MC', 'DR MC', 'DL DC DM', 'DR DC'\n",
    "]\n",
    "\n",
    "# Function to assign 1 for front half and 0 for behind half\n",
    "def assign_half_positions(df, column):\n",
    "    df[column] = df[column].apply(\n",
    "        lambda x: 1 if x in front_half_positions else 0\n",
    "    )\n"
   ]
  },
  {
   "cell_type": "markdown",
   "id": "58c32cef-5897-4edd-9521-5b19f8c1b373",
   "metadata": {},
   "source": [
    "### Null Check"
   ]
  },
  {
   "cell_type": "code",
   "execution_count": 15,
   "id": "0856a744-6b95-466b-91cd-10e59a943a8e",
   "metadata": {
    "scrolled": true
   },
   "outputs": [
    {
     "data": {
      "text/html": [
       "<h3>Percentage of missing values in each column:</h3><table><tr><th>Column</th><th>Missing Percentage</th></tr><tr><td>id</td><td style='color:green'>0.00%</td></tr><tr><td>value_increased</td><td style='color:green'>0.00%</td></tr><tr><td>Ability</td><td style='color:green'>0.00%</td></tr><tr><td>Potential</td><td style='color:red'>90.75%</td></tr><tr><td>Positions</td><td style='color:green'>0.00%</td></tr><tr><td>Caps / Goals</td><td style='color:red'>96.56%</td></tr><tr><td>Foot</td><td style='color:green'>0.00%</td></tr><tr><td>Height</td><td style='color:green'>0.00%</td></tr><tr><td>Weight</td><td style='color:green'>0.00%</td></tr><tr><td>Aerial Reach</td><td style='color:red'>93.12%</td></tr><tr><td>Command of Area</td><td style='color:red'>93.12%</td></tr><tr><td>Communication</td><td style='color:red'>93.12%</td></tr><tr><td>Eccentricity</td><td style='color:red'>93.12%</td></tr><tr><td>First Touch</td><td style='color:green'>0.00%</td></tr><tr><td>Handling</td><td style='color:red'>93.12%</td></tr><tr><td>Kicking</td><td style='color:red'>93.12%</td></tr><tr><td>One on Ones</td><td style='color:red'>93.12%</td></tr><tr><td>Passing</td><td style='color:green'>0.00%</td></tr><tr><td>Punching (Tendency)</td><td style='color:red'>93.12%</td></tr><tr><td>Reflexes</td><td style='color:red'>93.12%</td></tr><tr><td>Rushing Out (Tendency)</td><td style='color:red'>93.12%</td></tr><tr><td>Throwing</td><td style='color:red'>93.12%</td></tr><tr><td>Aggression</td><td style='color:green'>0.00%</td></tr><tr><td>Anticipation</td><td style='color:green'>0.00%</td></tr><tr><td>Bravery</td><td style='color:green'>0.00%</td></tr><tr><td>Composure</td><td style='color:green'>0.00%</td></tr><tr><td>Concentration</td><td style='color:green'>0.00%</td></tr><tr><td>Decisions</td><td style='color:green'>0.00%</td></tr><tr><td>Determination</td><td style='color:green'>0.00%</td></tr><tr><td>Flair</td><td style='color:green'>0.00%</td></tr><tr><td>Leadership</td><td style='color:green'>0.00%</td></tr><tr><td>Off the Ball</td><td style='color:green'>0.00%</td></tr><tr><td>Positioning</td><td style='color:green'>0.00%</td></tr><tr><td>Teamwork</td><td style='color:green'>0.00%</td></tr><tr><td>Vision</td><td style='color:green'>0.00%</td></tr><tr><td>Work Rate</td><td style='color:green'>0.00%</td></tr><tr><td>Acceleration</td><td style='color:green'>0.00%</td></tr><tr><td>Agility</td><td style='color:green'>0.00%</td></tr><tr><td>Balance</td><td style='color:green'>0.00%</td></tr><tr><td>Jumping Reach</td><td style='color:green'>0.00%</td></tr><tr><td>Natural Fitness</td><td style='color:green'>0.00%</td></tr><tr><td>Pace</td><td style='color:green'>0.00%</td></tr><tr><td>Stamina</td><td style='color:green'>0.00%</td></tr><tr><td>Strength</td><td style='color:green'>0.00%</td></tr><tr><td>Corners</td><td style='color:green'>6.88%</td></tr><tr><td>Crossing</td><td style='color:green'>6.88%</td></tr><tr><td>Dribbling</td><td style='color:green'>6.88%</td></tr><tr><td>Finishing</td><td style='color:green'>6.88%</td></tr><tr><td>Free Kick Taking</td><td style='color:green'>0.00%</td></tr><tr><td>Heading</td><td style='color:green'>6.88%</td></tr><tr><td>Long Shots</td><td style='color:green'>6.88%</td></tr><tr><td>Long Throws</td><td style='color:green'>6.88%</td></tr><tr><td>Marking</td><td style='color:green'>6.88%</td></tr><tr><td>Penalty Taking</td><td style='color:green'>0.00%</td></tr><tr><td>Tackling</td><td style='color:green'>6.88%</td></tr><tr><td>Technique</td><td style='color:green'>0.00%</td></tr></table>"
      ],
      "text/plain": [
       "<IPython.core.display.HTML object>"
      ]
     },
     "metadata": {},
     "output_type": "display_data"
    },
    {
     "name": "stdout",
     "output_type": "stream",
     "text": [
      "\n",
      "Columns with more than 30 % missing values:\n",
      "['Potential', 'Caps / Goals', 'Aerial Reach', 'Command of Area', 'Communication', 'Eccentricity', 'Handling', 'Kicking', 'One on Ones', 'Punching (Tendency)', 'Reflexes', 'Rushing Out (Tendency)', 'Throwing']\n"
     ]
    }
   ],
   "source": [
    "threshold = 30\n",
    "\n",
    "missing_values = train.isna().sum()\n",
    "total_cells = len(train) * len(train.columns)\n",
    "percent_missing = train.isnull().mean() * 100\n",
    "\n",
    "columns_above_threshold = []\n",
    "\n",
    "html_content = \"<h3>Percentage of missing values in each column:</h3>\"\n",
    "html_content += \"<table><tr><th>Column</th><th>Missing Percentage</th></tr>\"\n",
    "\n",
    "for col, percent in zip(missing_values.index, percent_missing):\n",
    "    if percent > threshold:\n",
    "        color = \"red\"\n",
    "        columns_above_threshold.append(col)\n",
    "    else:\n",
    "        color = \"green\"\n",
    "    html_content += f\"<tr><td>{col}</td><td style='color:{color}'>{percent:.2f}%</td></tr>\"\n",
    "\n",
    "html_content += \"</table>\"\n",
    "\n",
    "display(HTML(html_content))\n",
    "\n",
    "print(\"\\nColumns with more than\", threshold, \"% missing values:\")\n",
    "print(columns_above_threshold)"
   ]
  },
  {
   "cell_type": "code",
   "execution_count": 16,
   "id": "c4afc76c-5f1c-4c5e-8024-52bc9e8dd6a7",
   "metadata": {
    "scrolled": true
   },
   "outputs": [
    {
     "data": {
      "text/html": [
       "<h3>Percentage of missing values in each column:</h3><table><tr><th>Column</th><th>Missing Percentage</th></tr><tr><td>id</td><td style='color:green'>0.00%</td></tr><tr><td>Ability</td><td style='color:green'>0.00%</td></tr><tr><td>Potential</td><td style='color:red'>88.71%</td></tr><tr><td>Positions</td><td style='color:green'>0.00%</td></tr><tr><td>Caps / Goals</td><td style='color:red'>94.84%</td></tr><tr><td>Foot</td><td style='color:green'>0.00%</td></tr><tr><td>Height</td><td style='color:green'>0.00%</td></tr><tr><td>Weight</td><td style='color:green'>0.00%</td></tr><tr><td>Aerial Reach</td><td style='color:red'>96.13%</td></tr><tr><td>Command of Area</td><td style='color:red'>96.13%</td></tr><tr><td>Communication</td><td style='color:red'>96.13%</td></tr><tr><td>Eccentricity</td><td style='color:red'>96.13%</td></tr><tr><td>First Touch</td><td style='color:green'>0.00%</td></tr><tr><td>Handling</td><td style='color:red'>96.13%</td></tr><tr><td>Kicking</td><td style='color:red'>96.13%</td></tr><tr><td>One on Ones</td><td style='color:red'>96.13%</td></tr><tr><td>Passing</td><td style='color:green'>0.00%</td></tr><tr><td>Punching (Tendency)</td><td style='color:red'>96.13%</td></tr><tr><td>Reflexes</td><td style='color:red'>96.13%</td></tr><tr><td>Rushing Out (Tendency)</td><td style='color:red'>96.13%</td></tr><tr><td>Throwing</td><td style='color:red'>96.13%</td></tr><tr><td>Aggression</td><td style='color:green'>0.00%</td></tr><tr><td>Anticipation</td><td style='color:green'>0.00%</td></tr><tr><td>Bravery</td><td style='color:green'>0.00%</td></tr><tr><td>Composure</td><td style='color:green'>0.00%</td></tr><tr><td>Concentration</td><td style='color:green'>0.00%</td></tr><tr><td>Decisions</td><td style='color:green'>0.00%</td></tr><tr><td>Determination</td><td style='color:green'>0.00%</td></tr><tr><td>Flair</td><td style='color:green'>0.00%</td></tr><tr><td>Leadership</td><td style='color:green'>0.00%</td></tr><tr><td>Off the Ball</td><td style='color:green'>0.00%</td></tr><tr><td>Positioning</td><td style='color:green'>0.00%</td></tr><tr><td>Teamwork</td><td style='color:green'>0.00%</td></tr><tr><td>Vision</td><td style='color:green'>0.00%</td></tr><tr><td>Work Rate</td><td style='color:green'>0.00%</td></tr><tr><td>Acceleration</td><td style='color:green'>0.00%</td></tr><tr><td>Agility</td><td style='color:green'>0.00%</td></tr><tr><td>Balance</td><td style='color:green'>0.00%</td></tr><tr><td>Jumping Reach</td><td style='color:green'>0.00%</td></tr><tr><td>Natural Fitness</td><td style='color:green'>0.00%</td></tr><tr><td>Pace</td><td style='color:green'>0.00%</td></tr><tr><td>Stamina</td><td style='color:green'>0.00%</td></tr><tr><td>Strength</td><td style='color:green'>0.00%</td></tr><tr><td>Corners</td><td style='color:green'>3.87%</td></tr><tr><td>Crossing</td><td style='color:green'>3.87%</td></tr><tr><td>Dribbling</td><td style='color:green'>3.87%</td></tr><tr><td>Finishing</td><td style='color:green'>3.87%</td></tr><tr><td>Free Kick Taking</td><td style='color:green'>0.00%</td></tr><tr><td>Heading</td><td style='color:green'>3.87%</td></tr><tr><td>Long Shots</td><td style='color:green'>3.87%</td></tr><tr><td>Long Throws</td><td style='color:green'>3.87%</td></tr><tr><td>Marking</td><td style='color:green'>3.87%</td></tr><tr><td>Penalty Taking</td><td style='color:green'>0.00%</td></tr><tr><td>Tackling</td><td style='color:green'>3.87%</td></tr><tr><td>Technique</td><td style='color:green'>0.00%</td></tr></table>"
      ],
      "text/plain": [
       "<IPython.core.display.HTML object>"
      ]
     },
     "metadata": {},
     "output_type": "display_data"
    },
    {
     "name": "stdout",
     "output_type": "stream",
     "text": [
      "\n",
      "Columns with more than 30 % missing values:\n",
      "['Potential', 'Caps / Goals', 'Aerial Reach', 'Command of Area', 'Communication', 'Eccentricity', 'Handling', 'Kicking', 'One on Ones', 'Punching (Tendency)', 'Reflexes', 'Rushing Out (Tendency)', 'Throwing']\n"
     ]
    }
   ],
   "source": [
    "threshold = 30\n",
    "\n",
    "missing_values = test.isna().sum()\n",
    "total_cells = len(test) * len(test.columns)\n",
    "percent_missing = test.isnull().mean() * 100\n",
    "\n",
    "columns_above_threshold = []\n",
    "\n",
    "html_content = \"<h3>Percentage of missing values in each column:</h3>\"\n",
    "html_content += \"<table><tr><th>Column</th><th>Missing Percentage</th></tr>\"\n",
    "\n",
    "for col, percent in zip(missing_values.index, percent_missing):\n",
    "    if percent > threshold:\n",
    "        color = \"red\"\n",
    "        columns_above_threshold.append(col)\n",
    "    else:\n",
    "        color = \"green\"\n",
    "    html_content += f\"<tr><td>{col}</td><td style='color:{color}'>{percent:.2f}%</td></tr>\"\n",
    "\n",
    "html_content += \"</table>\"\n",
    "\n",
    "display(HTML(html_content))\n",
    "\n",
    "print(\"\\nColumns with more than\", threshold, \"% missing values:\")\n",
    "print(columns_above_threshold)"
   ]
  },
  {
   "cell_type": "code",
   "execution_count": 17,
   "id": "5872d6b4-a6fb-4725-a0de-182d8de2dbc8",
   "metadata": {},
   "outputs": [],
   "source": [
    "#train['value_increased'] = train['value_increased'].apply(lambda x: 1 if x else 0)"
   ]
  },
  {
   "cell_type": "markdown",
   "id": "7757e888-51a5-46c4-8382-c75d82d47fa9",
   "metadata": {},
   "source": [
    "### 1-) Ability (Scale)"
   ]
  },
  {
   "cell_type": "code",
   "execution_count": 18,
   "id": "a1cd47db-f8bb-4214-a3ff-04744fe37c37",
   "metadata": {
    "scrolled": true
   },
   "outputs": [
    {
     "name": "stdout",
     "output_type": "stream",
     "text": [
      "Unique values in 'Ability':\n",
      "[46.         48.         58.         38.         47.         56.\n",
      " 43.         52.         50.         23.         44.72473118 63.\n",
      " 40.         53.         65.         59.         39.         29.\n",
      " 54.         68.         45.         19.         75.         42.\n",
      " 33.         60.         80.         35.         44.         41.\n",
      " 62.         57.         20.         49.         28.         61.\n",
      " 37.         26.         31.         69.         55.         51.\n",
      " 67.         64.         34.         27.         30.         36.\n",
      " 70.         24.         32.         71.         78.         76.        ]\n",
      " \n",
      "Value counts in 'Ability' (including NaNs):\n",
      "Ability\n",
      "44.724731    35\n",
      "53.000000    28\n",
      "48.000000    24\n",
      "50.000000    24\n",
      "38.000000    21\n",
      "43.000000    19\n",
      "58.000000    18\n",
      "40.000000    17\n",
      "52.000000    17\n",
      "55.000000    16\n",
      "42.000000    14\n",
      "44.000000    14\n",
      "49.000000    13\n",
      "45.000000    13\n",
      "60.000000    12\n",
      "54.000000    11\n",
      "41.000000    11\n",
      "57.000000    10\n",
      "33.000000    10\n",
      "39.000000     9\n",
      "46.000000     9\n",
      "35.000000     9\n",
      "63.000000     8\n",
      "59.000000     8\n",
      "51.000000     7\n",
      "62.000000     7\n",
      "29.000000     7\n",
      "56.000000     7\n",
      "47.000000     7\n",
      "37.000000     7\n",
      "67.000000     4\n",
      "69.000000     4\n",
      "65.000000     4\n",
      "68.000000     4\n",
      "61.000000     4\n",
      "64.000000     4\n",
      "28.000000     3\n",
      "34.000000     3\n",
      "36.000000     3\n",
      "30.000000     3\n",
      "70.000000     2\n",
      "31.000000     2\n",
      "24.000000     2\n",
      "23.000000     1\n",
      "19.000000     1\n",
      "80.000000     1\n",
      "26.000000     1\n",
      "20.000000     1\n",
      "75.000000     1\n",
      "27.000000     1\n",
      "32.000000     1\n",
      "71.000000     1\n",
      "78.000000     1\n",
      "76.000000     1\n",
      "Name: count, dtype: int64\n",
      " \n",
      "Number of missing values (NaNs) in 'Ability':\n",
      "0\n",
      " \n",
      "count    465.000000\n",
      "mean      48.091109\n",
      "std        9.906524\n",
      "min       19.000000\n",
      "25%       42.000000\n",
      "50%       48.000000\n",
      "75%       55.000000\n",
      "max       80.000000\n",
      "Name: Ability, dtype: float64\n"
     ]
    }
   ],
   "source": [
    "# train\n",
    "train['Ability'] = train['Ability'].replace(0, train['Ability'].mean())\n",
    "analyze_column(train, 'Ability')"
   ]
  },
  {
   "cell_type": "code",
   "execution_count": 19,
   "id": "ce262fef-d77d-4797-963a-fd64510df41e",
   "metadata": {
    "jp-MarkdownHeadingCollapsed": true,
    "scrolled": true
   },
   "outputs": [
    {
     "name": "stdout",
     "output_type": "stream",
     "text": [
      "Unique values in 'Ability':\n",
      "[40.        42.        39.        38.        45.        57.\n",
      " 58.        66.        52.        65.        54.        50.\n",
      " 35.        37.        49.        78.        53.        63.\n",
      " 43.        44.8516129 69.        68.        48.        55.\n",
      " 62.        79.        47.        70.        46.        51.\n",
      " 59.        41.        24.        32.        28.        44.\n",
      " 33.        56.        31.        60.        30.        29.\n",
      " 74.        64.        27.        61.        67.        26.\n",
      " 23.        36.       ]\n",
      " \n",
      "Value counts in 'Ability' (including NaNs):\n",
      "Ability\n",
      "44.851613    29\n",
      "55.000000    15\n",
      "38.000000    14\n",
      "58.000000    13\n",
      "45.000000    12\n",
      "50.000000    12\n",
      "43.000000    12\n",
      "48.000000    12\n",
      "54.000000    11\n",
      "40.000000    11\n",
      "57.000000    11\n",
      "53.000000    10\n",
      "52.000000     9\n",
      "44.000000     9\n",
      "59.000000     8\n",
      "60.000000     8\n",
      "39.000000     8\n",
      "63.000000     7\n",
      "51.000000     7\n",
      "56.000000     7\n",
      "49.000000     7\n",
      "47.000000     7\n",
      "42.000000     6\n",
      "65.000000     5\n",
      "46.000000     5\n",
      "37.000000     5\n",
      "28.000000     4\n",
      "62.000000     4\n",
      "69.000000     4\n",
      "41.000000     4\n",
      "61.000000     3\n",
      "70.000000     3\n",
      "35.000000     3\n",
      "66.000000     2\n",
      "23.000000     2\n",
      "32.000000     2\n",
      "68.000000     2\n",
      "24.000000     2\n",
      "29.000000     2\n",
      "30.000000     2\n",
      "31.000000     2\n",
      "78.000000     1\n",
      "79.000000     1\n",
      "33.000000     1\n",
      "64.000000     1\n",
      "74.000000     1\n",
      "27.000000     1\n",
      "67.000000     1\n",
      "26.000000     1\n",
      "36.000000     1\n",
      "Name: count, dtype: int64\n",
      " \n",
      "Number of missing values (NaNs) in 'Ability':\n",
      "0\n",
      " \n",
      "count    310.000000\n",
      "mean      49.047409\n",
      "std       10.030595\n",
      "min       23.000000\n",
      "25%       43.000000\n",
      "50%       48.000000\n",
      "75%       56.000000\n",
      "max       79.000000\n",
      "Name: Ability, dtype: float64\n"
     ]
    }
   ],
   "source": [
    "# test\n",
    "test['Ability'] = test['Ability'].replace(0, test['Ability'].mean())\n",
    "analyze_column(test, 'Ability')"
   ]
  },
  {
   "cell_type": "markdown",
   "id": "be6a6b3d-98bc-4754-9992-082d3275c218",
   "metadata": {},
   "source": [
    "### 2-) Potential"
   ]
  },
  {
   "cell_type": "code",
   "execution_count": 20,
   "id": "d4b80565-ad8b-4ae7-9b2b-971a529fed66",
   "metadata": {},
   "outputs": [],
   "source": [
    "train['Potential'] = train['Potential'].apply(lambda x: 1 if pd.notna(x) else 0)\n",
    "test['Potential'] = test['Potential'].apply(lambda x: 1 if pd.notna(x) else 0)"
   ]
  },
  {
   "cell_type": "markdown",
   "id": "1c8a471d-5912-47aa-a78a-ebf42decf46f",
   "metadata": {},
   "source": [
    "### 2-) Potential"
   ]
  },
  {
   "cell_type": "code",
   "execution_count": 21,
   "id": "ac09dd68-1c20-4d05-a3e8-5ec03a3b24ca",
   "metadata": {},
   "outputs": [],
   "source": [
    "# train\n",
    "train['Potential'] = train['Potential'].fillna(train['Potential'].mean())\n",
    "# test\n",
    "test['Potential'] = test['Potential'].fillna(test['Potential'].mean()) "
   ]
  },
  {
   "cell_type": "markdown",
   "id": "32531375-53ba-441d-bd29-70017f3eb5f1",
   "metadata": {},
   "source": [
    "### 3-) Positions"
   ]
  },
  {
   "cell_type": "code",
   "execution_count": 22,
   "id": "12490aa5-378f-48fd-a8ec-18269da6331f",
   "metadata": {},
   "outputs": [],
   "source": [
    "assign_half_positions(train, 'Positions')\n",
    "assign_half_positions(test, 'Positions')\n"
   ]
  },
  {
   "cell_type": "markdown",
   "id": "9026e02f-baeb-4b6f-a2e8-b296b6efb171",
   "metadata": {},
   "source": [
    "# train\n",
    "train['Positions'] = train['Positions'].apply(group_positions)\n",
    "analyze_column(train, 'Positions')"
   ]
  },
  {
   "cell_type": "markdown",
   "id": "9c6cf776-28ae-4915-b777-1bd92f9e5162",
   "metadata": {},
   "source": [
    "# test\n",
    "test['Positions'] = test['Positions'].apply(group_positions)\n",
    "analyze_column(test, 'Positions')"
   ]
  },
  {
   "cell_type": "markdown",
   "id": "c4ce0b60-7193-4e1a-9f9c-3ce1ff923e6f",
   "metadata": {},
   "source": [
    "train = pd.get_dummies(train, columns = ['Positions'])\n",
    "test = pd.get_dummies(test, columns = ['Positions'])"
   ]
  },
  {
   "cell_type": "markdown",
   "id": "b6ffc37a-c2e4-4ca3-87ef-8557886ec501",
   "metadata": {},
   "source": [
    "### 4-) Caps / Goals"
   ]
  },
  {
   "cell_type": "code",
   "execution_count": 23,
   "id": "a8e130b4-3f63-4bfa-989f-ce5eaef0657b",
   "metadata": {},
   "outputs": [],
   "source": [
    "# train\n",
    "train['Caps / Goals'] = train['Caps / Goals'].apply(lambda x: 1 if pd.notna(x) else 0)\n",
    "test['Caps / Goals'] = test['Caps / Goals'].apply(lambda x: 1 if pd.notna(x) else 0)"
   ]
  },
  {
   "cell_type": "markdown",
   "id": "a99c4df4-4e01-476e-bc19-5de7a2460bbe",
   "metadata": {},
   "source": [
    "#train\n",
    "train[['Caps', 'Goals']] = train['Caps / Goals'].str.split(' / ', expand=True).fillna(0)\n",
    "train['Caps'] = train['Caps'].astype(int)\n",
    "train['Goals'] = train['Goals'].astype(int)\n",
    "train = train.drop('Caps / Goals', axis = 1)"
   ]
  },
  {
   "cell_type": "markdown",
   "id": "dea87e81-a8ee-49c3-b546-07fb2fc6ec28",
   "metadata": {},
   "source": [
    "# test\n",
    "test[['Caps', 'Goals']] = test['Caps / Goals'].str.split(' / ', expand=True).fillna(0)\n",
    "test['Caps'] = test['Caps'].astype(int)\n",
    "test['Goals'] = test['Goals'].astype(int)\n",
    "test = test.drop('Caps / Goals', axis = 1)"
   ]
  },
  {
   "cell_type": "markdown",
   "id": "60694807-a458-41ee-bbef-41f1fd08b923",
   "metadata": {},
   "source": [
    "### 5-) Foot"
   ]
  },
  {
   "cell_type": "code",
   "execution_count": 24,
   "id": "724347af-7b4e-45d3-a164-d15b89c84459",
   "metadata": {},
   "outputs": [],
   "source": [
    "# train\n",
    "train['Foot'] = train['Foot'].apply(lambda x: 0 if x == 'Right' else (1 if x == 'Left' else x))\n",
    "# test\n",
    "test['Foot'] = test['Foot'].apply(lambda x: 0 if x == 'Right' else (1 if x == 'Left' else (2 if x == 'Both' else x)))"
   ]
  },
  {
   "cell_type": "markdown",
   "id": "b96425d4-2e5f-4b84-81bc-b972ece5d45a",
   "metadata": {},
   "source": [
    "### 6-) Height"
   ]
  },
  {
   "cell_type": "code",
   "execution_count": 25,
   "id": "28f83103-a4d9-4b76-a7d6-633f594dc433",
   "metadata": {
    "scrolled": true
   },
   "outputs": [],
   "source": [
    "# train\n",
    "train['Height'] = train['Height'].str.extract(r'(\\d+)').astype(int)"
   ]
  },
  {
   "cell_type": "code",
   "execution_count": 26,
   "id": "695d233e-01bd-47b5-ad73-cf4251bc042c",
   "metadata": {},
   "outputs": [],
   "source": [
    "# test\n",
    "test['Height'] = test['Height'].str.extract(r'(\\d+)').astype(int)"
   ]
  },
  {
   "cell_type": "markdown",
   "id": "e66fe1d2-6edf-4274-96f9-3d8a4828c8d7",
   "metadata": {},
   "source": [
    "### 8-) Weight"
   ]
  },
  {
   "cell_type": "code",
   "execution_count": 27,
   "id": "c5d64316-eb2d-4bbb-ba1b-5d542780f761",
   "metadata": {},
   "outputs": [],
   "source": [
    "# train\n",
    "train['Weight'] = train['Weight'].str.extract(r'(\\d+)').astype(int)"
   ]
  },
  {
   "cell_type": "code",
   "execution_count": 28,
   "id": "d4457679-2663-4047-83f9-0d870c3aec9c",
   "metadata": {},
   "outputs": [],
   "source": [
    "# test\n",
    "test['Weight'] = test['Weight'].str.extract(r'(\\d+)').astype(int)"
   ]
  },
  {
   "cell_type": "markdown",
   "id": "4b2f7d7b-2f97-441f-8710-4b83fe9d43b1",
   "metadata": {},
   "source": [
    "### 9-) Aerial Reach (Scale ????)"
   ]
  },
  {
   "cell_type": "code",
   "execution_count": 29,
   "id": "b6fa7b97-850c-4589-8795-8a3ddd9d948e",
   "metadata": {},
   "outputs": [],
   "source": [
    "train['Aerial Reach'] = train['Aerial Reach'].apply(lambda x: 1 if pd.notna(x) else 0)\n",
    "test['Aerial Reach'] = test['Aerial Reach'].apply(lambda x: 1 if pd.notna(x) else 0)"
   ]
  },
  {
   "cell_type": "markdown",
   "id": "7fc2ebf8-382a-4599-ac20-950c26fee9ca",
   "metadata": {},
   "source": [
    "# train\n",
    "train['Aerial Reach'] = train['Aerial Reach'].fillna(train['Aerial Reach'].mean())\n",
    "# test\n",
    "test['Aerial Reach'] = test['Aerial Reach'].fillna(test['Aerial Reach'].mean())\n"
   ]
  },
  {
   "cell_type": "markdown",
   "id": "ad55b8ac-09f3-4d1b-b072-d0c9bdc6336f",
   "metadata": {},
   "source": [
    "### 10-) Command of Area"
   ]
  },
  {
   "cell_type": "code",
   "execution_count": 30,
   "id": "f2334a5c-daa0-4652-9329-abad1670809c",
   "metadata": {},
   "outputs": [],
   "source": [
    "train['Command of Area'] = train['Command of Area'].apply(lambda x: 1 if pd.notna(x) else 0)\n",
    "test['Command of Area'] = test['Command of Area'].apply(lambda x: 1 if pd.notna(x) else 0)"
   ]
  },
  {
   "cell_type": "markdown",
   "id": "476db45e-15fb-4eb2-9e71-08b8ebb6b84d",
   "metadata": {},
   "source": [
    "# train\n",
    "train['Command of Area'] = train['Command of Area'].fillna(train['Command of Area'].mean())\n",
    "# test\n",
    "test['Command of Area'] = test['Command of Area'].fillna(test['Command of Area'].mean())"
   ]
  },
  {
   "cell_type": "markdown",
   "id": "aeca6427-3af5-485f-babd-87ffe8cb5f14",
   "metadata": {},
   "source": [
    "### 11-) Communication"
   ]
  },
  {
   "cell_type": "code",
   "execution_count": 31,
   "id": "cbdce15e-d189-47dd-b709-f37b556c7951",
   "metadata": {},
   "outputs": [],
   "source": [
    "train['Communication'] = train['Communication'].apply(lambda x: 1 if pd.notna(x) else 0)\n",
    "test['Communication'] = test['Communication'].apply(lambda x: 1 if pd.notna(x) else 0)"
   ]
  },
  {
   "cell_type": "markdown",
   "id": "7a1a0d0c-3167-4389-8643-d9bdd81a1b00",
   "metadata": {},
   "source": [
    "# train\n",
    "train['Communication'] = train['Communication'].fillna(train['Communication'].mean())\n",
    "# test\n",
    "test['Communication'] = test['Communication'].fillna(test['Communication'].mean())"
   ]
  },
  {
   "cell_type": "markdown",
   "id": "6c79195f-f428-4f3c-ae11-21defdf3af3a",
   "metadata": {},
   "source": [
    "### 12-) Eccentricity"
   ]
  },
  {
   "cell_type": "code",
   "execution_count": 32,
   "id": "938b4df4-576c-475e-ab2e-eff649f0267f",
   "metadata": {},
   "outputs": [],
   "source": [
    "train['Eccentricity'] = train['Eccentricity'].apply(lambda x: 1 if pd.notna(x) else 0)\n",
    "test['Eccentricity'] = test['Eccentricity'].apply(lambda x: 1 if pd.notna(x) else 0)"
   ]
  },
  {
   "cell_type": "markdown",
   "id": "47fc616f-21b1-4264-9f7b-0d1d2a26e36d",
   "metadata": {},
   "source": [
    "# train\n",
    "train['Eccentricity'] = train['Eccentricity'].fillna(train['Eccentricity'].mean())\n",
    "# test\n",
    "test['Eccentricity'] = test['Eccentricity'].fillna(test['Eccentricity'].mean())"
   ]
  },
  {
   "cell_type": "markdown",
   "id": "c1c6f56f-e474-425e-ae6d-c6dd6c9f2750",
   "metadata": {},
   "source": [
    "### 13-) First Touch (Sadece Scale)"
   ]
  },
  {
   "cell_type": "code",
   "execution_count": null,
   "id": "969d9199-4b8d-4234-91e3-614e6b496a6f",
   "metadata": {},
   "outputs": [],
   "source": []
  },
  {
   "cell_type": "markdown",
   "id": "0ea1ab1b-54d4-495f-8f3a-90cd47ddcf0f",
   "metadata": {},
   "source": [
    "### 14-) Handling"
   ]
  },
  {
   "cell_type": "code",
   "execution_count": 33,
   "id": "2c32c7a7-388c-4226-a3a3-41990c0573e8",
   "metadata": {},
   "outputs": [],
   "source": [
    "train['Handling'] = train['Handling'].apply(lambda x: 1 if pd.notna(x) else 0)\n",
    "test['Handling'] = test['Handling'].apply(lambda x: 1 if pd.notna(x) else 0)"
   ]
  },
  {
   "cell_type": "markdown",
   "id": "68d468a7-5998-4055-90dd-9be9778c4384",
   "metadata": {},
   "source": [
    "train['Handling'] = train['Handling'].fillna(train['Handling'].mean())\n",
    "test['Handling'] = test['Handling'].fillna(test['Handling'].mean())"
   ]
  },
  {
   "cell_type": "markdown",
   "id": "526bb91e-3eef-4c45-928e-c27db70dd290",
   "metadata": {},
   "source": [
    "### 15-) Kicking"
   ]
  },
  {
   "cell_type": "code",
   "execution_count": 34,
   "id": "8b5af1e3-855f-43d4-9a27-fc23caeb7c97",
   "metadata": {},
   "outputs": [],
   "source": [
    "train['Kicking'] = train['Kicking'].apply(lambda x: 1 if pd.notna(x) else 0)\n",
    "test['Kicking'] = test['Kicking'].apply(lambda x: 1 if pd.notna(x) else 0)"
   ]
  },
  {
   "cell_type": "markdown",
   "id": "8e2dc97c-81b7-4a48-92fb-ed9305d36eef",
   "metadata": {
    "scrolled": true
   },
   "source": [
    "train['Kicking'] = train['Kicking'].fillna(train['Kicking'].mean())\n",
    "test['Kicking'] = test['Kicking'].fillna(test['Kicking'].mean())"
   ]
  },
  {
   "cell_type": "markdown",
   "id": "2ae14bc2-2e41-4fd5-a99a-df3386a5467d",
   "metadata": {},
   "source": [
    "### 16-) One on Ones"
   ]
  },
  {
   "cell_type": "code",
   "execution_count": 35,
   "id": "b7324b55-27ef-49dd-9ef7-0bb8cb2ab2a2",
   "metadata": {},
   "outputs": [],
   "source": [
    "train['One on Ones'] = train['One on Ones'].apply(lambda x: 1 if pd.notna(x) else 0)\n",
    "test['One on Ones'] = test['One on Ones'].apply(lambda x: 1 if pd.notna(x) else 0)"
   ]
  },
  {
   "cell_type": "markdown",
   "id": "72c92afe-9202-4fb7-86de-a27a19ced9db",
   "metadata": {},
   "source": [
    "train['One on Ones'] = train['One on Ones'].fillna(train['One on Ones'].mean())\n",
    "test['One on Ones'] = test['One on Ones'].fillna(test['One on Ones'].mean())"
   ]
  },
  {
   "cell_type": "markdown",
   "id": "7867d88b-bd6a-4cd6-9782-febabdba037d",
   "metadata": {},
   "source": [
    "### 17-) Passing (Scale)"
   ]
  },
  {
   "cell_type": "code",
   "execution_count": null,
   "id": "3af41bf6-5151-4ee0-b37e-418f52d77342",
   "metadata": {},
   "outputs": [],
   "source": []
  },
  {
   "cell_type": "markdown",
   "id": "90fd0acb-e23b-46e7-b0d7-dd189978b0c1",
   "metadata": {},
   "source": [
    "### 18-) Punching (Tendency)"
   ]
  },
  {
   "cell_type": "code",
   "execution_count": 36,
   "id": "629a38fa-e299-4d6f-8261-170ff2829624",
   "metadata": {},
   "outputs": [],
   "source": [
    "train['Punching (Tendency)'] = train['Punching (Tendency)'].apply(lambda x: 1 if pd.notna(x) else 0)\n",
    "test['Punching (Tendency)'] = test['Punching (Tendency)'].apply(lambda x: 1 if pd.notna(x) else 0)"
   ]
  },
  {
   "cell_type": "markdown",
   "id": "ae88a49d-5423-4150-ae9a-6622bbd8674d",
   "metadata": {},
   "source": [
    "train['Punching (Tendency)'] = train['Punching (Tendency)'].fillna(train['Punching (Tendency)'].mean())\n",
    "test['Punching (Tendency)'] = test['Punching (Tendency)'].fillna(test['Punching (Tendency)'].mean())"
   ]
  },
  {
   "cell_type": "markdown",
   "id": "1a1e1627-25aa-4708-aa3c-b40b0a5fd690",
   "metadata": {},
   "source": [
    "### 19-) Reflexes"
   ]
  },
  {
   "cell_type": "code",
   "execution_count": 37,
   "id": "fefde17b-56ea-4d6c-9f95-bed73bf0ac33",
   "metadata": {},
   "outputs": [],
   "source": [
    "train['Reflexes'] = train['Reflexes'].apply(lambda x: 1 if pd.notna(x) else 0)\n",
    "test['Reflexes'] = test['Reflexes'].apply(lambda x: 1 if pd.notna(x) else 0)"
   ]
  },
  {
   "cell_type": "markdown",
   "id": "363dda0b-a89c-4690-b26a-dc8da0f48e0a",
   "metadata": {},
   "source": [
    "train['Reflexes'] = train['Reflexes'].fillna(train['Reflexes'].mean())\n",
    "test['Reflexes'] = test['Reflexes'].fillna(test['Reflexes'].mean())"
   ]
  },
  {
   "cell_type": "markdown",
   "id": "c0d28741-8b7f-43df-80e5-5aed961b2938",
   "metadata": {},
   "source": [
    "### 20-) Rushing Out (Tendency)"
   ]
  },
  {
   "cell_type": "code",
   "execution_count": 38,
   "id": "326d7222-838d-49af-b3d5-8a5533d9d208",
   "metadata": {},
   "outputs": [],
   "source": [
    "train['Rushing Out (Tendency)'] = train['Rushing Out (Tendency)'].apply(lambda x: 1 if pd.notna(x) else 0)\n",
    "test['Rushing Out (Tendency)'] = test['Rushing Out (Tendency)'].apply(lambda x: 1 if pd.notna(x) else 0)"
   ]
  },
  {
   "cell_type": "markdown",
   "id": "22aa1daa-8d92-4388-a178-eb20cc9f0380",
   "metadata": {},
   "source": [
    "train['Rushing Out (Tendency)'] = train['Rushing Out (Tendency)'].fillna(train['Rushing Out (Tendency)'].mean())\n",
    "test['Rushing Out (Tendency)'] = test['Rushing Out (Tendency)'].fillna(test['Rushing Out (Tendency)'].mean())"
   ]
  },
  {
   "cell_type": "markdown",
   "id": "4f24d231-9f4b-4966-ad0e-8aab72fc0c70",
   "metadata": {},
   "source": [
    "### 21-) Throwing"
   ]
  },
  {
   "cell_type": "markdown",
   "id": "9e886ef2-5353-4e6b-9acb-f901d7f1b4d8",
   "metadata": {},
   "source": [
    "train['Throwing'] = train['Throwing'].fillna(train['Throwing'].mean())\n",
    "test['Throwing'] = test['Throwing'].fillna(test['Throwing'].mean())"
   ]
  },
  {
   "cell_type": "code",
   "execution_count": 39,
   "id": "88dd093f-73b3-4976-819e-8eea27de0940",
   "metadata": {},
   "outputs": [],
   "source": [
    "train['Throwing'] = train['Throwing'].apply(lambda x: 1 if pd.notna(x) else 0)\n",
    "test['Throwing'] = test['Throwing'].apply(lambda x: 1 if pd.notna(x) else 0)"
   ]
  },
  {
   "cell_type": "markdown",
   "id": "197aabdb-6dab-4947-aa53-ca3c1daa92bf",
   "metadata": {},
   "source": [
    "### 22-) Rest of the Columns"
   ]
  },
  {
   "cell_type": "code",
   "execution_count": 40,
   "id": "9952918f-b94b-4650-87c6-e3c5a817186c",
   "metadata": {},
   "outputs": [],
   "source": [
    "#analyze_and_plot_columns_from(train, test, 21)"
   ]
  },
  {
   "cell_type": "code",
   "execution_count": 41,
   "id": "1bd3ed22-feef-4531-8ca8-fbf38e674951",
   "metadata": {},
   "outputs": [
    {
     "name": "stdout",
     "output_type": "stream",
     "text": [
      "['Corners', 'Crossing', 'Dribbling', 'Finishing', 'Heading', 'Long Shots', 'Long Throws', 'Marking', 'Tackling']\n",
      "['Corners', 'Crossing', 'Dribbling', 'Finishing', 'Heading', 'Long Shots', 'Long Throws', 'Marking', 'Tackling']\n"
     ]
    }
   ],
   "source": [
    "null_columns_train = columns_with_nulls(train)\n",
    "null_columns_test = columns_with_nulls(test)\n",
    "print(null_columns_train)\n",
    "print(null_columns_test)"
   ]
  },
  {
   "cell_type": "code",
   "execution_count": 42,
   "id": "75e8acf6-a882-4f05-9d26-bdd7265a7bac",
   "metadata": {},
   "outputs": [],
   "source": [
    "columns_to_fill = ['Corners', 'Crossing', 'Dribbling', 'Finishing', 'Heading', 'Long Shots', 'Long Throws', 'Marking', 'Tackling']\n",
    "fill_nulls_with_mean(train, columns_to_fill)\n",
    "fill_nulls_with_mean(test, columns_to_fill)"
   ]
  },
  {
   "cell_type": "code",
   "execution_count": 43,
   "id": "3ce80884-750d-4740-974d-728c4975efd7",
   "metadata": {},
   "outputs": [],
   "source": [
    "train = train.apply(lambda x: x.astype(int) if x.dtype == 'float' else x)\n",
    "train = train.apply(lambda x: x.astype(int) if x.dtype == 'bool' else x)\n",
    "\n",
    "test = test.apply(lambda x: x.astype(int) if x.dtype == 'float' else x)\n",
    "test = test.apply(lambda x: x.astype(int) if x.dtype == 'bool' else x)"
   ]
  },
  {
   "cell_type": "markdown",
   "id": "ae05878e-05f6-436a-bef4-5614e15cf187",
   "metadata": {},
   "source": [
    "columns_to_drop = ['Potential', 'Caps / Goals', 'Aerial Reach', 'Command of Area', 'Communication', 'Eccentricity', 'Handling', 'Kicking', 'One on Ones', 'Punching (Tendency)', 'Reflexes', 'Rushing Out (Tendency)', 'Throwing']\n",
    "train = train.drop(columns = columns_to_drop)\n",
    "test = test.drop(columns = columns_to_drop)"
   ]
  },
  {
   "cell_type": "code",
   "execution_count": 44,
   "id": "496724f0-2d7f-461e-855a-e552d2385a43",
   "metadata": {},
   "outputs": [
    {
     "data": {
      "text/plain": [
       "(465, 56)"
      ]
     },
     "execution_count": 44,
     "metadata": {},
     "output_type": "execute_result"
    }
   ],
   "source": [
    "train.shape"
   ]
  },
  {
   "cell_type": "code",
   "execution_count": 45,
   "id": "2c720c68-421a-4515-bcd9-1143b500e046",
   "metadata": {
    "scrolled": true
   },
   "outputs": [],
   "source": [
    "from sklearn.preprocessing import StandardScaler\n",
    "\n",
    "exclude_columns = [\n",
    "    'Positions_Attacking', 'Positions_Defense', 'Positions_Goalkeeper', \n",
    "    'Positions_Midfield', 'Positions_Other', 'Foot', 'id', 'value_increased'\n",
    "]\n",
    "\n",
    "columns_to_scale = []\n",
    "columns_to_scale = train.columns.difference(exclude_columns)\n",
    "\n",
    "train = scale_columns(train, columns_to_scale)"
   ]
  },
  {
   "cell_type": "code",
   "execution_count": 46,
   "id": "403d18dd-1eca-4ffa-b837-74365b5a26bf",
   "metadata": {},
   "outputs": [
    {
     "data": {
      "text/plain": [
       "(465, 56)"
      ]
     },
     "execution_count": 46,
     "metadata": {},
     "output_type": "execute_result"
    }
   ],
   "source": [
    "train.shape"
   ]
  },
  {
   "cell_type": "code",
   "execution_count": 47,
   "id": "e26e1958-c345-45da-9585-83028c8388fa",
   "metadata": {},
   "outputs": [
    {
     "data": {
      "text/plain": [
       "(310, 55)"
      ]
     },
     "execution_count": 47,
     "metadata": {},
     "output_type": "execute_result"
    }
   ],
   "source": [
    "test.shape"
   ]
  },
  {
   "cell_type": "code",
   "execution_count": 48,
   "id": "f4de6524-89d5-4c15-844d-cb3f7559a64f",
   "metadata": {},
   "outputs": [],
   "source": [
    "exclude_columns_test = [\n",
    "    'Positions_Attacking', 'Positions_Defense', 'Positions_Goalkeeper', \n",
    "    'Positions_Midfield', 'Positions_Other', 'Foot', 'id'\n",
    "]\n",
    "\n",
    "columns_to_st = []\n",
    "columns_to_st = test.columns.difference(exclude_columns_test)\n",
    "\n",
    "test = scale_columns(test, columns_to_st)"
   ]
  },
  {
   "cell_type": "code",
   "execution_count": 49,
   "id": "2eaddd52-0f55-4b1a-8a15-192c3497c1d4",
   "metadata": {},
   "outputs": [
    {
     "data": {
      "text/plain": [
       "(310, 55)"
      ]
     },
     "execution_count": 49,
     "metadata": {},
     "output_type": "execute_result"
    }
   ],
   "source": [
    "test.shape"
   ]
  },
  {
   "cell_type": "markdown",
   "id": "92e54fb3-677a-425c-a72d-a62c73cb8d30",
   "metadata": {},
   "source": [
    "# Models"
   ]
  },
  {
   "cell_type": "markdown",
   "id": "f52188de-8cb4-483e-95c1-58770bd2e91f",
   "metadata": {},
   "source": [
    "import pandas as pd\n",
    "import optuna\n",
    "from sklearn.model_selection import train_test_split\n",
    "from catboost import CatBoostRegressor\n",
    "from sklearn.metrics import accuracy_score, precision_score, recall_score, f1_score, confusion_matrix\n",
    "\n",
    "# Load your data\n",
    "# Assuming 'train' is your DataFrame with features and target\n",
    "X = train.drop(columns=['value_increased', 'id'])\n",
    "y = train['value_increased']\n",
    "\n",
    "# Split the data\n",
    "X_train, X_test, y_train, y_test = train_test_split(X, y, test_size=0.2, random_state=42)\n",
    "\n",
    "# Define the objective function for Optuna\n",
    "def objective(trial):\n",
    "    # Suggest hyperparameters\n",
    "    depth = trial.suggest_int('depth', 4, 10)\n",
    "    learning_rate = trial.suggest_loguniform('learning_rate', 1e-5, 1)\n",
    "    l2_leaf_reg = trial.suggest_loguniform('l2_leaf_reg', 1e-5, 10)\n",
    "    iterations = trial.suggest_int('iterations', 100, 1000)\n",
    "    \n",
    "    # Create and fit the model\n",
    "    model = CatBoostRegressor(\n",
    "        depth=depth,\n",
    "        learning_rate=learning_rate,\n",
    "        l2_leaf_reg=l2_leaf_reg,\n",
    "        iterations=iterations,\n",
    "        silent=True\n",
    "    )\n",
    "    \n",
    "    model.fit(X_train, y_train)\n",
    "    \n",
    "    # Make predictions\n",
    "    y_pred = model.predict(X_test)\n",
    "    \n",
    "    # Apply threshold to create binary predictions\n",
    "    threshold = 0.5\n",
    "    y_pred_binary = (y_pred > threshold).astype(int)\n",
    "    \n",
    "    # Calculate the F1 score\n",
    "    f1 = f1_score(y_test, y_pred_binary, average='micro')\n",
    "    \n",
    "    return f1\n",
    "\n",
    "# Create the Optuna study and optimize\n",
    "study = optuna.create_study(direction='maximize')\n",
    "study.optimize(objective, n_trials=100)  # Adjust n_trials as needed\n",
    "\n",
    "# Print the best parameters and score\n",
    "print('Best trial:')\n",
    "trial = study.best_trial\n",
    "print(f'  F1 Score: {trial.value}')\n",
    "print('  Best hyperparameters: ')\n",
    "for key, value in trial.params.items():\n",
    "    print(f'    {key}: {value}')\n",
    "\n",
    "# Use the best parameters to train the final model\n",
    "best_params = study.best_params\n",
    "final_model = CatBoostRegressor(**best_params)\n",
    "final_model.fit(X_train, y_train)\n",
    "\n",
    "# Save the model\n",
    "final_model.save_model('catboost_model.cbm')\n",
    "\n",
    "# Load the model for predictions\n",
    "final_model = CatBoostRegressor()\n",
    "final_model.load_model('catboost_model.cbm')\n",
    "\n",
    "# Prepare test data\n",
    "X_test_final = test.drop(columns=['id'])\n",
    "\n",
    "# Make predictions\n",
    "predicted_values = final_model.predict(X_test_final)\n",
    "\n",
    "# Create a DataFrame for the results\n",
    "results_df = pd.DataFrame({\n",
    "    'id': test['id'],  # Include the ID for reference\n",
    "    'value_increased': predicted_values\n",
    "})\n",
    "\n",
    "# Display the results DataFrame\n",
    "print(results_df)\n"
   ]
  },
  {
   "cell_type": "markdown",
   "id": "8834ec6e-4dd9-45a0-b21c-7909729683d3",
   "metadata": {},
   "source": [
    "mean_value = results_df['value_increased'].mean()\n",
    "\n",
    "# Calculate Standard Deviation\n",
    "std_dev = results_df['value_increased'].std()\n",
    "\n",
    "# Calculate 75th Percentile\n",
    "percentile_75 = results_df['value_increased'].quantile(0.75)\n",
    "\n",
    "# Calculate Threshold based on Mean + 2 * Standard Deviation\n",
    "# threshold = mean_value + 2 * std_dev\n",
    "\n",
    "# Display the results\n",
    "print(f\"Mean: {mean_value}\")\n",
    "print(f\"Standard Deviation: {std_dev}\")\n",
    "print(f\"75th Percentile: {percentile_75}\")\n",
    "# print(f\"Threshold (Mean + 2 * Std Dev): {threshold}\")"
   ]
  },
  {
   "cell_type": "markdown",
   "id": "12efeb09-cd7f-49c3-bc23-e2ad78446224",
   "metadata": {},
   "source": [
    "threshold = 0.15623102074613418\n",
    "results_df['value_increased'] = (results_df['value_increased'] > threshold).astype(int)"
   ]
  },
  {
   "cell_type": "markdown",
   "id": "8b2495bf-0c0f-47a0-94dd-e89144a01155",
   "metadata": {},
   "source": [
    "results_df"
   ]
  },
  {
   "cell_type": "markdown",
   "id": "229d7ee9-aa10-4b75-8647-1a9ebbfa3fbe",
   "metadata": {
    "scrolled": true
   },
   "source": [
    "analyze_column(results_df, 'value_increased')"
   ]
  },
  {
   "cell_type": "markdown",
   "id": "0247399c-663e-4ff6-87d5-0d9206a5fe2c",
   "metadata": {},
   "source": [
    "results_df.to_csv('OC-ttS-optuna-wodrop.csv', index=False)"
   ]
  },
  {
   "cell_type": "code",
   "execution_count": null,
   "id": "498ee7d6-f40a-4537-9207-d69e4027b4a6",
   "metadata": {},
   "outputs": [],
   "source": []
  },
  {
   "cell_type": "code",
   "execution_count": null,
   "id": "d602059a-f2ed-4e4f-b465-88bbe2d99246",
   "metadata": {},
   "outputs": [],
   "source": []
  },
  {
   "cell_type": "code",
   "execution_count": null,
   "id": "68e7335b-4896-4e3b-b51c-784c48fe24c2",
   "metadata": {},
   "outputs": [],
   "source": []
  },
  {
   "cell_type": "code",
   "execution_count": null,
   "id": "c3191918-504b-4052-a60e-a6364222f2d4",
   "metadata": {},
   "outputs": [],
   "source": []
  },
  {
   "cell_type": "code",
   "execution_count": null,
   "id": "4d8b84f2-9b6e-4c4e-979e-404f352ca35d",
   "metadata": {},
   "outputs": [],
   "source": []
  },
  {
   "cell_type": "code",
   "execution_count": null,
   "id": "1a62369e-8f2f-4e7a-a94f-6e1087262977",
   "metadata": {},
   "outputs": [],
   "source": []
  },
  {
   "cell_type": "code",
   "execution_count": null,
   "id": "89423c32-5931-4ae9-af97-378021f41384",
   "metadata": {},
   "outputs": [],
   "source": []
  },
  {
   "cell_type": "code",
   "execution_count": null,
   "id": "0d485561-7c07-454a-8d20-b67f9243e562",
   "metadata": {},
   "outputs": [],
   "source": []
  },
  {
   "cell_type": "markdown",
   "id": "3984e9ca-9f04-4b1c-81d8-4588a131a68d",
   "metadata": {},
   "source": [
    "import pandas as pd\n",
    "from sklearn.model_selection import train_test_split\n",
    "from catboost import CatBoostRegressor\n",
    "from sklearn.metrics import accuracy_score, precision_score, recall_score, f1_score, confusion_matrix\n",
    "\n",
    "X = train.drop(columns=['value_increased', 'id'])\n",
    "y = train['value_increased']\n",
    "\n",
    "X_train, X_test, y_train, y_test = train_test_split(X, y, test_size=0.2, random_state=42)\n",
    "\n",
    "model = CatBoostRegressor(silent=True)\n",
    "\n",
    "model.fit(X_train, y_train)\n",
    "\n",
    "y_pred = model.predict(X_test)\n",
    "\n",
    "threshold = 0.5\n",
    "y_pred_binary = (y_pred > threshold).astype(int)\n",
    "\n",
    "# Calculate metrics\n",
    "accuracy = accuracy_score(y_test, y_pred_binary)\n",
    "precision = precision_score(y_test, y_pred_binary)\n",
    "recall = recall_score(y_test, y_pred_binary)\n",
    "tn, fp, fn, tp = confusion_matrix(y_test, y_pred_binary).ravel()\n",
    "macro_avg_tnr = tn / (tn + fp)  # True Negative Rate\n",
    "f1 = f1_score(y_test, y_pred_binary, average='micro')\n",
    "\n",
    "results = {\n",
    "    'Accuracy': accuracy,\n",
    "    'Precision': precision,\n",
    "    'Recall': recall,\n",
    "    'Macro Avg TNR': macro_avg_tnr,\n",
    "    'F1 Score': f1\n",
    "}\n",
    "\n",
    "# Create a DataFrame for results\n",
    "results_df = pd.DataFrame([results])\n",
    "print(results_df)\n",
    "\n",
    "# Save the model\n",
    "model.save_model('catboost_model.cbm')\n",
    "\n",
    "# Load the model for predictions\n",
    "model = CatBoostRegressor()\n",
    "model.load_model('catboost_model.cbm')\n",
    "\n",
    "# Prepare test data\n",
    "X_test_final = test.drop(columns=['id'])\n",
    "\n",
    "# Make predictions\n",
    "predicted_values = model.predict(X_test_final)\n",
    "\n",
    "# Create a DataFrame for the results\n",
    "results_df = pd.DataFrame({\n",
    "    'id': test['id'],  # Include the ID for reference\n",
    "    'value_increased': predicted_values\n",
    "})\n"
   ]
  },
  {
   "cell_type": "markdown",
   "id": "1a9383c4-27f7-4d0f-b2de-8146da3365a0",
   "metadata": {},
   "source": [
    "analyze_column(results_df, 'value_increased')"
   ]
  },
  {
   "cell_type": "markdown",
   "id": "1a5af2b0-bc9a-4a9e-b1e3-3726ec330296",
   "metadata": {},
   "source": [
    "mean_value = results_df['value_increased'].mean()\n",
    "\n",
    "# Calculate Standard Deviation\n",
    "std_dev = results_df['value_increased'].std()\n",
    "\n",
    "# Calculate 75th Percentile\n",
    "percentile_75 = results_df['value_increased'].quantile(0.75)\n",
    "\n",
    "# Calculate Threshold based on Mean + 2 * Standard Deviation\n",
    "threshold = mean_value + 2 * std_dev\n",
    "\n",
    "# Display the results\n",
    "print(f\"Mean: {mean_value}\")\n",
    "print(f\"Standard Deviation: {std_dev}\")\n",
    "print(f\"75th Percentile: {percentile_75}\")\n",
    "print(f\"Threshold (Mean + 2 * Std Dev): {threshold}\")"
   ]
  },
  {
   "cell_type": "markdown",
   "id": "6fe91956-612a-4288-8460-dd1f80ea17e2",
   "metadata": {
    "scrolled": true
   },
   "source": [
    "threshold = 0.015909 # en yüksek score burdan geldi ( test scale edilmedi)\n",
    "# threshold = 0.16573261999014152\n",
    "# threshold = 0.13683123347655846\n",
    "# threshold = 0.25082897240713037\n",
    "# threshold = 0.43939508694325846\n",
    "results_df['value_increased'] = (results_df['value_increased'] > threshold).astype(int)"
   ]
  },
  {
   "cell_type": "markdown",
   "id": "b27fd88c-cd96-4b08-b748-17eae77e928c",
   "metadata": {},
   "source": [
    "analyze_column(results_df, 'value_increased')"
   ]
  },
  {
   "cell_type": "markdown",
   "id": "47c0f796-88ee-4813-8cbf-f52b5ed21199",
   "metadata": {},
   "source": [
    "results_df"
   ]
  },
  {
   "cell_type": "code",
   "execution_count": 50,
   "id": "1a296137-7ebf-464f-9f05-d2fb2260a98a",
   "metadata": {},
   "outputs": [],
   "source": [
    "# results_df.to_csv('OC-ttS-th75perc.csv', index=False)"
   ]
  },
  {
   "cell_type": "code",
   "execution_count": null,
   "id": "29784254-858c-403e-a2ea-99e3338c1dc3",
   "metadata": {},
   "outputs": [],
   "source": []
  },
  {
   "cell_type": "code",
   "execution_count": null,
   "id": "98402bfd-4afe-42a3-b526-caa810d5c177",
   "metadata": {},
   "outputs": [],
   "source": []
  },
  {
   "cell_type": "code",
   "execution_count": null,
   "id": "3b8a666c-f5d2-4e1b-bb10-1b57325e5b19",
   "metadata": {},
   "outputs": [],
   "source": []
  },
  {
   "cell_type": "code",
   "execution_count": null,
   "id": "656f0a76-c294-427e-83b1-0600b0a2009c",
   "metadata": {},
   "outputs": [],
   "source": []
  },
  {
   "cell_type": "code",
   "execution_count": null,
   "id": "f403c471-1dc6-4e7f-9f73-4ae5eb8f3a41",
   "metadata": {},
   "outputs": [],
   "source": []
  },
  {
   "cell_type": "code",
   "execution_count": null,
   "id": "4d2a42a3-2d71-4491-a9b1-4b86afa574b3",
   "metadata": {},
   "outputs": [],
   "source": []
  },
  {
   "cell_type": "code",
   "execution_count": null,
   "id": "2a95c37c-39f3-494b-ac40-5235c069ed53",
   "metadata": {},
   "outputs": [],
   "source": []
  },
  {
   "cell_type": "code",
   "execution_count": null,
   "id": "90b12fe3-a250-4727-836c-4d183d4772bf",
   "metadata": {},
   "outputs": [],
   "source": []
  },
  {
   "cell_type": "code",
   "execution_count": null,
   "id": "c79d40ff-78b6-4c4d-b0c6-5f4792909a18",
   "metadata": {},
   "outputs": [],
   "source": []
  },
  {
   "cell_type": "code",
   "execution_count": 51,
   "id": "e065ebd5-33c3-434e-bc1c-a35231d44d81",
   "metadata": {},
   "outputs": [
    {
     "name": "stderr",
     "output_type": "stream",
     "text": [
      "[I 2024-09-26 19:48:12,834] A new study created in memory with name: no-name-37b74de6-47ca-4896-b565-3f02559c9534\n",
      "/var/folders/q7/w_hh_4ds07n_pl9zc0p1wxbc0000gn/T/ipykernel_5786/1525725235.py:21: FutureWarning: suggest_loguniform has been deprecated in v3.0.0. This feature will be removed in v6.0.0. See https://github.com/optuna/optuna/releases/tag/v3.0.0. Use suggest_float(..., log=True) instead.\n",
      "  learning_rate = trial.suggest_loguniform('learning_rate', 1e-5, 1)\n",
      "/var/folders/q7/w_hh_4ds07n_pl9zc0p1wxbc0000gn/T/ipykernel_5786/1525725235.py:22: FutureWarning: suggest_loguniform has been deprecated in v3.0.0. This feature will be removed in v6.0.0. See https://github.com/optuna/optuna/releases/tag/v3.0.0. Use suggest_float(..., log=True) instead.\n",
      "  l2_leaf_reg = trial.suggest_loguniform('l2_leaf_reg', 1e-5, 10)\n",
      "[I 2024-09-26 19:48:14,238] Trial 0 finished with value: 0.946236559139785 and parameters: {'depth': 7, 'learning_rate': 0.003912498907894198, 'l2_leaf_reg': 0.28757600837191283, 'iterations': 908}. Best is trial 0 with value: 0.946236559139785.\n",
      "/var/folders/q7/w_hh_4ds07n_pl9zc0p1wxbc0000gn/T/ipykernel_5786/1525725235.py:21: FutureWarning: suggest_loguniform has been deprecated in v3.0.0. This feature will be removed in v6.0.0. See https://github.com/optuna/optuna/releases/tag/v3.0.0. Use suggest_float(..., log=True) instead.\n",
      "  learning_rate = trial.suggest_loguniform('learning_rate', 1e-5, 1)\n",
      "/var/folders/q7/w_hh_4ds07n_pl9zc0p1wxbc0000gn/T/ipykernel_5786/1525725235.py:22: FutureWarning: suggest_loguniform has been deprecated in v3.0.0. This feature will be removed in v6.0.0. See https://github.com/optuna/optuna/releases/tag/v3.0.0. Use suggest_float(..., log=True) instead.\n",
      "  l2_leaf_reg = trial.suggest_loguniform('l2_leaf_reg', 1e-5, 10)\n",
      "[I 2024-09-26 19:48:15,730] Trial 1 finished with value: 0.946236559139785 and parameters: {'depth': 8, 'learning_rate': 0.0006479796074036898, 'l2_leaf_reg': 1.4123599046156493e-05, 'iterations': 631}. Best is trial 0 with value: 0.946236559139785.\n",
      "/var/folders/q7/w_hh_4ds07n_pl9zc0p1wxbc0000gn/T/ipykernel_5786/1525725235.py:21: FutureWarning: suggest_loguniform has been deprecated in v3.0.0. This feature will be removed in v6.0.0. See https://github.com/optuna/optuna/releases/tag/v3.0.0. Use suggest_float(..., log=True) instead.\n",
      "  learning_rate = trial.suggest_loguniform('learning_rate', 1e-5, 1)\n",
      "/var/folders/q7/w_hh_4ds07n_pl9zc0p1wxbc0000gn/T/ipykernel_5786/1525725235.py:22: FutureWarning: suggest_loguniform has been deprecated in v3.0.0. This feature will be removed in v6.0.0. See https://github.com/optuna/optuna/releases/tag/v3.0.0. Use suggest_float(..., log=True) instead.\n",
      "  l2_leaf_reg = trial.suggest_loguniform('l2_leaf_reg', 1e-5, 10)\n",
      "[I 2024-09-26 19:48:17,900] Trial 2 finished with value: 0.946236559139785 and parameters: {'depth': 8, 'learning_rate': 0.00020804308538004672, 'l2_leaf_reg': 3.08935613040526e-05, 'iterations': 947}. Best is trial 0 with value: 0.946236559139785.\n",
      "/var/folders/q7/w_hh_4ds07n_pl9zc0p1wxbc0000gn/T/ipykernel_5786/1525725235.py:21: FutureWarning: suggest_loguniform has been deprecated in v3.0.0. This feature will be removed in v6.0.0. See https://github.com/optuna/optuna/releases/tag/v3.0.0. Use suggest_float(..., log=True) instead.\n",
      "  learning_rate = trial.suggest_loguniform('learning_rate', 1e-5, 1)\n",
      "/var/folders/q7/w_hh_4ds07n_pl9zc0p1wxbc0000gn/T/ipykernel_5786/1525725235.py:22: FutureWarning: suggest_loguniform has been deprecated in v3.0.0. This feature will be removed in v6.0.0. See https://github.com/optuna/optuna/releases/tag/v3.0.0. Use suggest_float(..., log=True) instead.\n",
      "  l2_leaf_reg = trial.suggest_loguniform('l2_leaf_reg', 1e-5, 10)\n",
      "[I 2024-09-26 19:48:18,428] Trial 3 finished with value: 0.946236559139785 and parameters: {'depth': 6, 'learning_rate': 0.0014388137249108925, 'l2_leaf_reg': 0.18548610744639832, 'iterations': 651}. Best is trial 0 with value: 0.946236559139785.\n",
      "/var/folders/q7/w_hh_4ds07n_pl9zc0p1wxbc0000gn/T/ipykernel_5786/1525725235.py:21: FutureWarning: suggest_loguniform has been deprecated in v3.0.0. This feature will be removed in v6.0.0. See https://github.com/optuna/optuna/releases/tag/v3.0.0. Use suggest_float(..., log=True) instead.\n",
      "  learning_rate = trial.suggest_loguniform('learning_rate', 1e-5, 1)\n",
      "/var/folders/q7/w_hh_4ds07n_pl9zc0p1wxbc0000gn/T/ipykernel_5786/1525725235.py:22: FutureWarning: suggest_loguniform has been deprecated in v3.0.0. This feature will be removed in v6.0.0. See https://github.com/optuna/optuna/releases/tag/v3.0.0. Use suggest_float(..., log=True) instead.\n",
      "  l2_leaf_reg = trial.suggest_loguniform('l2_leaf_reg', 1e-5, 10)\n",
      "[I 2024-09-26 19:48:18,575] Trial 4 finished with value: 0.946236559139785 and parameters: {'depth': 4, 'learning_rate': 0.001573465738469378, 'l2_leaf_reg': 0.0007248220204913825, 'iterations': 360}. Best is trial 0 with value: 0.946236559139785.\n",
      "/var/folders/q7/w_hh_4ds07n_pl9zc0p1wxbc0000gn/T/ipykernel_5786/1525725235.py:21: FutureWarning: suggest_loguniform has been deprecated in v3.0.0. This feature will be removed in v6.0.0. See https://github.com/optuna/optuna/releases/tag/v3.0.0. Use suggest_float(..., log=True) instead.\n",
      "  learning_rate = trial.suggest_loguniform('learning_rate', 1e-5, 1)\n",
      "/var/folders/q7/w_hh_4ds07n_pl9zc0p1wxbc0000gn/T/ipykernel_5786/1525725235.py:22: FutureWarning: suggest_loguniform has been deprecated in v3.0.0. This feature will be removed in v6.0.0. See https://github.com/optuna/optuna/releases/tag/v3.0.0. Use suggest_float(..., log=True) instead.\n",
      "  l2_leaf_reg = trial.suggest_loguniform('l2_leaf_reg', 1e-5, 10)\n",
      "[I 2024-09-26 19:48:23,058] Trial 5 finished with value: 0.946236559139785 and parameters: {'depth': 10, 'learning_rate': 0.0816199181385241, 'l2_leaf_reg': 0.001809064924277586, 'iterations': 556}. Best is trial 0 with value: 0.946236559139785.\n",
      "/var/folders/q7/w_hh_4ds07n_pl9zc0p1wxbc0000gn/T/ipykernel_5786/1525725235.py:21: FutureWarning: suggest_loguniform has been deprecated in v3.0.0. This feature will be removed in v6.0.0. See https://github.com/optuna/optuna/releases/tag/v3.0.0. Use suggest_float(..., log=True) instead.\n",
      "  learning_rate = trial.suggest_loguniform('learning_rate', 1e-5, 1)\n",
      "/var/folders/q7/w_hh_4ds07n_pl9zc0p1wxbc0000gn/T/ipykernel_5786/1525725235.py:22: FutureWarning: suggest_loguniform has been deprecated in v3.0.0. This feature will be removed in v6.0.0. See https://github.com/optuna/optuna/releases/tag/v3.0.0. Use suggest_float(..., log=True) instead.\n",
      "  l2_leaf_reg = trial.suggest_loguniform('l2_leaf_reg', 1e-5, 10)\n",
      "[I 2024-09-26 19:48:23,340] Trial 6 finished with value: 0.946236559139785 and parameters: {'depth': 6, 'learning_rate': 0.00013911959240434384, 'l2_leaf_reg': 0.0023548320278092626, 'iterations': 290}. Best is trial 0 with value: 0.946236559139785.\n",
      "/var/folders/q7/w_hh_4ds07n_pl9zc0p1wxbc0000gn/T/ipykernel_5786/1525725235.py:21: FutureWarning: suggest_loguniform has been deprecated in v3.0.0. This feature will be removed in v6.0.0. See https://github.com/optuna/optuna/releases/tag/v3.0.0. Use suggest_float(..., log=True) instead.\n",
      "  learning_rate = trial.suggest_loguniform('learning_rate', 1e-5, 1)\n",
      "/var/folders/q7/w_hh_4ds07n_pl9zc0p1wxbc0000gn/T/ipykernel_5786/1525725235.py:22: FutureWarning: suggest_loguniform has been deprecated in v3.0.0. This feature will be removed in v6.0.0. See https://github.com/optuna/optuna/releases/tag/v3.0.0. Use suggest_float(..., log=True) instead.\n",
      "  l2_leaf_reg = trial.suggest_loguniform('l2_leaf_reg', 1e-5, 10)\n",
      "[I 2024-09-26 19:48:23,509] Trial 7 finished with value: 0.946236559139785 and parameters: {'depth': 4, 'learning_rate': 0.054331964243742516, 'l2_leaf_reg': 3.357910784992647e-05, 'iterations': 420}. Best is trial 0 with value: 0.946236559139785.\n",
      "/var/folders/q7/w_hh_4ds07n_pl9zc0p1wxbc0000gn/T/ipykernel_5786/1525725235.py:21: FutureWarning: suggest_loguniform has been deprecated in v3.0.0. This feature will be removed in v6.0.0. See https://github.com/optuna/optuna/releases/tag/v3.0.0. Use suggest_float(..., log=True) instead.\n",
      "  learning_rate = trial.suggest_loguniform('learning_rate', 1e-5, 1)\n",
      "/var/folders/q7/w_hh_4ds07n_pl9zc0p1wxbc0000gn/T/ipykernel_5786/1525725235.py:22: FutureWarning: suggest_loguniform has been deprecated in v3.0.0. This feature will be removed in v6.0.0. See https://github.com/optuna/optuna/releases/tag/v3.0.0. Use suggest_float(..., log=True) instead.\n",
      "  l2_leaf_reg = trial.suggest_loguniform('l2_leaf_reg', 1e-5, 10)\n",
      "[I 2024-09-26 19:48:23,928] Trial 8 finished with value: 0.9247311827956989 and parameters: {'depth': 5, 'learning_rate': 0.2779404112482937, 'l2_leaf_reg': 0.21433205457428842, 'iterations': 771}. Best is trial 0 with value: 0.946236559139785.\n",
      "/var/folders/q7/w_hh_4ds07n_pl9zc0p1wxbc0000gn/T/ipykernel_5786/1525725235.py:21: FutureWarning: suggest_loguniform has been deprecated in v3.0.0. This feature will be removed in v6.0.0. See https://github.com/optuna/optuna/releases/tag/v3.0.0. Use suggest_float(..., log=True) instead.\n",
      "  learning_rate = trial.suggest_loguniform('learning_rate', 1e-5, 1)\n",
      "/var/folders/q7/w_hh_4ds07n_pl9zc0p1wxbc0000gn/T/ipykernel_5786/1525725235.py:22: FutureWarning: suggest_loguniform has been deprecated in v3.0.0. This feature will be removed in v6.0.0. See https://github.com/optuna/optuna/releases/tag/v3.0.0. Use suggest_float(..., log=True) instead.\n",
      "  l2_leaf_reg = trial.suggest_loguniform('l2_leaf_reg', 1e-5, 10)\n",
      "[I 2024-09-26 19:48:24,114] Trial 9 finished with value: 0.956989247311828 and parameters: {'depth': 7, 'learning_rate': 0.06164358348865057, 'l2_leaf_reg': 0.8657964700720062, 'iterations': 136}. Best is trial 9 with value: 0.956989247311828.\n",
      "/var/folders/q7/w_hh_4ds07n_pl9zc0p1wxbc0000gn/T/ipykernel_5786/1525725235.py:21: FutureWarning: suggest_loguniform has been deprecated in v3.0.0. This feature will be removed in v6.0.0. See https://github.com/optuna/optuna/releases/tag/v3.0.0. Use suggest_float(..., log=True) instead.\n",
      "  learning_rate = trial.suggest_loguniform('learning_rate', 1e-5, 1)\n",
      "/var/folders/q7/w_hh_4ds07n_pl9zc0p1wxbc0000gn/T/ipykernel_5786/1525725235.py:22: FutureWarning: suggest_loguniform has been deprecated in v3.0.0. This feature will be removed in v6.0.0. See https://github.com/optuna/optuna/releases/tag/v3.0.0. Use suggest_float(..., log=True) instead.\n",
      "  l2_leaf_reg = trial.suggest_loguniform('l2_leaf_reg', 1e-5, 10)\n",
      "[I 2024-09-26 19:48:25,193] Trial 10 finished with value: 0.946236559139785 and parameters: {'depth': 10, 'learning_rate': 1.5214165409964694e-05, 'l2_leaf_reg': 9.971006216199562, 'iterations': 132}. Best is trial 9 with value: 0.956989247311828.\n",
      "/var/folders/q7/w_hh_4ds07n_pl9zc0p1wxbc0000gn/T/ipykernel_5786/1525725235.py:21: FutureWarning: suggest_loguniform has been deprecated in v3.0.0. This feature will be removed in v6.0.0. See https://github.com/optuna/optuna/releases/tag/v3.0.0. Use suggest_float(..., log=True) instead.\n",
      "  learning_rate = trial.suggest_loguniform('learning_rate', 1e-5, 1)\n",
      "/var/folders/q7/w_hh_4ds07n_pl9zc0p1wxbc0000gn/T/ipykernel_5786/1525725235.py:22: FutureWarning: suggest_loguniform has been deprecated in v3.0.0. This feature will be removed in v6.0.0. See https://github.com/optuna/optuna/releases/tag/v3.0.0. Use suggest_float(..., log=True) instead.\n",
      "  l2_leaf_reg = trial.suggest_loguniform('l2_leaf_reg', 1e-5, 10)\n",
      "[I 2024-09-26 19:48:27,429] Trial 11 finished with value: 0.946236559139785 and parameters: {'depth': 8, 'learning_rate': 0.014729945328528636, 'l2_leaf_reg': 0.4357802486739, 'iterations': 987}. Best is trial 9 with value: 0.956989247311828.\n",
      "/var/folders/q7/w_hh_4ds07n_pl9zc0p1wxbc0000gn/T/ipykernel_5786/1525725235.py:21: FutureWarning: suggest_loguniform has been deprecated in v3.0.0. This feature will be removed in v6.0.0. See https://github.com/optuna/optuna/releases/tag/v3.0.0. Use suggest_float(..., log=True) instead.\n",
      "  learning_rate = trial.suggest_loguniform('learning_rate', 1e-5, 1)\n",
      "/var/folders/q7/w_hh_4ds07n_pl9zc0p1wxbc0000gn/T/ipykernel_5786/1525725235.py:22: FutureWarning: suggest_loguniform has been deprecated in v3.0.0. This feature will be removed in v6.0.0. See https://github.com/optuna/optuna/releases/tag/v3.0.0. Use suggest_float(..., log=True) instead.\n",
      "  l2_leaf_reg = trial.suggest_loguniform('l2_leaf_reg', 1e-5, 10)\n",
      "[I 2024-09-26 19:48:28,475] Trial 12 finished with value: 0.946236559139785 and parameters: {'depth': 7, 'learning_rate': 0.013590179860697202, 'l2_leaf_reg': 3.484200312399692, 'iterations': 812}. Best is trial 9 with value: 0.956989247311828.\n",
      "/var/folders/q7/w_hh_4ds07n_pl9zc0p1wxbc0000gn/T/ipykernel_5786/1525725235.py:21: FutureWarning: suggest_loguniform has been deprecated in v3.0.0. This feature will be removed in v6.0.0. See https://github.com/optuna/optuna/releases/tag/v3.0.0. Use suggest_float(..., log=True) instead.\n",
      "  learning_rate = trial.suggest_loguniform('learning_rate', 1e-5, 1)\n",
      "/var/folders/q7/w_hh_4ds07n_pl9zc0p1wxbc0000gn/T/ipykernel_5786/1525725235.py:22: FutureWarning: suggest_loguniform has been deprecated in v3.0.0. This feature will be removed in v6.0.0. See https://github.com/optuna/optuna/releases/tag/v3.0.0. Use suggest_float(..., log=True) instead.\n",
      "  l2_leaf_reg = trial.suggest_loguniform('l2_leaf_reg', 1e-5, 10)\n",
      "[I 2024-09-26 19:48:28,697] Trial 13 finished with value: 0.7741935483870968 and parameters: {'depth': 7, 'learning_rate': 0.8583072879635851, 'l2_leaf_reg': 0.028064128368454597, 'iterations': 148}. Best is trial 9 with value: 0.956989247311828.\n",
      "/var/folders/q7/w_hh_4ds07n_pl9zc0p1wxbc0000gn/T/ipykernel_5786/1525725235.py:21: FutureWarning: suggest_loguniform has been deprecated in v3.0.0. This feature will be removed in v6.0.0. See https://github.com/optuna/optuna/releases/tag/v3.0.0. Use suggest_float(..., log=True) instead.\n",
      "  learning_rate = trial.suggest_loguniform('learning_rate', 1e-5, 1)\n",
      "/var/folders/q7/w_hh_4ds07n_pl9zc0p1wxbc0000gn/T/ipykernel_5786/1525725235.py:22: FutureWarning: suggest_loguniform has been deprecated in v3.0.0. This feature will be removed in v6.0.0. See https://github.com/optuna/optuna/releases/tag/v3.0.0. Use suggest_float(..., log=True) instead.\n",
      "  l2_leaf_reg = trial.suggest_loguniform('l2_leaf_reg', 1e-5, 10)\n",
      "[I 2024-09-26 19:48:30,896] Trial 14 finished with value: 0.946236559139785 and parameters: {'depth': 9, 'learning_rate': 0.007288461137053161, 'l2_leaf_reg': 1.5568799743258304, 'iterations': 464}. Best is trial 9 with value: 0.956989247311828.\n",
      "/var/folders/q7/w_hh_4ds07n_pl9zc0p1wxbc0000gn/T/ipykernel_5786/1525725235.py:21: FutureWarning: suggest_loguniform has been deprecated in v3.0.0. This feature will be removed in v6.0.0. See https://github.com/optuna/optuna/releases/tag/v3.0.0. Use suggest_float(..., log=True) instead.\n",
      "  learning_rate = trial.suggest_loguniform('learning_rate', 1e-5, 1)\n",
      "/var/folders/q7/w_hh_4ds07n_pl9zc0p1wxbc0000gn/T/ipykernel_5786/1525725235.py:22: FutureWarning: suggest_loguniform has been deprecated in v3.0.0. This feature will be removed in v6.0.0. See https://github.com/optuna/optuna/releases/tag/v3.0.0. Use suggest_float(..., log=True) instead.\n",
      "  l2_leaf_reg = trial.suggest_loguniform('l2_leaf_reg', 1e-5, 10)\n",
      "[I 2024-09-26 19:48:31,556] Trial 15 finished with value: 0.946236559139785 and parameters: {'depth': 6, 'learning_rate': 0.07367549960513554, 'l2_leaf_reg': 0.045670749257867044, 'iterations': 826}. Best is trial 9 with value: 0.956989247311828.\n",
      "/var/folders/q7/w_hh_4ds07n_pl9zc0p1wxbc0000gn/T/ipykernel_5786/1525725235.py:21: FutureWarning: suggest_loguniform has been deprecated in v3.0.0. This feature will be removed in v6.0.0. See https://github.com/optuna/optuna/releases/tag/v3.0.0. Use suggest_float(..., log=True) instead.\n",
      "  learning_rate = trial.suggest_loguniform('learning_rate', 1e-5, 1)\n",
      "/var/folders/q7/w_hh_4ds07n_pl9zc0p1wxbc0000gn/T/ipykernel_5786/1525725235.py:22: FutureWarning: suggest_loguniform has been deprecated in v3.0.0. This feature will be removed in v6.0.0. See https://github.com/optuna/optuna/releases/tag/v3.0.0. Use suggest_float(..., log=True) instead.\n",
      "  l2_leaf_reg = trial.suggest_loguniform('l2_leaf_reg', 1e-5, 10)\n",
      "[I 2024-09-26 19:48:31,871] Trial 16 finished with value: 0.946236559139785 and parameters: {'depth': 7, 'learning_rate': 0.004447569487726082, 'l2_leaf_reg': 0.8101551750136377, 'iterations': 221}. Best is trial 9 with value: 0.956989247311828.\n",
      "/var/folders/q7/w_hh_4ds07n_pl9zc0p1wxbc0000gn/T/ipykernel_5786/1525725235.py:21: FutureWarning: suggest_loguniform has been deprecated in v3.0.0. This feature will be removed in v6.0.0. See https://github.com/optuna/optuna/releases/tag/v3.0.0. Use suggest_float(..., log=True) instead.\n",
      "  learning_rate = trial.suggest_loguniform('learning_rate', 1e-5, 1)\n",
      "/var/folders/q7/w_hh_4ds07n_pl9zc0p1wxbc0000gn/T/ipykernel_5786/1525725235.py:22: FutureWarning: suggest_loguniform has been deprecated in v3.0.0. This feature will be removed in v6.0.0. See https://github.com/optuna/optuna/releases/tag/v3.0.0. Use suggest_float(..., log=True) instead.\n",
      "  l2_leaf_reg = trial.suggest_loguniform('l2_leaf_reg', 1e-5, 10)\n",
      "[I 2024-09-26 19:48:32,247] Trial 17 finished with value: 0.946236559139785 and parameters: {'depth': 5, 'learning_rate': 0.02829971901778187, 'l2_leaf_reg': 0.038751426593355925, 'iterations': 676}. Best is trial 9 with value: 0.956989247311828.\n",
      "/var/folders/q7/w_hh_4ds07n_pl9zc0p1wxbc0000gn/T/ipykernel_5786/1525725235.py:21: FutureWarning: suggest_loguniform has been deprecated in v3.0.0. This feature will be removed in v6.0.0. See https://github.com/optuna/optuna/releases/tag/v3.0.0. Use suggest_float(..., log=True) instead.\n",
      "  learning_rate = trial.suggest_loguniform('learning_rate', 1e-5, 1)\n",
      "/var/folders/q7/w_hh_4ds07n_pl9zc0p1wxbc0000gn/T/ipykernel_5786/1525725235.py:22: FutureWarning: suggest_loguniform has been deprecated in v3.0.0. This feature will be removed in v6.0.0. See https://github.com/optuna/optuna/releases/tag/v3.0.0. Use suggest_float(..., log=True) instead.\n",
      "  l2_leaf_reg = trial.suggest_loguniform('l2_leaf_reg', 1e-5, 10)\n",
      "[I 2024-09-26 19:48:33,640] Trial 18 finished with value: 0.9247311827956989 and parameters: {'depth': 9, 'learning_rate': 0.28480370750568423, 'l2_leaf_reg': 0.006416036628566314, 'iterations': 287}. Best is trial 9 with value: 0.956989247311828.\n",
      "/var/folders/q7/w_hh_4ds07n_pl9zc0p1wxbc0000gn/T/ipykernel_5786/1525725235.py:21: FutureWarning: suggest_loguniform has been deprecated in v3.0.0. This feature will be removed in v6.0.0. See https://github.com/optuna/optuna/releases/tag/v3.0.0. Use suggest_float(..., log=True) instead.\n",
      "  learning_rate = trial.suggest_loguniform('learning_rate', 1e-5, 1)\n",
      "/var/folders/q7/w_hh_4ds07n_pl9zc0p1wxbc0000gn/T/ipykernel_5786/1525725235.py:22: FutureWarning: suggest_loguniform has been deprecated in v3.0.0. This feature will be removed in v6.0.0. See https://github.com/optuna/optuna/releases/tag/v3.0.0. Use suggest_float(..., log=True) instead.\n",
      "  l2_leaf_reg = trial.suggest_loguniform('l2_leaf_reg', 1e-5, 10)\n",
      "[I 2024-09-26 19:48:36,094] Trial 19 finished with value: 0.946236559139785 and parameters: {'depth': 9, 'learning_rate': 1.6294084152993076e-05, 'l2_leaf_reg': 8.077732078556622, 'iterations': 520}. Best is trial 9 with value: 0.956989247311828.\n",
      "/var/folders/q7/w_hh_4ds07n_pl9zc0p1wxbc0000gn/T/ipykernel_5786/1525725235.py:21: FutureWarning: suggest_loguniform has been deprecated in v3.0.0. This feature will be removed in v6.0.0. See https://github.com/optuna/optuna/releases/tag/v3.0.0. Use suggest_float(..., log=True) instead.\n",
      "  learning_rate = trial.suggest_loguniform('learning_rate', 1e-5, 1)\n",
      "/var/folders/q7/w_hh_4ds07n_pl9zc0p1wxbc0000gn/T/ipykernel_5786/1525725235.py:22: FutureWarning: suggest_loguniform has been deprecated in v3.0.0. This feature will be removed in v6.0.0. See https://github.com/optuna/optuna/releases/tag/v3.0.0. Use suggest_float(..., log=True) instead.\n",
      "  l2_leaf_reg = trial.suggest_loguniform('l2_leaf_reg', 1e-5, 10)\n",
      "[I 2024-09-26 19:48:36,583] Trial 20 finished with value: 0.946236559139785 and parameters: {'depth': 5, 'learning_rate': 0.0003160619313118797, 'l2_leaf_reg': 0.08257823492065608, 'iterations': 904}. Best is trial 9 with value: 0.956989247311828.\n",
      "/var/folders/q7/w_hh_4ds07n_pl9zc0p1wxbc0000gn/T/ipykernel_5786/1525725235.py:21: FutureWarning: suggest_loguniform has been deprecated in v3.0.0. This feature will be removed in v6.0.0. See https://github.com/optuna/optuna/releases/tag/v3.0.0. Use suggest_float(..., log=True) instead.\n",
      "  learning_rate = trial.suggest_loguniform('learning_rate', 1e-5, 1)\n",
      "/var/folders/q7/w_hh_4ds07n_pl9zc0p1wxbc0000gn/T/ipykernel_5786/1525725235.py:22: FutureWarning: suggest_loguniform has been deprecated in v3.0.0. This feature will be removed in v6.0.0. See https://github.com/optuna/optuna/releases/tag/v3.0.0. Use suggest_float(..., log=True) instead.\n",
      "  l2_leaf_reg = trial.suggest_loguniform('l2_leaf_reg', 1e-5, 10)\n",
      "[I 2024-09-26 19:48:38,094] Trial 21 finished with value: 0.946236559139785 and parameters: {'depth': 8, 'learning_rate': 0.0006426166976837336, 'l2_leaf_reg': 0.0006144170515830089, 'iterations': 663}. Best is trial 9 with value: 0.956989247311828.\n",
      "/var/folders/q7/w_hh_4ds07n_pl9zc0p1wxbc0000gn/T/ipykernel_5786/1525725235.py:21: FutureWarning: suggest_loguniform has been deprecated in v3.0.0. This feature will be removed in v6.0.0. See https://github.com/optuna/optuna/releases/tag/v3.0.0. Use suggest_float(..., log=True) instead.\n",
      "  learning_rate = trial.suggest_loguniform('learning_rate', 1e-5, 1)\n",
      "/var/folders/q7/w_hh_4ds07n_pl9zc0p1wxbc0000gn/T/ipykernel_5786/1525725235.py:22: FutureWarning: suggest_loguniform has been deprecated in v3.0.0. This feature will be removed in v6.0.0. See https://github.com/optuna/optuna/releases/tag/v3.0.0. Use suggest_float(..., log=True) instead.\n",
      "  l2_leaf_reg = trial.suggest_loguniform('l2_leaf_reg', 1e-5, 10)\n",
      "[I 2024-09-26 19:48:39,035] Trial 22 finished with value: 0.946236559139785 and parameters: {'depth': 7, 'learning_rate': 7.28402746495078e-05, 'l2_leaf_reg': 0.00016425589459216747, 'iterations': 730}. Best is trial 9 with value: 0.956989247311828.\n",
      "/var/folders/q7/w_hh_4ds07n_pl9zc0p1wxbc0000gn/T/ipykernel_5786/1525725235.py:21: FutureWarning: suggest_loguniform has been deprecated in v3.0.0. This feature will be removed in v6.0.0. See https://github.com/optuna/optuna/releases/tag/v3.0.0. Use suggest_float(..., log=True) instead.\n",
      "  learning_rate = trial.suggest_loguniform('learning_rate', 1e-5, 1)\n",
      "/var/folders/q7/w_hh_4ds07n_pl9zc0p1wxbc0000gn/T/ipykernel_5786/1525725235.py:22: FutureWarning: suggest_loguniform has been deprecated in v3.0.0. This feature will be removed in v6.0.0. See https://github.com/optuna/optuna/releases/tag/v3.0.0. Use suggest_float(..., log=True) instead.\n",
      "  l2_leaf_reg = trial.suggest_loguniform('l2_leaf_reg', 1e-5, 10)\n",
      "[I 2024-09-26 19:48:40,355] Trial 23 finished with value: 0.946236559139785 and parameters: {'depth': 8, 'learning_rate': 0.002054727002753769, 'l2_leaf_reg': 0.008786959454114122, 'iterations': 573}. Best is trial 9 with value: 0.956989247311828.\n",
      "/var/folders/q7/w_hh_4ds07n_pl9zc0p1wxbc0000gn/T/ipykernel_5786/1525725235.py:21: FutureWarning: suggest_loguniform has been deprecated in v3.0.0. This feature will be removed in v6.0.0. See https://github.com/optuna/optuna/releases/tag/v3.0.0. Use suggest_float(..., log=True) instead.\n",
      "  learning_rate = trial.suggest_loguniform('learning_rate', 1e-5, 1)\n",
      "/var/folders/q7/w_hh_4ds07n_pl9zc0p1wxbc0000gn/T/ipykernel_5786/1525725235.py:22: FutureWarning: suggest_loguniform has been deprecated in v3.0.0. This feature will be removed in v6.0.0. See https://github.com/optuna/optuna/releases/tag/v3.0.0. Use suggest_float(..., log=True) instead.\n",
      "  l2_leaf_reg = trial.suggest_loguniform('l2_leaf_reg', 1e-5, 10)\n",
      "[I 2024-09-26 19:48:41,067] Trial 24 finished with value: 0.946236559139785 and parameters: {'depth': 6, 'learning_rate': 0.0006113461370943431, 'l2_leaf_reg': 1.4050092918551833e-05, 'iterations': 886}. Best is trial 9 with value: 0.956989247311828.\n",
      "/var/folders/q7/w_hh_4ds07n_pl9zc0p1wxbc0000gn/T/ipykernel_5786/1525725235.py:21: FutureWarning: suggest_loguniform has been deprecated in v3.0.0. This feature will be removed in v6.0.0. See https://github.com/optuna/optuna/releases/tag/v3.0.0. Use suggest_float(..., log=True) instead.\n",
      "  learning_rate = trial.suggest_loguniform('learning_rate', 1e-5, 1)\n",
      "/var/folders/q7/w_hh_4ds07n_pl9zc0p1wxbc0000gn/T/ipykernel_5786/1525725235.py:22: FutureWarning: suggest_loguniform has been deprecated in v3.0.0. This feature will be removed in v6.0.0. See https://github.com/optuna/optuna/releases/tag/v3.0.0. Use suggest_float(..., log=True) instead.\n",
      "  l2_leaf_reg = trial.suggest_loguniform('l2_leaf_reg', 1e-5, 10)\n",
      "[I 2024-09-26 19:48:41,950] Trial 25 finished with value: 0.946236559139785 and parameters: {'depth': 8, 'learning_rate': 0.0050243587707088045, 'l2_leaf_reg': 2.227360263272964, 'iterations': 369}. Best is trial 9 with value: 0.956989247311828.\n",
      "/var/folders/q7/w_hh_4ds07n_pl9zc0p1wxbc0000gn/T/ipykernel_5786/1525725235.py:21: FutureWarning: suggest_loguniform has been deprecated in v3.0.0. This feature will be removed in v6.0.0. See https://github.com/optuna/optuna/releases/tag/v3.0.0. Use suggest_float(..., log=True) instead.\n",
      "  learning_rate = trial.suggest_loguniform('learning_rate', 1e-5, 1)\n",
      "/var/folders/q7/w_hh_4ds07n_pl9zc0p1wxbc0000gn/T/ipykernel_5786/1525725235.py:22: FutureWarning: suggest_loguniform has been deprecated in v3.0.0. This feature will be removed in v6.0.0. See https://github.com/optuna/optuna/releases/tag/v3.0.0. Use suggest_float(..., log=True) instead.\n",
      "  l2_leaf_reg = trial.suggest_loguniform('l2_leaf_reg', 1e-5, 10)\n",
      "[I 2024-09-26 19:48:42,779] Trial 26 finished with value: 0.946236559139785 and parameters: {'depth': 7, 'learning_rate': 5.405569563484795e-05, 'l2_leaf_reg': 0.5580921502014272, 'iterations': 611}. Best is trial 9 with value: 0.956989247311828.\n",
      "/var/folders/q7/w_hh_4ds07n_pl9zc0p1wxbc0000gn/T/ipykernel_5786/1525725235.py:21: FutureWarning: suggest_loguniform has been deprecated in v3.0.0. This feature will be removed in v6.0.0. See https://github.com/optuna/optuna/releases/tag/v3.0.0. Use suggest_float(..., log=True) instead.\n",
      "  learning_rate = trial.suggest_loguniform('learning_rate', 1e-5, 1)\n",
      "/var/folders/q7/w_hh_4ds07n_pl9zc0p1wxbc0000gn/T/ipykernel_5786/1525725235.py:22: FutureWarning: suggest_loguniform has been deprecated in v3.0.0. This feature will be removed in v6.0.0. See https://github.com/optuna/optuna/releases/tag/v3.0.0. Use suggest_float(..., log=True) instead.\n",
      "  l2_leaf_reg = trial.suggest_loguniform('l2_leaf_reg', 1e-5, 10)\n",
      "[I 2024-09-26 19:48:45,139] Trial 27 finished with value: 0.946236559139785 and parameters: {'depth': 9, 'learning_rate': 0.0005057610262104932, 'l2_leaf_reg': 0.00013245121228714396, 'iterations': 490}. Best is trial 9 with value: 0.956989247311828.\n",
      "/var/folders/q7/w_hh_4ds07n_pl9zc0p1wxbc0000gn/T/ipykernel_5786/1525725235.py:21: FutureWarning: suggest_loguniform has been deprecated in v3.0.0. This feature will be removed in v6.0.0. See https://github.com/optuna/optuna/releases/tag/v3.0.0. Use suggest_float(..., log=True) instead.\n",
      "  learning_rate = trial.suggest_loguniform('learning_rate', 1e-5, 1)\n",
      "/var/folders/q7/w_hh_4ds07n_pl9zc0p1wxbc0000gn/T/ipykernel_5786/1525725235.py:22: FutureWarning: suggest_loguniform has been deprecated in v3.0.0. This feature will be removed in v6.0.0. See https://github.com/optuna/optuna/releases/tag/v3.0.0. Use suggest_float(..., log=True) instead.\n",
      "  l2_leaf_reg = trial.suggest_loguniform('l2_leaf_reg', 1e-5, 10)\n",
      "[I 2024-09-26 19:48:46,082] Trial 28 finished with value: 0.946236559139785 and parameters: {'depth': 7, 'learning_rate': 0.17434638120106902, 'l2_leaf_reg': 0.15086069573638836, 'iterations': 731}. Best is trial 9 with value: 0.956989247311828.\n",
      "/var/folders/q7/w_hh_4ds07n_pl9zc0p1wxbc0000gn/T/ipykernel_5786/1525725235.py:21: FutureWarning: suggest_loguniform has been deprecated in v3.0.0. This feature will be removed in v6.0.0. See https://github.com/optuna/optuna/releases/tag/v3.0.0. Use suggest_float(..., log=True) instead.\n",
      "  learning_rate = trial.suggest_loguniform('learning_rate', 1e-5, 1)\n",
      "/var/folders/q7/w_hh_4ds07n_pl9zc0p1wxbc0000gn/T/ipykernel_5786/1525725235.py:22: FutureWarning: suggest_loguniform has been deprecated in v3.0.0. This feature will be removed in v6.0.0. See https://github.com/optuna/optuna/releases/tag/v3.0.0. Use suggest_float(..., log=True) instead.\n",
      "  l2_leaf_reg = trial.suggest_loguniform('l2_leaf_reg', 1e-5, 10)\n",
      "[I 2024-09-26 19:48:48,409] Trial 29 finished with value: 0.8279569892473119 and parameters: {'depth': 8, 'learning_rate': 0.782293699597635, 'l2_leaf_reg': 0.018090108062137508, 'iterations': 1000}. Best is trial 9 with value: 0.956989247311828.\n",
      "/var/folders/q7/w_hh_4ds07n_pl9zc0p1wxbc0000gn/T/ipykernel_5786/1525725235.py:21: FutureWarning: suggest_loguniform has been deprecated in v3.0.0. This feature will be removed in v6.0.0. See https://github.com/optuna/optuna/releases/tag/v3.0.0. Use suggest_float(..., log=True) instead.\n",
      "  learning_rate = trial.suggest_loguniform('learning_rate', 1e-5, 1)\n",
      "/var/folders/q7/w_hh_4ds07n_pl9zc0p1wxbc0000gn/T/ipykernel_5786/1525725235.py:22: FutureWarning: suggest_loguniform has been deprecated in v3.0.0. This feature will be removed in v6.0.0. See https://github.com/optuna/optuna/releases/tag/v3.0.0. Use suggest_float(..., log=True) instead.\n",
      "  l2_leaf_reg = trial.suggest_loguniform('l2_leaf_reg', 1e-5, 10)\n",
      "[I 2024-09-26 19:48:49,102] Trial 30 finished with value: 0.946236559139785 and parameters: {'depth': 6, 'learning_rate': 0.00961166893207899, 'l2_leaf_reg': 7.049477052247225e-05, 'iterations': 865}. Best is trial 9 with value: 0.956989247311828.\n",
      "/var/folders/q7/w_hh_4ds07n_pl9zc0p1wxbc0000gn/T/ipykernel_5786/1525725235.py:21: FutureWarning: suggest_loguniform has been deprecated in v3.0.0. This feature will be removed in v6.0.0. See https://github.com/optuna/optuna/releases/tag/v3.0.0. Use suggest_float(..., log=True) instead.\n",
      "  learning_rate = trial.suggest_loguniform('learning_rate', 1e-5, 1)\n",
      "/var/folders/q7/w_hh_4ds07n_pl9zc0p1wxbc0000gn/T/ipykernel_5786/1525725235.py:22: FutureWarning: suggest_loguniform has been deprecated in v3.0.0. This feature will be removed in v6.0.0. See https://github.com/optuna/optuna/releases/tag/v3.0.0. Use suggest_float(..., log=True) instead.\n",
      "  l2_leaf_reg = trial.suggest_loguniform('l2_leaf_reg', 1e-5, 10)\n",
      "[I 2024-09-26 19:48:51,177] Trial 31 finished with value: 0.946236559139785 and parameters: {'depth': 8, 'learning_rate': 0.00010756972638836412, 'l2_leaf_reg': 2.8519742638319474e-05, 'iterations': 908}. Best is trial 9 with value: 0.956989247311828.\n",
      "/var/folders/q7/w_hh_4ds07n_pl9zc0p1wxbc0000gn/T/ipykernel_5786/1525725235.py:21: FutureWarning: suggest_loguniform has been deprecated in v3.0.0. This feature will be removed in v6.0.0. See https://github.com/optuna/optuna/releases/tag/v3.0.0. Use suggest_float(..., log=True) instead.\n",
      "  learning_rate = trial.suggest_loguniform('learning_rate', 1e-5, 1)\n",
      "/var/folders/q7/w_hh_4ds07n_pl9zc0p1wxbc0000gn/T/ipykernel_5786/1525725235.py:22: FutureWarning: suggest_loguniform has been deprecated in v3.0.0. This feature will be removed in v6.0.0. See https://github.com/optuna/optuna/releases/tag/v3.0.0. Use suggest_float(..., log=True) instead.\n",
      "  l2_leaf_reg = trial.suggest_loguniform('l2_leaf_reg', 1e-5, 10)\n",
      "[I 2024-09-26 19:48:53,472] Trial 32 finished with value: 0.946236559139785 and parameters: {'depth': 8, 'learning_rate': 0.0012918508381687044, 'l2_leaf_reg': 1.0955210003302633e-05, 'iterations': 938}. Best is trial 9 with value: 0.956989247311828.\n",
      "/var/folders/q7/w_hh_4ds07n_pl9zc0p1wxbc0000gn/T/ipykernel_5786/1525725235.py:21: FutureWarning: suggest_loguniform has been deprecated in v3.0.0. This feature will be removed in v6.0.0. See https://github.com/optuna/optuna/releases/tag/v3.0.0. Use suggest_float(..., log=True) instead.\n",
      "  learning_rate = trial.suggest_loguniform('learning_rate', 1e-5, 1)\n",
      "/var/folders/q7/w_hh_4ds07n_pl9zc0p1wxbc0000gn/T/ipykernel_5786/1525725235.py:22: FutureWarning: suggest_loguniform has been deprecated in v3.0.0. This feature will be removed in v6.0.0. See https://github.com/optuna/optuna/releases/tag/v3.0.0. Use suggest_float(..., log=True) instead.\n",
      "  l2_leaf_reg = trial.suggest_loguniform('l2_leaf_reg', 1e-5, 10)\n",
      "[I 2024-09-26 19:48:54,732] Trial 33 finished with value: 0.946236559139785 and parameters: {'depth': 7, 'learning_rate': 0.0002592458686457645, 'l2_leaf_reg': 0.0004355605034665204, 'iterations': 947}. Best is trial 9 with value: 0.956989247311828.\n",
      "/var/folders/q7/w_hh_4ds07n_pl9zc0p1wxbc0000gn/T/ipykernel_5786/1525725235.py:21: FutureWarning: suggest_loguniform has been deprecated in v3.0.0. This feature will be removed in v6.0.0. See https://github.com/optuna/optuna/releases/tag/v3.0.0. Use suggest_float(..., log=True) instead.\n",
      "  learning_rate = trial.suggest_loguniform('learning_rate', 1e-5, 1)\n",
      "/var/folders/q7/w_hh_4ds07n_pl9zc0p1wxbc0000gn/T/ipykernel_5786/1525725235.py:22: FutureWarning: suggest_loguniform has been deprecated in v3.0.0. This feature will be removed in v6.0.0. See https://github.com/optuna/optuna/releases/tag/v3.0.0. Use suggest_float(..., log=True) instead.\n",
      "  l2_leaf_reg = trial.suggest_loguniform('l2_leaf_reg', 1e-5, 10)\n",
      "[I 2024-09-26 19:48:58,365] Trial 34 finished with value: 0.946236559139785 and parameters: {'depth': 9, 'learning_rate': 0.0012648706360172094, 'l2_leaf_reg': 0.0034750996965295993, 'iterations': 765}. Best is trial 9 with value: 0.956989247311828.\n",
      "/var/folders/q7/w_hh_4ds07n_pl9zc0p1wxbc0000gn/T/ipykernel_5786/1525725235.py:21: FutureWarning: suggest_loguniform has been deprecated in v3.0.0. This feature will be removed in v6.0.0. See https://github.com/optuna/optuna/releases/tag/v3.0.0. Use suggest_float(..., log=True) instead.\n",
      "  learning_rate = trial.suggest_loguniform('learning_rate', 1e-5, 1)\n",
      "/var/folders/q7/w_hh_4ds07n_pl9zc0p1wxbc0000gn/T/ipykernel_5786/1525725235.py:22: FutureWarning: suggest_loguniform has been deprecated in v3.0.0. This feature will be removed in v6.0.0. See https://github.com/optuna/optuna/releases/tag/v3.0.0. Use suggest_float(..., log=True) instead.\n",
      "  l2_leaf_reg = trial.suggest_loguniform('l2_leaf_reg', 1e-5, 10)\n",
      "[I 2024-09-26 19:48:58,866] Trial 35 finished with value: 0.946236559139785 and parameters: {'depth': 6, 'learning_rate': 3.710292165922447e-05, 'l2_leaf_reg': 3.161002606771064e-05, 'iterations': 610}. Best is trial 9 with value: 0.956989247311828.\n",
      "/var/folders/q7/w_hh_4ds07n_pl9zc0p1wxbc0000gn/T/ipykernel_5786/1525725235.py:21: FutureWarning: suggest_loguniform has been deprecated in v3.0.0. This feature will be removed in v6.0.0. See https://github.com/optuna/optuna/releases/tag/v3.0.0. Use suggest_float(..., log=True) instead.\n",
      "  learning_rate = trial.suggest_loguniform('learning_rate', 1e-5, 1)\n",
      "/var/folders/q7/w_hh_4ds07n_pl9zc0p1wxbc0000gn/T/ipykernel_5786/1525725235.py:22: FutureWarning: suggest_loguniform has been deprecated in v3.0.0. This feature will be removed in v6.0.0. See https://github.com/optuna/optuna/releases/tag/v3.0.0. Use suggest_float(..., log=True) instead.\n",
      "  l2_leaf_reg = trial.suggest_loguniform('l2_leaf_reg', 1e-5, 10)\n",
      "[I 2024-09-26 19:49:00,772] Trial 36 finished with value: 0.946236559139785 and parameters: {'depth': 8, 'learning_rate': 0.002880617809879353, 'l2_leaf_reg': 0.00029345478696029225, 'iterations': 837}. Best is trial 9 with value: 0.956989247311828.\n",
      "/var/folders/q7/w_hh_4ds07n_pl9zc0p1wxbc0000gn/T/ipykernel_5786/1525725235.py:21: FutureWarning: suggest_loguniform has been deprecated in v3.0.0. This feature will be removed in v6.0.0. See https://github.com/optuna/optuna/releases/tag/v3.0.0. Use suggest_float(..., log=True) instead.\n",
      "  learning_rate = trial.suggest_loguniform('learning_rate', 1e-5, 1)\n",
      "/var/folders/q7/w_hh_4ds07n_pl9zc0p1wxbc0000gn/T/ipykernel_5786/1525725235.py:22: FutureWarning: suggest_loguniform has been deprecated in v3.0.0. This feature will be removed in v6.0.0. See https://github.com/optuna/optuna/releases/tag/v3.0.0. Use suggest_float(..., log=True) instead.\n",
      "  l2_leaf_reg = trial.suggest_loguniform('l2_leaf_reg', 1e-5, 10)\n",
      "[I 2024-09-26 19:49:01,135] Trial 37 finished with value: 0.946236559139785 and parameters: {'depth': 6, 'learning_rate': 0.0001986883885176987, 'l2_leaf_reg': 0.0013410959126952662, 'iterations': 415}. Best is trial 9 with value: 0.956989247311828.\n",
      "/var/folders/q7/w_hh_4ds07n_pl9zc0p1wxbc0000gn/T/ipykernel_5786/1525725235.py:21: FutureWarning: suggest_loguniform has been deprecated in v3.0.0. This feature will be removed in v6.0.0. See https://github.com/optuna/optuna/releases/tag/v3.0.0. Use suggest_float(..., log=True) instead.\n",
      "  learning_rate = trial.suggest_loguniform('learning_rate', 1e-5, 1)\n",
      "/var/folders/q7/w_hh_4ds07n_pl9zc0p1wxbc0000gn/T/ipykernel_5786/1525725235.py:22: FutureWarning: suggest_loguniform has been deprecated in v3.0.0. This feature will be removed in v6.0.0. See https://github.com/optuna/optuna/releases/tag/v3.0.0. Use suggest_float(..., log=True) instead.\n",
      "  l2_leaf_reg = trial.suggest_loguniform('l2_leaf_reg', 1e-5, 10)\n",
      "[I 2024-09-26 19:49:03,394] Trial 38 finished with value: 0.946236559139785 and parameters: {'depth': 10, 'learning_rate': 0.033908339423320916, 'l2_leaf_reg': 0.25351540386605775, 'iterations': 276}. Best is trial 9 with value: 0.956989247311828.\n",
      "/var/folders/q7/w_hh_4ds07n_pl9zc0p1wxbc0000gn/T/ipykernel_5786/1525725235.py:21: FutureWarning: suggest_loguniform has been deprecated in v3.0.0. This feature will be removed in v6.0.0. See https://github.com/optuna/optuna/releases/tag/v3.0.0. Use suggest_float(..., log=True) instead.\n",
      "  learning_rate = trial.suggest_loguniform('learning_rate', 1e-5, 1)\n",
      "/var/folders/q7/w_hh_4ds07n_pl9zc0p1wxbc0000gn/T/ipykernel_5786/1525725235.py:22: FutureWarning: suggest_loguniform has been deprecated in v3.0.0. This feature will be removed in v6.0.0. See https://github.com/optuna/optuna/releases/tag/v3.0.0. Use suggest_float(..., log=True) instead.\n",
      "  l2_leaf_reg = trial.suggest_loguniform('l2_leaf_reg', 1e-5, 10)\n",
      "[I 2024-09-26 19:49:03,729] Trial 39 finished with value: 0.946236559139785 and parameters: {'depth': 7, 'learning_rate': 0.00041020052993209424, 'l2_leaf_reg': 7.093811847009074e-05, 'iterations': 220}. Best is trial 9 with value: 0.956989247311828.\n",
      "/var/folders/q7/w_hh_4ds07n_pl9zc0p1wxbc0000gn/T/ipykernel_5786/1525725235.py:21: FutureWarning: suggest_loguniform has been deprecated in v3.0.0. This feature will be removed in v6.0.0. See https://github.com/optuna/optuna/releases/tag/v3.0.0. Use suggest_float(..., log=True) instead.\n",
      "  learning_rate = trial.suggest_loguniform('learning_rate', 1e-5, 1)\n",
      "/var/folders/q7/w_hh_4ds07n_pl9zc0p1wxbc0000gn/T/ipykernel_5786/1525725235.py:22: FutureWarning: suggest_loguniform has been deprecated in v3.0.0. This feature will be removed in v6.0.0. See https://github.com/optuna/optuna/releases/tag/v3.0.0. Use suggest_float(..., log=True) instead.\n",
      "  l2_leaf_reg = trial.suggest_loguniform('l2_leaf_reg', 1e-5, 10)\n",
      "[I 2024-09-26 19:49:05,355] Trial 40 finished with value: 0.946236559139785 and parameters: {'depth': 8, 'learning_rate': 0.0009578687338902477, 'l2_leaf_reg': 0.09409312785620805, 'iterations': 714}. Best is trial 9 with value: 0.956989247311828.\n",
      "/var/folders/q7/w_hh_4ds07n_pl9zc0p1wxbc0000gn/T/ipykernel_5786/1525725235.py:21: FutureWarning: suggest_loguniform has been deprecated in v3.0.0. This feature will be removed in v6.0.0. See https://github.com/optuna/optuna/releases/tag/v3.0.0. Use suggest_float(..., log=True) instead.\n",
      "  learning_rate = trial.suggest_loguniform('learning_rate', 1e-5, 1)\n",
      "/var/folders/q7/w_hh_4ds07n_pl9zc0p1wxbc0000gn/T/ipykernel_5786/1525725235.py:22: FutureWarning: suggest_loguniform has been deprecated in v3.0.0. This feature will be removed in v6.0.0. See https://github.com/optuna/optuna/releases/tag/v3.0.0. Use suggest_float(..., log=True) instead.\n",
      "  l2_leaf_reg = trial.suggest_loguniform('l2_leaf_reg', 1e-5, 10)\n",
      "[I 2024-09-26 19:49:05,687] Trial 41 finished with value: 0.946236559139785 and parameters: {'depth': 4, 'learning_rate': 0.002267578370606528, 'l2_leaf_reg': 0.9691583427869116, 'iterations': 794}. Best is trial 9 with value: 0.956989247311828.\n",
      "/var/folders/q7/w_hh_4ds07n_pl9zc0p1wxbc0000gn/T/ipykernel_5786/1525725235.py:21: FutureWarning: suggest_loguniform has been deprecated in v3.0.0. This feature will be removed in v6.0.0. See https://github.com/optuna/optuna/releases/tag/v3.0.0. Use suggest_float(..., log=True) instead.\n",
      "  learning_rate = trial.suggest_loguniform('learning_rate', 1e-5, 1)\n",
      "/var/folders/q7/w_hh_4ds07n_pl9zc0p1wxbc0000gn/T/ipykernel_5786/1525725235.py:22: FutureWarning: suggest_loguniform has been deprecated in v3.0.0. This feature will be removed in v6.0.0. See https://github.com/optuna/optuna/releases/tag/v3.0.0. Use suggest_float(..., log=True) instead.\n",
      "  l2_leaf_reg = trial.suggest_loguniform('l2_leaf_reg', 1e-5, 10)\n",
      "[I 2024-09-26 19:49:06,548] Trial 42 finished with value: 0.946236559139785 and parameters: {'depth': 7, 'learning_rate': 0.00015306730602068723, 'l2_leaf_reg': 0.26706632735754665, 'iterations': 663}. Best is trial 9 with value: 0.956989247311828.\n",
      "/var/folders/q7/w_hh_4ds07n_pl9zc0p1wxbc0000gn/T/ipykernel_5786/1525725235.py:21: FutureWarning: suggest_loguniform has been deprecated in v3.0.0. This feature will be removed in v6.0.0. See https://github.com/optuna/optuna/releases/tag/v3.0.0. Use suggest_float(..., log=True) instead.\n",
      "  learning_rate = trial.suggest_loguniform('learning_rate', 1e-5, 1)\n",
      "/var/folders/q7/w_hh_4ds07n_pl9zc0p1wxbc0000gn/T/ipykernel_5786/1525725235.py:22: FutureWarning: suggest_loguniform has been deprecated in v3.0.0. This feature will be removed in v6.0.0. See https://github.com/optuna/optuna/releases/tag/v3.0.0. Use suggest_float(..., log=True) instead.\n",
      "  l2_leaf_reg = trial.suggest_loguniform('l2_leaf_reg', 1e-5, 10)\n",
      "[I 2024-09-26 19:49:06,878] Trial 43 finished with value: 0.946236559139785 and parameters: {'depth': 5, 'learning_rate': 0.020600982388284644, 'l2_leaf_reg': 0.4104290614242486, 'iterations': 570}. Best is trial 9 with value: 0.956989247311828.\n",
      "/var/folders/q7/w_hh_4ds07n_pl9zc0p1wxbc0000gn/T/ipykernel_5786/1525725235.py:21: FutureWarning: suggest_loguniform has been deprecated in v3.0.0. This feature will be removed in v6.0.0. See https://github.com/optuna/optuna/releases/tag/v3.0.0. Use suggest_float(..., log=True) instead.\n",
      "  learning_rate = trial.suggest_loguniform('learning_rate', 1e-5, 1)\n",
      "/var/folders/q7/w_hh_4ds07n_pl9zc0p1wxbc0000gn/T/ipykernel_5786/1525725235.py:22: FutureWarning: suggest_loguniform has been deprecated in v3.0.0. This feature will be removed in v6.0.0. See https://github.com/optuna/optuna/releases/tag/v3.0.0. Use suggest_float(..., log=True) instead.\n",
      "  l2_leaf_reg = trial.suggest_loguniform('l2_leaf_reg', 1e-5, 10)\n",
      "[I 2024-09-26 19:49:06,992] Trial 44 finished with value: 0.946236559139785 and parameters: {'depth': 6, 'learning_rate': 0.0008633129059095936, 'l2_leaf_reg': 3.985708199960812, 'iterations': 106}. Best is trial 9 with value: 0.956989247311828.\n",
      "/var/folders/q7/w_hh_4ds07n_pl9zc0p1wxbc0000gn/T/ipykernel_5786/1525725235.py:21: FutureWarning: suggest_loguniform has been deprecated in v3.0.0. This feature will be removed in v6.0.0. See https://github.com/optuna/optuna/releases/tag/v3.0.0. Use suggest_float(..., log=True) instead.\n",
      "  learning_rate = trial.suggest_loguniform('learning_rate', 1e-5, 1)\n",
      "/var/folders/q7/w_hh_4ds07n_pl9zc0p1wxbc0000gn/T/ipykernel_5786/1525725235.py:22: FutureWarning: suggest_loguniform has been deprecated in v3.0.0. This feature will be removed in v6.0.0. See https://github.com/optuna/optuna/releases/tag/v3.0.0. Use suggest_float(..., log=True) instead.\n",
      "  l2_leaf_reg = trial.suggest_loguniform('l2_leaf_reg', 1e-5, 10)\n",
      "[I 2024-09-26 19:49:08,241] Trial 45 finished with value: 0.946236559139785 and parameters: {'depth': 7, 'learning_rate': 0.0052359022784270485, 'l2_leaf_reg': 1.2922748947461968, 'iterations': 954}. Best is trial 9 with value: 0.956989247311828.\n",
      "/var/folders/q7/w_hh_4ds07n_pl9zc0p1wxbc0000gn/T/ipykernel_5786/1525725235.py:21: FutureWarning: suggest_loguniform has been deprecated in v3.0.0. This feature will be removed in v6.0.0. See https://github.com/optuna/optuna/releases/tag/v3.0.0. Use suggest_float(..., log=True) instead.\n",
      "  learning_rate = trial.suggest_loguniform('learning_rate', 1e-5, 1)\n",
      "/var/folders/q7/w_hh_4ds07n_pl9zc0p1wxbc0000gn/T/ipykernel_5786/1525725235.py:22: FutureWarning: suggest_loguniform has been deprecated in v3.0.0. This feature will be removed in v6.0.0. See https://github.com/optuna/optuna/releases/tag/v3.0.0. Use suggest_float(..., log=True) instead.\n",
      "  l2_leaf_reg = trial.suggest_loguniform('l2_leaf_reg', 1e-5, 10)\n",
      "[I 2024-09-26 19:49:08,575] Trial 46 finished with value: 0.9354838709677419 and parameters: {'depth': 6, 'learning_rate': 0.11189174555087797, 'l2_leaf_reg': 1.97800202477841e-05, 'iterations': 350}. Best is trial 9 with value: 0.956989247311828.\n",
      "/var/folders/q7/w_hh_4ds07n_pl9zc0p1wxbc0000gn/T/ipykernel_5786/1525725235.py:21: FutureWarning: suggest_loguniform has been deprecated in v3.0.0. This feature will be removed in v6.0.0. See https://github.com/optuna/optuna/releases/tag/v3.0.0. Use suggest_float(..., log=True) instead.\n",
      "  learning_rate = trial.suggest_loguniform('learning_rate', 1e-5, 1)\n",
      "/var/folders/q7/w_hh_4ds07n_pl9zc0p1wxbc0000gn/T/ipykernel_5786/1525725235.py:22: FutureWarning: suggest_loguniform has been deprecated in v3.0.0. This feature will be removed in v6.0.0. See https://github.com/optuna/optuna/releases/tag/v3.0.0. Use suggest_float(..., log=True) instead.\n",
      "  l2_leaf_reg = trial.suggest_loguniform('l2_leaf_reg', 1e-5, 10)\n",
      "[I 2024-09-26 19:49:11,540] Trial 47 finished with value: 0.946236559139785 and parameters: {'depth': 9, 'learning_rate': 2.7575621950164577e-05, 'l2_leaf_reg': 0.019338381298448126, 'iterations': 624}. Best is trial 9 with value: 0.956989247311828.\n",
      "/var/folders/q7/w_hh_4ds07n_pl9zc0p1wxbc0000gn/T/ipykernel_5786/1525725235.py:21: FutureWarning: suggest_loguniform has been deprecated in v3.0.0. This feature will be removed in v6.0.0. See https://github.com/optuna/optuna/releases/tag/v3.0.0. Use suggest_float(..., log=True) instead.\n",
      "  learning_rate = trial.suggest_loguniform('learning_rate', 1e-5, 1)\n",
      "/var/folders/q7/w_hh_4ds07n_pl9zc0p1wxbc0000gn/T/ipykernel_5786/1525725235.py:22: FutureWarning: suggest_loguniform has been deprecated in v3.0.0. This feature will be removed in v6.0.0. See https://github.com/optuna/optuna/releases/tag/v3.0.0. Use suggest_float(..., log=True) instead.\n",
      "  l2_leaf_reg = trial.suggest_loguniform('l2_leaf_reg', 1e-5, 10)\n",
      "[I 2024-09-26 19:49:12,613] Trial 48 finished with value: 0.946236559139785 and parameters: {'depth': 8, 'learning_rate': 0.009745201843815984, 'l2_leaf_reg': 0.08517861062339821, 'iterations': 458}. Best is trial 9 with value: 0.956989247311828.\n",
      "/var/folders/q7/w_hh_4ds07n_pl9zc0p1wxbc0000gn/T/ipykernel_5786/1525725235.py:21: FutureWarning: suggest_loguniform has been deprecated in v3.0.0. This feature will be removed in v6.0.0. See https://github.com/optuna/optuna/releases/tag/v3.0.0. Use suggest_float(..., log=True) instead.\n",
      "  learning_rate = trial.suggest_loguniform('learning_rate', 1e-5, 1)\n",
      "/var/folders/q7/w_hh_4ds07n_pl9zc0p1wxbc0000gn/T/ipykernel_5786/1525725235.py:22: FutureWarning: suggest_loguniform has been deprecated in v3.0.0. This feature will be removed in v6.0.0. See https://github.com/optuna/optuna/releases/tag/v3.0.0. Use suggest_float(..., log=True) instead.\n",
      "  l2_leaf_reg = trial.suggest_loguniform('l2_leaf_reg', 1e-5, 10)\n",
      "[I 2024-09-26 19:49:13,375] Trial 49 finished with value: 0.956989247311828 and parameters: {'depth': 7, 'learning_rate': 0.04454144122255199, 'l2_leaf_reg': 3.6048777419692977, 'iterations': 528}. Best is trial 9 with value: 0.956989247311828.\n",
      "/var/folders/q7/w_hh_4ds07n_pl9zc0p1wxbc0000gn/T/ipykernel_5786/1525725235.py:21: FutureWarning: suggest_loguniform has been deprecated in v3.0.0. This feature will be removed in v6.0.0. See https://github.com/optuna/optuna/releases/tag/v3.0.0. Use suggest_float(..., log=True) instead.\n",
      "  learning_rate = trial.suggest_loguniform('learning_rate', 1e-5, 1)\n",
      "/var/folders/q7/w_hh_4ds07n_pl9zc0p1wxbc0000gn/T/ipykernel_5786/1525725235.py:22: FutureWarning: suggest_loguniform has been deprecated in v3.0.0. This feature will be removed in v6.0.0. See https://github.com/optuna/optuna/releases/tag/v3.0.0. Use suggest_float(..., log=True) instead.\n",
      "  l2_leaf_reg = trial.suggest_loguniform('l2_leaf_reg', 1e-5, 10)\n",
      "[I 2024-09-26 19:49:14,625] Trial 50 finished with value: 0.956989247311828 and parameters: {'depth': 7, 'learning_rate': 0.04702687840623481, 'l2_leaf_reg': 3.672664137323176, 'iterations': 852}. Best is trial 9 with value: 0.956989247311828.\n",
      "/var/folders/q7/w_hh_4ds07n_pl9zc0p1wxbc0000gn/T/ipykernel_5786/1525725235.py:21: FutureWarning: suggest_loguniform has been deprecated in v3.0.0. This feature will be removed in v6.0.0. See https://github.com/optuna/optuna/releases/tag/v3.0.0. Use suggest_float(..., log=True) instead.\n",
      "  learning_rate = trial.suggest_loguniform('learning_rate', 1e-5, 1)\n",
      "/var/folders/q7/w_hh_4ds07n_pl9zc0p1wxbc0000gn/T/ipykernel_5786/1525725235.py:22: FutureWarning: suggest_loguniform has been deprecated in v3.0.0. This feature will be removed in v6.0.0. See https://github.com/optuna/optuna/releases/tag/v3.0.0. Use suggest_float(..., log=True) instead.\n",
      "  l2_leaf_reg = trial.suggest_loguniform('l2_leaf_reg', 1e-5, 10)\n",
      "[I 2024-09-26 19:49:15,727] Trial 51 finished with value: 0.946236559139785 and parameters: {'depth': 7, 'learning_rate': 0.04214429919383001, 'l2_leaf_reg': 2.9462253230654474, 'iterations': 853}. Best is trial 9 with value: 0.956989247311828.\n",
      "/var/folders/q7/w_hh_4ds07n_pl9zc0p1wxbc0000gn/T/ipykernel_5786/1525725235.py:21: FutureWarning: suggest_loguniform has been deprecated in v3.0.0. This feature will be removed in v6.0.0. See https://github.com/optuna/optuna/releases/tag/v3.0.0. Use suggest_float(..., log=True) instead.\n",
      "  learning_rate = trial.suggest_loguniform('learning_rate', 1e-5, 1)\n",
      "/var/folders/q7/w_hh_4ds07n_pl9zc0p1wxbc0000gn/T/ipykernel_5786/1525725235.py:22: FutureWarning: suggest_loguniform has been deprecated in v3.0.0. This feature will be removed in v6.0.0. See https://github.com/optuna/optuna/releases/tag/v3.0.0. Use suggest_float(..., log=True) instead.\n",
      "  l2_leaf_reg = trial.suggest_loguniform('l2_leaf_reg', 1e-5, 10)\n",
      "[I 2024-09-26 19:49:17,030] Trial 52 finished with value: 0.956989247311828 and parameters: {'depth': 7, 'learning_rate': 0.06494067094709317, 'l2_leaf_reg': 6.682371030553167, 'iterations': 972}. Best is trial 9 with value: 0.956989247311828.\n",
      "/var/folders/q7/w_hh_4ds07n_pl9zc0p1wxbc0000gn/T/ipykernel_5786/1525725235.py:21: FutureWarning: suggest_loguniform has been deprecated in v3.0.0. This feature will be removed in v6.0.0. See https://github.com/optuna/optuna/releases/tag/v3.0.0. Use suggest_float(..., log=True) instead.\n",
      "  learning_rate = trial.suggest_loguniform('learning_rate', 1e-5, 1)\n",
      "/var/folders/q7/w_hh_4ds07n_pl9zc0p1wxbc0000gn/T/ipykernel_5786/1525725235.py:22: FutureWarning: suggest_loguniform has been deprecated in v3.0.0. This feature will be removed in v6.0.0. See https://github.com/optuna/optuna/releases/tag/v3.0.0. Use suggest_float(..., log=True) instead.\n",
      "  l2_leaf_reg = trial.suggest_loguniform('l2_leaf_reg', 1e-5, 10)\n",
      "[I 2024-09-26 19:49:18,314] Trial 53 finished with value: 0.946236559139785 and parameters: {'depth': 7, 'learning_rate': 0.07873860775141567, 'l2_leaf_reg': 6.573616907747592, 'iterations': 976}. Best is trial 9 with value: 0.956989247311828.\n",
      "/var/folders/q7/w_hh_4ds07n_pl9zc0p1wxbc0000gn/T/ipykernel_5786/1525725235.py:21: FutureWarning: suggest_loguniform has been deprecated in v3.0.0. This feature will be removed in v6.0.0. See https://github.com/optuna/optuna/releases/tag/v3.0.0. Use suggest_float(..., log=True) instead.\n",
      "  learning_rate = trial.suggest_loguniform('learning_rate', 1e-5, 1)\n",
      "/var/folders/q7/w_hh_4ds07n_pl9zc0p1wxbc0000gn/T/ipykernel_5786/1525725235.py:22: FutureWarning: suggest_loguniform has been deprecated in v3.0.0. This feature will be removed in v6.0.0. See https://github.com/optuna/optuna/releases/tag/v3.0.0. Use suggest_float(..., log=True) instead.\n",
      "  l2_leaf_reg = trial.suggest_loguniform('l2_leaf_reg', 1e-5, 10)\n",
      "[I 2024-09-26 19:49:19,514] Trial 54 finished with value: 0.9354838709677419 and parameters: {'depth': 7, 'learning_rate': 0.3984307842536673, 'l2_leaf_reg': 4.84089656187493, 'iterations': 921}. Best is trial 9 with value: 0.956989247311828.\n",
      "/var/folders/q7/w_hh_4ds07n_pl9zc0p1wxbc0000gn/T/ipykernel_5786/1525725235.py:21: FutureWarning: suggest_loguniform has been deprecated in v3.0.0. This feature will be removed in v6.0.0. See https://github.com/optuna/optuna/releases/tag/v3.0.0. Use suggest_float(..., log=True) instead.\n",
      "  learning_rate = trial.suggest_loguniform('learning_rate', 1e-5, 1)\n",
      "/var/folders/q7/w_hh_4ds07n_pl9zc0p1wxbc0000gn/T/ipykernel_5786/1525725235.py:22: FutureWarning: suggest_loguniform has been deprecated in v3.0.0. This feature will be removed in v6.0.0. See https://github.com/optuna/optuna/releases/tag/v3.0.0. Use suggest_float(..., log=True) instead.\n",
      "  l2_leaf_reg = trial.suggest_loguniform('l2_leaf_reg', 1e-5, 10)\n",
      "[I 2024-09-26 19:49:20,537] Trial 55 finished with value: 0.946236559139785 and parameters: {'depth': 7, 'learning_rate': 0.14417843520375578, 'l2_leaf_reg': 1.8445060915006617, 'iterations': 789}. Best is trial 9 with value: 0.956989247311828.\n",
      "/var/folders/q7/w_hh_4ds07n_pl9zc0p1wxbc0000gn/T/ipykernel_5786/1525725235.py:21: FutureWarning: suggest_loguniform has been deprecated in v3.0.0. This feature will be removed in v6.0.0. See https://github.com/optuna/optuna/releases/tag/v3.0.0. Use suggest_float(..., log=True) instead.\n",
      "  learning_rate = trial.suggest_loguniform('learning_rate', 1e-5, 1)\n",
      "/var/folders/q7/w_hh_4ds07n_pl9zc0p1wxbc0000gn/T/ipykernel_5786/1525725235.py:22: FutureWarning: suggest_loguniform has been deprecated in v3.0.0. This feature will be removed in v6.0.0. See https://github.com/optuna/optuna/releases/tag/v3.0.0. Use suggest_float(..., log=True) instead.\n",
      "  l2_leaf_reg = trial.suggest_loguniform('l2_leaf_reg', 1e-5, 10)\n",
      "[I 2024-09-26 19:49:21,783] Trial 56 finished with value: 0.946236559139785 and parameters: {'depth': 7, 'learning_rate': 0.05728708181723482, 'l2_leaf_reg': 9.364082023095769, 'iterations': 971}. Best is trial 9 with value: 0.956989247311828.\n",
      "/var/folders/q7/w_hh_4ds07n_pl9zc0p1wxbc0000gn/T/ipykernel_5786/1525725235.py:21: FutureWarning: suggest_loguniform has been deprecated in v3.0.0. This feature will be removed in v6.0.0. See https://github.com/optuna/optuna/releases/tag/v3.0.0. Use suggest_float(..., log=True) instead.\n",
      "  learning_rate = trial.suggest_loguniform('learning_rate', 1e-5, 1)\n",
      "/var/folders/q7/w_hh_4ds07n_pl9zc0p1wxbc0000gn/T/ipykernel_5786/1525725235.py:22: FutureWarning: suggest_loguniform has been deprecated in v3.0.0. This feature will be removed in v6.0.0. See https://github.com/optuna/optuna/releases/tag/v3.0.0. Use suggest_float(..., log=True) instead.\n",
      "  l2_leaf_reg = trial.suggest_loguniform('l2_leaf_reg', 1e-5, 10)\n",
      "[I 2024-09-26 19:49:23,812] Trial 57 finished with value: 0.956989247311828 and parameters: {'depth': 8, 'learning_rate': 0.020480081816548104, 'l2_leaf_reg': 0.6104253422531707, 'iterations': 881}. Best is trial 9 with value: 0.956989247311828.\n",
      "/var/folders/q7/w_hh_4ds07n_pl9zc0p1wxbc0000gn/T/ipykernel_5786/1525725235.py:21: FutureWarning: suggest_loguniform has been deprecated in v3.0.0. This feature will be removed in v6.0.0. See https://github.com/optuna/optuna/releases/tag/v3.0.0. Use suggest_float(..., log=True) instead.\n",
      "  learning_rate = trial.suggest_loguniform('learning_rate', 1e-5, 1)\n",
      "/var/folders/q7/w_hh_4ds07n_pl9zc0p1wxbc0000gn/T/ipykernel_5786/1525725235.py:22: FutureWarning: suggest_loguniform has been deprecated in v3.0.0. This feature will be removed in v6.0.0. See https://github.com/optuna/optuna/releases/tag/v3.0.0. Use suggest_float(..., log=True) instead.\n",
      "  l2_leaf_reg = trial.suggest_loguniform('l2_leaf_reg', 1e-5, 10)\n",
      "[I 2024-09-26 19:49:25,835] Trial 58 finished with value: 0.946236559139785 and parameters: {'depth': 8, 'learning_rate': 0.01971821779444621, 'l2_leaf_reg': 0.7822765141504228, 'iterations': 878}. Best is trial 9 with value: 0.956989247311828.\n",
      "/var/folders/q7/w_hh_4ds07n_pl9zc0p1wxbc0000gn/T/ipykernel_5786/1525725235.py:21: FutureWarning: suggest_loguniform has been deprecated in v3.0.0. This feature will be removed in v6.0.0. See https://github.com/optuna/optuna/releases/tag/v3.0.0. Use suggest_float(..., log=True) instead.\n",
      "  learning_rate = trial.suggest_loguniform('learning_rate', 1e-5, 1)\n",
      "/var/folders/q7/w_hh_4ds07n_pl9zc0p1wxbc0000gn/T/ipykernel_5786/1525725235.py:22: FutureWarning: suggest_loguniform has been deprecated in v3.0.0. This feature will be removed in v6.0.0. See https://github.com/optuna/optuna/releases/tag/v3.0.0. Use suggest_float(..., log=True) instead.\n",
      "  l2_leaf_reg = trial.suggest_loguniform('l2_leaf_reg', 1e-5, 10)\n",
      "[I 2024-09-26 19:49:26,908] Trial 59 finished with value: 0.946236559139785 and parameters: {'depth': 7, 'learning_rate': 0.022007617504949322, 'l2_leaf_reg': 2.9094640825272076, 'iterations': 828}. Best is trial 9 with value: 0.956989247311828.\n",
      "/var/folders/q7/w_hh_4ds07n_pl9zc0p1wxbc0000gn/T/ipykernel_5786/1525725235.py:21: FutureWarning: suggest_loguniform has been deprecated in v3.0.0. This feature will be removed in v6.0.0. See https://github.com/optuna/optuna/releases/tag/v3.0.0. Use suggest_float(..., log=True) instead.\n",
      "  learning_rate = trial.suggest_loguniform('learning_rate', 1e-5, 1)\n",
      "/var/folders/q7/w_hh_4ds07n_pl9zc0p1wxbc0000gn/T/ipykernel_5786/1525725235.py:22: FutureWarning: suggest_loguniform has been deprecated in v3.0.0. This feature will be removed in v6.0.0. See https://github.com/optuna/optuna/releases/tag/v3.0.0. Use suggest_float(..., log=True) instead.\n",
      "  l2_leaf_reg = trial.suggest_loguniform('l2_leaf_reg', 1e-5, 10)\n",
      "[I 2024-09-26 19:49:27,177] Trial 60 finished with value: 0.956989247311828 and parameters: {'depth': 7, 'learning_rate': 0.05274035258900467, 'l2_leaf_reg': 5.00316449970749, 'iterations': 179}. Best is trial 9 with value: 0.956989247311828.\n",
      "/var/folders/q7/w_hh_4ds07n_pl9zc0p1wxbc0000gn/T/ipykernel_5786/1525725235.py:21: FutureWarning: suggest_loguniform has been deprecated in v3.0.0. This feature will be removed in v6.0.0. See https://github.com/optuna/optuna/releases/tag/v3.0.0. Use suggest_float(..., log=True) instead.\n",
      "  learning_rate = trial.suggest_loguniform('learning_rate', 1e-5, 1)\n",
      "/var/folders/q7/w_hh_4ds07n_pl9zc0p1wxbc0000gn/T/ipykernel_5786/1525725235.py:22: FutureWarning: suggest_loguniform has been deprecated in v3.0.0. This feature will be removed in v6.0.0. See https://github.com/optuna/optuna/releases/tag/v3.0.0. Use suggest_float(..., log=True) instead.\n",
      "  l2_leaf_reg = trial.suggest_loguniform('l2_leaf_reg', 1e-5, 10)\n",
      "[I 2024-09-26 19:49:27,533] Trial 61 finished with value: 0.946236559139785 and parameters: {'depth': 7, 'learning_rate': 0.046265301002386044, 'l2_leaf_reg': 1.5574685261544456, 'iterations': 255}. Best is trial 9 with value: 0.956989247311828.\n",
      "/var/folders/q7/w_hh_4ds07n_pl9zc0p1wxbc0000gn/T/ipykernel_5786/1525725235.py:21: FutureWarning: suggest_loguniform has been deprecated in v3.0.0. This feature will be removed in v6.0.0. See https://github.com/optuna/optuna/releases/tag/v3.0.0. Use suggest_float(..., log=True) instead.\n",
      "  learning_rate = trial.suggest_loguniform('learning_rate', 1e-5, 1)\n",
      "/var/folders/q7/w_hh_4ds07n_pl9zc0p1wxbc0000gn/T/ipykernel_5786/1525725235.py:22: FutureWarning: suggest_loguniform has been deprecated in v3.0.0. This feature will be removed in v6.0.0. See https://github.com/optuna/optuna/releases/tag/v3.0.0. Use suggest_float(..., log=True) instead.\n",
      "  l2_leaf_reg = trial.suggest_loguniform('l2_leaf_reg', 1e-5, 10)\n",
      "[I 2024-09-26 19:49:27,791] Trial 62 finished with value: 0.946236559139785 and parameters: {'depth': 7, 'learning_rate': 0.2072518053881967, 'l2_leaf_reg': 5.092495329769413, 'iterations': 177}. Best is trial 9 with value: 0.956989247311828.\n",
      "/var/folders/q7/w_hh_4ds07n_pl9zc0p1wxbc0000gn/T/ipykernel_5786/1525725235.py:21: FutureWarning: suggest_loguniform has been deprecated in v3.0.0. This feature will be removed in v6.0.0. See https://github.com/optuna/optuna/releases/tag/v3.0.0. Use suggest_float(..., log=True) instead.\n",
      "  learning_rate = trial.suggest_loguniform('learning_rate', 1e-5, 1)\n",
      "/var/folders/q7/w_hh_4ds07n_pl9zc0p1wxbc0000gn/T/ipykernel_5786/1525725235.py:22: FutureWarning: suggest_loguniform has been deprecated in v3.0.0. This feature will be removed in v6.0.0. See https://github.com/optuna/optuna/releases/tag/v3.0.0. Use suggest_float(..., log=True) instead.\n",
      "  l2_leaf_reg = trial.suggest_loguniform('l2_leaf_reg', 1e-5, 10)\n",
      "[I 2024-09-26 19:49:27,964] Trial 63 finished with value: 0.946236559139785 and parameters: {'depth': 6, 'learning_rate': 0.11950745302351591, 'l2_leaf_reg': 0.6233315757265617, 'iterations': 161}. Best is trial 9 with value: 0.956989247311828.\n",
      "/var/folders/q7/w_hh_4ds07n_pl9zc0p1wxbc0000gn/T/ipykernel_5786/1525725235.py:21: FutureWarning: suggest_loguniform has been deprecated in v3.0.0. This feature will be removed in v6.0.0. See https://github.com/optuna/optuna/releases/tag/v3.0.0. Use suggest_float(..., log=True) instead.\n",
      "  learning_rate = trial.suggest_loguniform('learning_rate', 1e-5, 1)\n",
      "/var/folders/q7/w_hh_4ds07n_pl9zc0p1wxbc0000gn/T/ipykernel_5786/1525725235.py:22: FutureWarning: suggest_loguniform has been deprecated in v3.0.0. This feature will be removed in v6.0.0. See https://github.com/optuna/optuna/releases/tag/v3.0.0. Use suggest_float(..., log=True) instead.\n",
      "  l2_leaf_reg = trial.suggest_loguniform('l2_leaf_reg', 1e-5, 10)\n",
      "[I 2024-09-26 19:49:28,536] Trial 64 finished with value: 0.946236559139785 and parameters: {'depth': 8, 'learning_rate': 0.07517435824910539, 'l2_leaf_reg': 1.151347669745377, 'iterations': 192}. Best is trial 9 with value: 0.956989247311828.\n",
      "/var/folders/q7/w_hh_4ds07n_pl9zc0p1wxbc0000gn/T/ipykernel_5786/1525725235.py:21: FutureWarning: suggest_loguniform has been deprecated in v3.0.0. This feature will be removed in v6.0.0. See https://github.com/optuna/optuna/releases/tag/v3.0.0. Use suggest_float(..., log=True) instead.\n",
      "  learning_rate = trial.suggest_loguniform('learning_rate', 1e-5, 1)\n",
      "/var/folders/q7/w_hh_4ds07n_pl9zc0p1wxbc0000gn/T/ipykernel_5786/1525725235.py:22: FutureWarning: suggest_loguniform has been deprecated in v3.0.0. This feature will be removed in v6.0.0. See https://github.com/optuna/optuna/releases/tag/v3.0.0. Use suggest_float(..., log=True) instead.\n",
      "  l2_leaf_reg = trial.suggest_loguniform('l2_leaf_reg', 1e-5, 10)\n",
      "[I 2024-09-26 19:49:28,754] Trial 65 finished with value: 0.946236559139785 and parameters: {'depth': 7, 'learning_rate': 0.012369609019840251, 'l2_leaf_reg': 2.5073885985653033, 'iterations': 105}. Best is trial 9 with value: 0.956989247311828.\n",
      "/var/folders/q7/w_hh_4ds07n_pl9zc0p1wxbc0000gn/T/ipykernel_5786/1525725235.py:21: FutureWarning: suggest_loguniform has been deprecated in v3.0.0. This feature will be removed in v6.0.0. See https://github.com/optuna/optuna/releases/tag/v3.0.0. Use suggest_float(..., log=True) instead.\n",
      "  learning_rate = trial.suggest_loguniform('learning_rate', 1e-5, 1)\n",
      "/var/folders/q7/w_hh_4ds07n_pl9zc0p1wxbc0000gn/T/ipykernel_5786/1525725235.py:22: FutureWarning: suggest_loguniform has been deprecated in v3.0.0. This feature will be removed in v6.0.0. See https://github.com/optuna/optuna/releases/tag/v3.0.0. Use suggest_float(..., log=True) instead.\n",
      "  l2_leaf_reg = trial.suggest_loguniform('l2_leaf_reg', 1e-5, 10)\n",
      "[I 2024-09-26 19:49:29,112] Trial 66 finished with value: 0.946236559139785 and parameters: {'depth': 6, 'learning_rate': 0.03230118050894652, 'l2_leaf_reg': 6.944427179571064, 'iterations': 344}. Best is trial 9 with value: 0.956989247311828.\n",
      "/var/folders/q7/w_hh_4ds07n_pl9zc0p1wxbc0000gn/T/ipykernel_5786/1525725235.py:21: FutureWarning: suggest_loguniform has been deprecated in v3.0.0. This feature will be removed in v6.0.0. See https://github.com/optuna/optuna/releases/tag/v3.0.0. Use suggest_float(..., log=True) instead.\n",
      "  learning_rate = trial.suggest_loguniform('learning_rate', 1e-5, 1)\n",
      "/var/folders/q7/w_hh_4ds07n_pl9zc0p1wxbc0000gn/T/ipykernel_5786/1525725235.py:22: FutureWarning: suggest_loguniform has been deprecated in v3.0.0. This feature will be removed in v6.0.0. See https://github.com/optuna/optuna/releases/tag/v3.0.0. Use suggest_float(..., log=True) instead.\n",
      "  l2_leaf_reg = trial.suggest_loguniform('l2_leaf_reg', 1e-5, 10)\n",
      "[I 2024-09-26 19:49:30,293] Trial 67 finished with value: 0.8924731182795699 and parameters: {'depth': 7, 'learning_rate': 0.3481827772228801, 'l2_leaf_reg': 0.4758133592487486, 'iterations': 901}. Best is trial 9 with value: 0.956989247311828.\n",
      "/var/folders/q7/w_hh_4ds07n_pl9zc0p1wxbc0000gn/T/ipykernel_5786/1525725235.py:21: FutureWarning: suggest_loguniform has been deprecated in v3.0.0. This feature will be removed in v6.0.0. See https://github.com/optuna/optuna/releases/tag/v3.0.0. Use suggest_float(..., log=True) instead.\n",
      "  learning_rate = trial.suggest_loguniform('learning_rate', 1e-5, 1)\n",
      "/var/folders/q7/w_hh_4ds07n_pl9zc0p1wxbc0000gn/T/ipykernel_5786/1525725235.py:22: FutureWarning: suggest_loguniform has been deprecated in v3.0.0. This feature will be removed in v6.0.0. See https://github.com/optuna/optuna/releases/tag/v3.0.0. Use suggest_float(..., log=True) instead.\n",
      "  l2_leaf_reg = trial.suggest_loguniform('l2_leaf_reg', 1e-5, 10)\n",
      "[I 2024-09-26 19:49:30,657] Trial 68 finished with value: 0.946236559139785 and parameters: {'depth': 8, 'learning_rate': 0.05938831441628515, 'l2_leaf_reg': 4.010915995623579, 'iterations': 141}. Best is trial 9 with value: 0.956989247311828.\n",
      "/var/folders/q7/w_hh_4ds07n_pl9zc0p1wxbc0000gn/T/ipykernel_5786/1525725235.py:21: FutureWarning: suggest_loguniform has been deprecated in v3.0.0. This feature will be removed in v6.0.0. See https://github.com/optuna/optuna/releases/tag/v3.0.0. Use suggest_float(..., log=True) instead.\n",
      "  learning_rate = trial.suggest_loguniform('learning_rate', 1e-5, 1)\n",
      "/var/folders/q7/w_hh_4ds07n_pl9zc0p1wxbc0000gn/T/ipykernel_5786/1525725235.py:22: FutureWarning: suggest_loguniform has been deprecated in v3.0.0. This feature will be removed in v6.0.0. See https://github.com/optuna/optuna/releases/tag/v3.0.0. Use suggest_float(..., log=True) instead.\n",
      "  l2_leaf_reg = trial.suggest_loguniform('l2_leaf_reg', 1e-5, 10)\n",
      "[I 2024-09-26 19:49:31,842] Trial 69 finished with value: 0.956989247311828 and parameters: {'depth': 7, 'learning_rate': 0.10095913209399739, 'l2_leaf_reg': 2.0072976372005056, 'iterations': 927}. Best is trial 9 with value: 0.956989247311828.\n",
      "/var/folders/q7/w_hh_4ds07n_pl9zc0p1wxbc0000gn/T/ipykernel_5786/1525725235.py:21: FutureWarning: suggest_loguniform has been deprecated in v3.0.0. This feature will be removed in v6.0.0. See https://github.com/optuna/optuna/releases/tag/v3.0.0. Use suggest_float(..., log=True) instead.\n",
      "  learning_rate = trial.suggest_loguniform('learning_rate', 1e-5, 1)\n",
      "/var/folders/q7/w_hh_4ds07n_pl9zc0p1wxbc0000gn/T/ipykernel_5786/1525725235.py:22: FutureWarning: suggest_loguniform has been deprecated in v3.0.0. This feature will be removed in v6.0.0. See https://github.com/optuna/optuna/releases/tag/v3.0.0. Use suggest_float(..., log=True) instead.\n",
      "  l2_leaf_reg = trial.suggest_loguniform('l2_leaf_reg', 1e-5, 10)\n",
      "[I 2024-09-26 19:49:33,038] Trial 70 finished with value: 0.956989247311828 and parameters: {'depth': 7, 'learning_rate': 0.10437306059601562, 'l2_leaf_reg': 2.2808666016079537, 'iterations': 926}. Best is trial 9 with value: 0.956989247311828.\n",
      "/var/folders/q7/w_hh_4ds07n_pl9zc0p1wxbc0000gn/T/ipykernel_5786/1525725235.py:21: FutureWarning: suggest_loguniform has been deprecated in v3.0.0. This feature will be removed in v6.0.0. See https://github.com/optuna/optuna/releases/tag/v3.0.0. Use suggest_float(..., log=True) instead.\n",
      "  learning_rate = trial.suggest_loguniform('learning_rate', 1e-5, 1)\n",
      "/var/folders/q7/w_hh_4ds07n_pl9zc0p1wxbc0000gn/T/ipykernel_5786/1525725235.py:22: FutureWarning: suggest_loguniform has been deprecated in v3.0.0. This feature will be removed in v6.0.0. See https://github.com/optuna/optuna/releases/tag/v3.0.0. Use suggest_float(..., log=True) instead.\n",
      "  l2_leaf_reg = trial.suggest_loguniform('l2_leaf_reg', 1e-5, 10)\n",
      "[I 2024-09-26 19:49:34,243] Trial 71 finished with value: 0.946236559139785 and parameters: {'depth': 7, 'learning_rate': 0.09580733847981292, 'l2_leaf_reg': 1.9407767180754985, 'iterations': 929}. Best is trial 9 with value: 0.956989247311828.\n",
      "/var/folders/q7/w_hh_4ds07n_pl9zc0p1wxbc0000gn/T/ipykernel_5786/1525725235.py:21: FutureWarning: suggest_loguniform has been deprecated in v3.0.0. This feature will be removed in v6.0.0. See https://github.com/optuna/optuna/releases/tag/v3.0.0. Use suggest_float(..., log=True) instead.\n",
      "  learning_rate = trial.suggest_loguniform('learning_rate', 1e-5, 1)\n",
      "/var/folders/q7/w_hh_4ds07n_pl9zc0p1wxbc0000gn/T/ipykernel_5786/1525725235.py:22: FutureWarning: suggest_loguniform has been deprecated in v3.0.0. This feature will be removed in v6.0.0. See https://github.com/optuna/optuna/releases/tag/v3.0.0. Use suggest_float(..., log=True) instead.\n",
      "  l2_leaf_reg = trial.suggest_loguniform('l2_leaf_reg', 1e-5, 10)\n",
      "[I 2024-09-26 19:49:35,040] Trial 72 finished with value: 0.946236559139785 and parameters: {'depth': 6, 'learning_rate': 0.0271280055551537, 'l2_leaf_reg': 6.06508144635644, 'iterations': 993}. Best is trial 9 with value: 0.956989247311828.\n",
      "/var/folders/q7/w_hh_4ds07n_pl9zc0p1wxbc0000gn/T/ipykernel_5786/1525725235.py:21: FutureWarning: suggest_loguniform has been deprecated in v3.0.0. This feature will be removed in v6.0.0. See https://github.com/optuna/optuna/releases/tag/v3.0.0. Use suggest_float(..., log=True) instead.\n",
      "  learning_rate = trial.suggest_loguniform('learning_rate', 1e-5, 1)\n",
      "/var/folders/q7/w_hh_4ds07n_pl9zc0p1wxbc0000gn/T/ipykernel_5786/1525725235.py:22: FutureWarning: suggest_loguniform has been deprecated in v3.0.0. This feature will be removed in v6.0.0. See https://github.com/optuna/optuna/releases/tag/v3.0.0. Use suggest_float(..., log=True) instead.\n",
      "  l2_leaf_reg = trial.suggest_loguniform('l2_leaf_reg', 1e-5, 10)\n",
      "[I 2024-09-26 19:49:36,145] Trial 73 finished with value: 0.956989247311828 and parameters: {'depth': 7, 'learning_rate': 0.17292900038868758, 'l2_leaf_reg': 2.9070612099713515, 'iterations': 858}. Best is trial 9 with value: 0.956989247311828.\n",
      "/var/folders/q7/w_hh_4ds07n_pl9zc0p1wxbc0000gn/T/ipykernel_5786/1525725235.py:21: FutureWarning: suggest_loguniform has been deprecated in v3.0.0. This feature will be removed in v6.0.0. See https://github.com/optuna/optuna/releases/tag/v3.0.0. Use suggest_float(..., log=True) instead.\n",
      "  learning_rate = trial.suggest_loguniform('learning_rate', 1e-5, 1)\n",
      "/var/folders/q7/w_hh_4ds07n_pl9zc0p1wxbc0000gn/T/ipykernel_5786/1525725235.py:22: FutureWarning: suggest_loguniform has been deprecated in v3.0.0. This feature will be removed in v6.0.0. See https://github.com/optuna/optuna/releases/tag/v3.0.0. Use suggest_float(..., log=True) instead.\n",
      "  l2_leaf_reg = trial.suggest_loguniform('l2_leaf_reg', 1e-5, 10)\n",
      "[I 2024-09-26 19:49:38,335] Trial 74 finished with value: 0.956989247311828 and parameters: {'depth': 8, 'learning_rate': 0.04964559432458378, 'l2_leaf_reg': 1.1353569350119224, 'iterations': 960}. Best is trial 9 with value: 0.956989247311828.\n",
      "/var/folders/q7/w_hh_4ds07n_pl9zc0p1wxbc0000gn/T/ipykernel_5786/1525725235.py:21: FutureWarning: suggest_loguniform has been deprecated in v3.0.0. This feature will be removed in v6.0.0. See https://github.com/optuna/optuna/releases/tag/v3.0.0. Use suggest_float(..., log=True) instead.\n",
      "  learning_rate = trial.suggest_loguniform('learning_rate', 1e-5, 1)\n",
      "/var/folders/q7/w_hh_4ds07n_pl9zc0p1wxbc0000gn/T/ipykernel_5786/1525725235.py:22: FutureWarning: suggest_loguniform has been deprecated in v3.0.0. This feature will be removed in v6.0.0. See https://github.com/optuna/optuna/releases/tag/v3.0.0. Use suggest_float(..., log=True) instead.\n",
      "  l2_leaf_reg = trial.suggest_loguniform('l2_leaf_reg', 1e-5, 10)\n",
      "[I 2024-09-26 19:49:39,063] Trial 75 finished with value: 0.946236559139785 and parameters: {'depth': 6, 'learning_rate': 0.2296973490693176, 'l2_leaf_reg': 9.214585897334791, 'iterations': 898}. Best is trial 9 with value: 0.956989247311828.\n",
      "/var/folders/q7/w_hh_4ds07n_pl9zc0p1wxbc0000gn/T/ipykernel_5786/1525725235.py:21: FutureWarning: suggest_loguniform has been deprecated in v3.0.0. This feature will be removed in v6.0.0. See https://github.com/optuna/optuna/releases/tag/v3.0.0. Use suggest_float(..., log=True) instead.\n",
      "  learning_rate = trial.suggest_loguniform('learning_rate', 1e-5, 1)\n",
      "/var/folders/q7/w_hh_4ds07n_pl9zc0p1wxbc0000gn/T/ipykernel_5786/1525725235.py:22: FutureWarning: suggest_loguniform has been deprecated in v3.0.0. This feature will be removed in v6.0.0. See https://github.com/optuna/optuna/releases/tag/v3.0.0. Use suggest_float(..., log=True) instead.\n",
      "  l2_leaf_reg = trial.suggest_loguniform('l2_leaf_reg', 1e-5, 10)\n",
      "[I 2024-09-26 19:49:40,251] Trial 76 finished with value: 0.9247311827956989 and parameters: {'depth': 7, 'learning_rate': 0.41994973391840795, 'l2_leaf_reg': 1.9764873386324968, 'iterations': 928}. Best is trial 9 with value: 0.956989247311828.\n",
      "/var/folders/q7/w_hh_4ds07n_pl9zc0p1wxbc0000gn/T/ipykernel_5786/1525725235.py:21: FutureWarning: suggest_loguniform has been deprecated in v3.0.0. This feature will be removed in v6.0.0. See https://github.com/optuna/optuna/releases/tag/v3.0.0. Use suggest_float(..., log=True) instead.\n",
      "  learning_rate = trial.suggest_loguniform('learning_rate', 1e-5, 1)\n",
      "/var/folders/q7/w_hh_4ds07n_pl9zc0p1wxbc0000gn/T/ipykernel_5786/1525725235.py:22: FutureWarning: suggest_loguniform has been deprecated in v3.0.0. This feature will be removed in v6.0.0. See https://github.com/optuna/optuna/releases/tag/v3.0.0. Use suggest_float(..., log=True) instead.\n",
      "  l2_leaf_reg = trial.suggest_loguniform('l2_leaf_reg', 1e-5, 10)\n",
      "[I 2024-09-26 19:49:40,949] Trial 77 finished with value: 0.8279569892473119 and parameters: {'depth': 7, 'learning_rate': 0.65513296494853, 'l2_leaf_reg': 0.15793466006580986, 'iterations': 528}. Best is trial 9 with value: 0.956989247311828.\n",
      "/var/folders/q7/w_hh_4ds07n_pl9zc0p1wxbc0000gn/T/ipykernel_5786/1525725235.py:21: FutureWarning: suggest_loguniform has been deprecated in v3.0.0. This feature will be removed in v6.0.0. See https://github.com/optuna/optuna/releases/tag/v3.0.0. Use suggest_float(..., log=True) instead.\n",
      "  learning_rate = trial.suggest_loguniform('learning_rate', 1e-5, 1)\n",
      "/var/folders/q7/w_hh_4ds07n_pl9zc0p1wxbc0000gn/T/ipykernel_5786/1525725235.py:22: FutureWarning: suggest_loguniform has been deprecated in v3.0.0. This feature will be removed in v6.0.0. See https://github.com/optuna/optuna/releases/tag/v3.0.0. Use suggest_float(..., log=True) instead.\n",
      "  l2_leaf_reg = trial.suggest_loguniform('l2_leaf_reg', 1e-5, 10)\n",
      "[I 2024-09-26 19:49:41,384] Trial 78 finished with value: 0.946236559139785 and parameters: {'depth': 7, 'learning_rate': 0.03737270189697543, 'l2_leaf_reg': 0.7941382273390601, 'iterations': 317}. Best is trial 9 with value: 0.956989247311828.\n",
      "/var/folders/q7/w_hh_4ds07n_pl9zc0p1wxbc0000gn/T/ipykernel_5786/1525725235.py:21: FutureWarning: suggest_loguniform has been deprecated in v3.0.0. This feature will be removed in v6.0.0. See https://github.com/optuna/optuna/releases/tag/v3.0.0. Use suggest_float(..., log=True) instead.\n",
      "  learning_rate = trial.suggest_loguniform('learning_rate', 1e-5, 1)\n",
      "/var/folders/q7/w_hh_4ds07n_pl9zc0p1wxbc0000gn/T/ipykernel_5786/1525725235.py:22: FutureWarning: suggest_loguniform has been deprecated in v3.0.0. This feature will be removed in v6.0.0. See https://github.com/optuna/optuna/releases/tag/v3.0.0. Use suggest_float(..., log=True) instead.\n",
      "  l2_leaf_reg = trial.suggest_loguniform('l2_leaf_reg', 1e-5, 10)\n",
      "[I 2024-09-26 19:49:43,250] Trial 79 finished with value: 0.946236559139785 and parameters: {'depth': 8, 'learning_rate': 0.014513263069501549, 'l2_leaf_reg': 3.986253095050339, 'iterations': 814}. Best is trial 9 with value: 0.956989247311828.\n",
      "/var/folders/q7/w_hh_4ds07n_pl9zc0p1wxbc0000gn/T/ipykernel_5786/1525725235.py:21: FutureWarning: suggest_loguniform has been deprecated in v3.0.0. This feature will be removed in v6.0.0. See https://github.com/optuna/optuna/releases/tag/v3.0.0. Use suggest_float(..., log=True) instead.\n",
      "  learning_rate = trial.suggest_loguniform('learning_rate', 1e-5, 1)\n",
      "/var/folders/q7/w_hh_4ds07n_pl9zc0p1wxbc0000gn/T/ipykernel_5786/1525725235.py:22: FutureWarning: suggest_loguniform has been deprecated in v3.0.0. This feature will be removed in v6.0.0. See https://github.com/optuna/optuna/releases/tag/v3.0.0. Use suggest_float(..., log=True) instead.\n",
      "  l2_leaf_reg = trial.suggest_loguniform('l2_leaf_reg', 1e-5, 10)\n",
      "[I 2024-09-26 19:49:43,828] Trial 80 finished with value: 0.946236559139785 and parameters: {'depth': 6, 'learning_rate': 0.13695100863964496, 'l2_leaf_reg': 1.4584323307691338, 'iterations': 694}. Best is trial 9 with value: 0.956989247311828.\n",
      "/var/folders/q7/w_hh_4ds07n_pl9zc0p1wxbc0000gn/T/ipykernel_5786/1525725235.py:21: FutureWarning: suggest_loguniform has been deprecated in v3.0.0. This feature will be removed in v6.0.0. See https://github.com/optuna/optuna/releases/tag/v3.0.0. Use suggest_float(..., log=True) instead.\n",
      "  learning_rate = trial.suggest_loguniform('learning_rate', 1e-5, 1)\n",
      "/var/folders/q7/w_hh_4ds07n_pl9zc0p1wxbc0000gn/T/ipykernel_5786/1525725235.py:22: FutureWarning: suggest_loguniform has been deprecated in v3.0.0. This feature will be removed in v6.0.0. See https://github.com/optuna/optuna/releases/tag/v3.0.0. Use suggest_float(..., log=True) instead.\n",
      "  l2_leaf_reg = trial.suggest_loguniform('l2_leaf_reg', 1e-5, 10)\n",
      "[I 2024-09-26 19:49:44,957] Trial 81 finished with value: 0.946236559139785 and parameters: {'depth': 7, 'learning_rate': 0.16917152186393555, 'l2_leaf_reg': 2.973356673527143, 'iterations': 859}. Best is trial 9 with value: 0.956989247311828.\n",
      "/var/folders/q7/w_hh_4ds07n_pl9zc0p1wxbc0000gn/T/ipykernel_5786/1525725235.py:21: FutureWarning: suggest_loguniform has been deprecated in v3.0.0. This feature will be removed in v6.0.0. See https://github.com/optuna/optuna/releases/tag/v3.0.0. Use suggest_float(..., log=True) instead.\n",
      "  learning_rate = trial.suggest_loguniform('learning_rate', 1e-5, 1)\n",
      "/var/folders/q7/w_hh_4ds07n_pl9zc0p1wxbc0000gn/T/ipykernel_5786/1525725235.py:22: FutureWarning: suggest_loguniform has been deprecated in v3.0.0. This feature will be removed in v6.0.0. See https://github.com/optuna/optuna/releases/tag/v3.0.0. Use suggest_float(..., log=True) instead.\n",
      "  l2_leaf_reg = trial.suggest_loguniform('l2_leaf_reg', 1e-5, 10)\n",
      "[I 2024-09-26 19:49:46,084] Trial 82 finished with value: 0.956989247311828 and parameters: {'depth': 7, 'learning_rate': 0.08734238986089476, 'l2_leaf_reg': 0.3774172587593018, 'iterations': 873}. Best is trial 9 with value: 0.956989247311828.\n",
      "/var/folders/q7/w_hh_4ds07n_pl9zc0p1wxbc0000gn/T/ipykernel_5786/1525725235.py:21: FutureWarning: suggest_loguniform has been deprecated in v3.0.0. This feature will be removed in v6.0.0. See https://github.com/optuna/optuna/releases/tag/v3.0.0. Use suggest_float(..., log=True) instead.\n",
      "  learning_rate = trial.suggest_loguniform('learning_rate', 1e-5, 1)\n",
      "/var/folders/q7/w_hh_4ds07n_pl9zc0p1wxbc0000gn/T/ipykernel_5786/1525725235.py:22: FutureWarning: suggest_loguniform has been deprecated in v3.0.0. This feature will be removed in v6.0.0. See https://github.com/optuna/optuna/releases/tag/v3.0.0. Use suggest_float(..., log=True) instead.\n",
      "  l2_leaf_reg = trial.suggest_loguniform('l2_leaf_reg', 1e-5, 10)\n",
      "[I 2024-09-26 19:49:47,067] Trial 83 finished with value: 0.946236559139785 and parameters: {'depth': 7, 'learning_rate': 0.25242138642579637, 'l2_leaf_reg': 5.4295646196033625, 'iterations': 757}. Best is trial 9 with value: 0.956989247311828.\n",
      "/var/folders/q7/w_hh_4ds07n_pl9zc0p1wxbc0000gn/T/ipykernel_5786/1525725235.py:21: FutureWarning: suggest_loguniform has been deprecated in v3.0.0. This feature will be removed in v6.0.0. See https://github.com/optuna/optuna/releases/tag/v3.0.0. Use suggest_float(..., log=True) instead.\n",
      "  learning_rate = trial.suggest_loguniform('learning_rate', 1e-5, 1)\n",
      "/var/folders/q7/w_hh_4ds07n_pl9zc0p1wxbc0000gn/T/ipykernel_5786/1525725235.py:22: FutureWarning: suggest_loguniform has been deprecated in v3.0.0. This feature will be removed in v6.0.0. See https://github.com/optuna/optuna/releases/tag/v3.0.0. Use suggest_float(..., log=True) instead.\n",
      "  l2_leaf_reg = trial.suggest_loguniform('l2_leaf_reg', 1e-5, 10)\n",
      "[I 2024-09-26 19:49:48,311] Trial 84 finished with value: 0.956989247311828 and parameters: {'depth': 7, 'learning_rate': 0.102238377426692, 'l2_leaf_reg': 2.4699060175421037, 'iterations': 945}. Best is trial 9 with value: 0.956989247311828.\n",
      "/var/folders/q7/w_hh_4ds07n_pl9zc0p1wxbc0000gn/T/ipykernel_5786/1525725235.py:21: FutureWarning: suggest_loguniform has been deprecated in v3.0.0. This feature will be removed in v6.0.0. See https://github.com/optuna/optuna/releases/tag/v3.0.0. Use suggest_float(..., log=True) instead.\n",
      "  learning_rate = trial.suggest_loguniform('learning_rate', 1e-5, 1)\n",
      "/var/folders/q7/w_hh_4ds07n_pl9zc0p1wxbc0000gn/T/ipykernel_5786/1525725235.py:22: FutureWarning: suggest_loguniform has been deprecated in v3.0.0. This feature will be removed in v6.0.0. See https://github.com/optuna/optuna/releases/tag/v3.0.0. Use suggest_float(..., log=True) instead.\n",
      "  l2_leaf_reg = trial.suggest_loguniform('l2_leaf_reg', 1e-5, 10)\n",
      "[I 2024-09-26 19:49:49,065] Trial 85 finished with value: 0.946236559139785 and parameters: {'depth': 7, 'learning_rate': 0.06173562310053527, 'l2_leaf_reg': 3.6901121974216458, 'iterations': 411}. Best is trial 9 with value: 0.956989247311828.\n",
      "/var/folders/q7/w_hh_4ds07n_pl9zc0p1wxbc0000gn/T/ipykernel_5786/1525725235.py:21: FutureWarning: suggest_loguniform has been deprecated in v3.0.0. This feature will be removed in v6.0.0. See https://github.com/optuna/optuna/releases/tag/v3.0.0. Use suggest_float(..., log=True) instead.\n",
      "  learning_rate = trial.suggest_loguniform('learning_rate', 1e-5, 1)\n",
      "/var/folders/q7/w_hh_4ds07n_pl9zc0p1wxbc0000gn/T/ipykernel_5786/1525725235.py:22: FutureWarning: suggest_loguniform has been deprecated in v3.0.0. This feature will be removed in v6.0.0. See https://github.com/optuna/optuna/releases/tag/v3.0.0. Use suggest_float(..., log=True) instead.\n",
      "  l2_leaf_reg = trial.suggest_loguniform('l2_leaf_reg', 1e-5, 10)\n",
      "[I 2024-09-26 19:49:50,253] Trial 86 finished with value: 0.946236559139785 and parameters: {'depth': 7, 'learning_rate': 0.18056108245138427, 'l2_leaf_reg': 0.7350139114078726, 'iterations': 848}. Best is trial 9 with value: 0.956989247311828.\n",
      "/var/folders/q7/w_hh_4ds07n_pl9zc0p1wxbc0000gn/T/ipykernel_5786/1525725235.py:21: FutureWarning: suggest_loguniform has been deprecated in v3.0.0. This feature will be removed in v6.0.0. See https://github.com/optuna/optuna/releases/tag/v3.0.0. Use suggest_float(..., log=True) instead.\n",
      "  learning_rate = trial.suggest_loguniform('learning_rate', 1e-5, 1)\n",
      "/var/folders/q7/w_hh_4ds07n_pl9zc0p1wxbc0000gn/T/ipykernel_5786/1525725235.py:22: FutureWarning: suggest_loguniform has been deprecated in v3.0.0. This feature will be removed in v6.0.0. See https://github.com/optuna/optuna/releases/tag/v3.0.0. Use suggest_float(..., log=True) instead.\n",
      "  l2_leaf_reg = trial.suggest_loguniform('l2_leaf_reg', 1e-5, 10)\n",
      "[I 2024-09-26 19:49:52,407] Trial 87 finished with value: 0.946236559139785 and parameters: {'depth': 8, 'learning_rate': 0.02654571324491562, 'l2_leaf_reg': 7.584093237180824, 'iterations': 914}. Best is trial 9 with value: 0.956989247311828.\n",
      "/var/folders/q7/w_hh_4ds07n_pl9zc0p1wxbc0000gn/T/ipykernel_5786/1525725235.py:21: FutureWarning: suggest_loguniform has been deprecated in v3.0.0. This feature will be removed in v6.0.0. See https://github.com/optuna/optuna/releases/tag/v3.0.0. Use suggest_float(..., log=True) instead.\n",
      "  learning_rate = trial.suggest_loguniform('learning_rate', 1e-5, 1)\n",
      "/var/folders/q7/w_hh_4ds07n_pl9zc0p1wxbc0000gn/T/ipykernel_5786/1525725235.py:22: FutureWarning: suggest_loguniform has been deprecated in v3.0.0. This feature will be removed in v6.0.0. See https://github.com/optuna/optuna/releases/tag/v3.0.0. Use suggest_float(..., log=True) instead.\n",
      "  l2_leaf_reg = trial.suggest_loguniform('l2_leaf_reg', 1e-5, 10)\n",
      "[I 2024-09-26 19:49:53,548] Trial 88 finished with value: 0.9139784946236559 and parameters: {'depth': 7, 'learning_rate': 0.5156363505930065, 'l2_leaf_reg': 1.536751422819473, 'iterations': 885}. Best is trial 9 with value: 0.956989247311828.\n",
      "/var/folders/q7/w_hh_4ds07n_pl9zc0p1wxbc0000gn/T/ipykernel_5786/1525725235.py:21: FutureWarning: suggest_loguniform has been deprecated in v3.0.0. This feature will be removed in v6.0.0. See https://github.com/optuna/optuna/releases/tag/v3.0.0. Use suggest_float(..., log=True) instead.\n",
      "  learning_rate = trial.suggest_loguniform('learning_rate', 1e-5, 1)\n",
      "/var/folders/q7/w_hh_4ds07n_pl9zc0p1wxbc0000gn/T/ipykernel_5786/1525725235.py:22: FutureWarning: suggest_loguniform has been deprecated in v3.0.0. This feature will be removed in v6.0.0. See https://github.com/optuna/optuna/releases/tag/v3.0.0. Use suggest_float(..., log=True) instead.\n",
      "  l2_leaf_reg = trial.suggest_loguniform('l2_leaf_reg', 1e-5, 10)\n",
      "[I 2024-09-26 19:49:54,379] Trial 89 finished with value: 0.946236559139785 and parameters: {'depth': 6, 'learning_rate': 0.07056897510731264, 'l2_leaf_reg': 0.33757471927944044, 'iterations': 980}. Best is trial 9 with value: 0.956989247311828.\n",
      "/var/folders/q7/w_hh_4ds07n_pl9zc0p1wxbc0000gn/T/ipykernel_5786/1525725235.py:21: FutureWarning: suggest_loguniform has been deprecated in v3.0.0. This feature will be removed in v6.0.0. See https://github.com/optuna/optuna/releases/tag/v3.0.0. Use suggest_float(..., log=True) instead.\n",
      "  learning_rate = trial.suggest_loguniform('learning_rate', 1e-5, 1)\n",
      "/var/folders/q7/w_hh_4ds07n_pl9zc0p1wxbc0000gn/T/ipykernel_5786/1525725235.py:22: FutureWarning: suggest_loguniform has been deprecated in v3.0.0. This feature will be removed in v6.0.0. See https://github.com/optuna/optuna/releases/tag/v3.0.0. Use suggest_float(..., log=True) instead.\n",
      "  l2_leaf_reg = trial.suggest_loguniform('l2_leaf_reg', 1e-5, 10)\n",
      "[I 2024-09-26 19:49:54,738] Trial 90 finished with value: 0.946236559139785 and parameters: {'depth': 7, 'learning_rate': 0.04286852456001477, 'l2_leaf_reg': 0.9988243252737318, 'iterations': 232}. Best is trial 9 with value: 0.956989247311828.\n",
      "/var/folders/q7/w_hh_4ds07n_pl9zc0p1wxbc0000gn/T/ipykernel_5786/1525725235.py:21: FutureWarning: suggest_loguniform has been deprecated in v3.0.0. This feature will be removed in v6.0.0. See https://github.com/optuna/optuna/releases/tag/v3.0.0. Use suggest_float(..., log=True) instead.\n",
      "  learning_rate = trial.suggest_loguniform('learning_rate', 1e-5, 1)\n",
      "/var/folders/q7/w_hh_4ds07n_pl9zc0p1wxbc0000gn/T/ipykernel_5786/1525725235.py:22: FutureWarning: suggest_loguniform has been deprecated in v3.0.0. This feature will be removed in v6.0.0. See https://github.com/optuna/optuna/releases/tag/v3.0.0. Use suggest_float(..., log=True) instead.\n",
      "  l2_leaf_reg = trial.suggest_loguniform('l2_leaf_reg', 1e-5, 10)\n",
      "[I 2024-09-26 19:49:56,968] Trial 91 finished with value: 0.946236559139785 and parameters: {'depth': 8, 'learning_rate': 0.046745188060532815, 'l2_leaf_reg': 1.1556651669646634, 'iterations': 959}. Best is trial 9 with value: 0.956989247311828.\n",
      "/var/folders/q7/w_hh_4ds07n_pl9zc0p1wxbc0000gn/T/ipykernel_5786/1525725235.py:21: FutureWarning: suggest_loguniform has been deprecated in v3.0.0. This feature will be removed in v6.0.0. See https://github.com/optuna/optuna/releases/tag/v3.0.0. Use suggest_float(..., log=True) instead.\n",
      "  learning_rate = trial.suggest_loguniform('learning_rate', 1e-5, 1)\n",
      "/var/folders/q7/w_hh_4ds07n_pl9zc0p1wxbc0000gn/T/ipykernel_5786/1525725235.py:22: FutureWarning: suggest_loguniform has been deprecated in v3.0.0. This feature will be removed in v6.0.0. See https://github.com/optuna/optuna/releases/tag/v3.0.0. Use suggest_float(..., log=True) instead.\n",
      "  l2_leaf_reg = trial.suggest_loguniform('l2_leaf_reg', 1e-5, 10)\n",
      "[I 2024-09-26 19:49:59,384] Trial 92 finished with value: 0.946236559139785 and parameters: {'depth': 8, 'learning_rate': 0.04994921215391862, 'l2_leaf_reg': 2.2484177500041187, 'iterations': 954}. Best is trial 9 with value: 0.956989247311828.\n",
      "/var/folders/q7/w_hh_4ds07n_pl9zc0p1wxbc0000gn/T/ipykernel_5786/1525725235.py:21: FutureWarning: suggest_loguniform has been deprecated in v3.0.0. This feature will be removed in v6.0.0. See https://github.com/optuna/optuna/releases/tag/v3.0.0. Use suggest_float(..., log=True) instead.\n",
      "  learning_rate = trial.suggest_loguniform('learning_rate', 1e-5, 1)\n",
      "/var/folders/q7/w_hh_4ds07n_pl9zc0p1wxbc0000gn/T/ipykernel_5786/1525725235.py:22: FutureWarning: suggest_loguniform has been deprecated in v3.0.0. This feature will be removed in v6.0.0. See https://github.com/optuna/optuna/releases/tag/v3.0.0. Use suggest_float(..., log=True) instead.\n",
      "  l2_leaf_reg = trial.suggest_loguniform('l2_leaf_reg', 1e-5, 10)\n",
      "[I 2024-09-26 19:50:01,709] Trial 93 finished with value: 0.946236559139785 and parameters: {'depth': 8, 'learning_rate': 0.09872892288424798, 'l2_leaf_reg': 4.737445788490183, 'iterations': 996}. Best is trial 9 with value: 0.956989247311828.\n",
      "/var/folders/q7/w_hh_4ds07n_pl9zc0p1wxbc0000gn/T/ipykernel_5786/1525725235.py:21: FutureWarning: suggest_loguniform has been deprecated in v3.0.0. This feature will be removed in v6.0.0. See https://github.com/optuna/optuna/releases/tag/v3.0.0. Use suggest_float(..., log=True) instead.\n",
      "  learning_rate = trial.suggest_loguniform('learning_rate', 1e-5, 1)\n",
      "/var/folders/q7/w_hh_4ds07n_pl9zc0p1wxbc0000gn/T/ipykernel_5786/1525725235.py:22: FutureWarning: suggest_loguniform has been deprecated in v3.0.0. This feature will be removed in v6.0.0. See https://github.com/optuna/optuna/releases/tag/v3.0.0. Use suggest_float(..., log=True) instead.\n",
      "  l2_leaf_reg = trial.suggest_loguniform('l2_leaf_reg', 1e-5, 10)\n",
      "[I 2024-09-26 19:50:02,353] Trial 94 finished with value: 0.946236559139785 and parameters: {'depth': 9, 'learning_rate': 0.02095318168634873, 'l2_leaf_reg': 0.573089799022776, 'iterations': 127}. Best is trial 9 with value: 0.956989247311828.\n",
      "/var/folders/q7/w_hh_4ds07n_pl9zc0p1wxbc0000gn/T/ipykernel_5786/1525725235.py:21: FutureWarning: suggest_loguniform has been deprecated in v3.0.0. This feature will be removed in v6.0.0. See https://github.com/optuna/optuna/releases/tag/v3.0.0. Use suggest_float(..., log=True) instead.\n",
      "  learning_rate = trial.suggest_loguniform('learning_rate', 1e-5, 1)\n",
      "/var/folders/q7/w_hh_4ds07n_pl9zc0p1wxbc0000gn/T/ipykernel_5786/1525725235.py:22: FutureWarning: suggest_loguniform has been deprecated in v3.0.0. This feature will be removed in v6.0.0. See https://github.com/optuna/optuna/releases/tag/v3.0.0. Use suggest_float(..., log=True) instead.\n",
      "  l2_leaf_reg = trial.suggest_loguniform('l2_leaf_reg', 1e-5, 10)\n",
      "[I 2024-09-26 19:50:04,417] Trial 95 finished with value: 0.946236559139785 and parameters: {'depth': 8, 'learning_rate': 0.13606185508231, 'l2_leaf_reg': 3.405644965865976, 'iterations': 892}. Best is trial 9 with value: 0.956989247311828.\n",
      "/var/folders/q7/w_hh_4ds07n_pl9zc0p1wxbc0000gn/T/ipykernel_5786/1525725235.py:21: FutureWarning: suggest_loguniform has been deprecated in v3.0.0. This feature will be removed in v6.0.0. See https://github.com/optuna/optuna/releases/tag/v3.0.0. Use suggest_float(..., log=True) instead.\n",
      "  learning_rate = trial.suggest_loguniform('learning_rate', 1e-5, 1)\n",
      "/var/folders/q7/w_hh_4ds07n_pl9zc0p1wxbc0000gn/T/ipykernel_5786/1525725235.py:22: FutureWarning: suggest_loguniform has been deprecated in v3.0.0. This feature will be removed in v6.0.0. See https://github.com/optuna/optuna/releases/tag/v3.0.0. Use suggest_float(..., log=True) instead.\n",
      "  l2_leaf_reg = trial.suggest_loguniform('l2_leaf_reg', 1e-5, 10)\n",
      "[I 2024-09-26 19:50:05,466] Trial 96 finished with value: 0.946236559139785 and parameters: {'depth': 7, 'learning_rate': 0.033581869555036364, 'l2_leaf_reg': 1.6260600112672603, 'iterations': 804}. Best is trial 9 with value: 0.956989247311828.\n",
      "/var/folders/q7/w_hh_4ds07n_pl9zc0p1wxbc0000gn/T/ipykernel_5786/1525725235.py:21: FutureWarning: suggest_loguniform has been deprecated in v3.0.0. This feature will be removed in v6.0.0. See https://github.com/optuna/optuna/releases/tag/v3.0.0. Use suggest_float(..., log=True) instead.\n",
      "  learning_rate = trial.suggest_loguniform('learning_rate', 1e-5, 1)\n",
      "/var/folders/q7/w_hh_4ds07n_pl9zc0p1wxbc0000gn/T/ipykernel_5786/1525725235.py:22: FutureWarning: suggest_loguniform has been deprecated in v3.0.0. This feature will be removed in v6.0.0. See https://github.com/optuna/optuna/releases/tag/v3.0.0. Use suggest_float(..., log=True) instead.\n",
      "  l2_leaf_reg = trial.suggest_loguniform('l2_leaf_reg', 1e-5, 10)\n",
      "[I 2024-09-26 19:50:06,711] Trial 97 finished with value: 0.956989247311828 and parameters: {'depth': 7, 'learning_rate': 0.065420524043266, 'l2_leaf_reg': 1.039967668554396, 'iterations': 967}. Best is trial 9 with value: 0.956989247311828.\n",
      "/var/folders/q7/w_hh_4ds07n_pl9zc0p1wxbc0000gn/T/ipykernel_5786/1525725235.py:21: FutureWarning: suggest_loguniform has been deprecated in v3.0.0. This feature will be removed in v6.0.0. See https://github.com/optuna/optuna/releases/tag/v3.0.0. Use suggest_float(..., log=True) instead.\n",
      "  learning_rate = trial.suggest_loguniform('learning_rate', 1e-5, 1)\n",
      "/var/folders/q7/w_hh_4ds07n_pl9zc0p1wxbc0000gn/T/ipykernel_5786/1525725235.py:22: FutureWarning: suggest_loguniform has been deprecated in v3.0.0. This feature will be removed in v6.0.0. See https://github.com/optuna/optuna/releases/tag/v3.0.0. Use suggest_float(..., log=True) instead.\n",
      "  l2_leaf_reg = trial.suggest_loguniform('l2_leaf_reg', 1e-5, 10)\n",
      "[I 2024-09-26 19:50:08,861] Trial 98 finished with value: 0.946236559139785 and parameters: {'depth': 8, 'learning_rate': 0.017069129048049702, 'l2_leaf_reg': 2.4810855108408356, 'iterations': 932}. Best is trial 9 with value: 0.956989247311828.\n",
      "/var/folders/q7/w_hh_4ds07n_pl9zc0p1wxbc0000gn/T/ipykernel_5786/1525725235.py:21: FutureWarning: suggest_loguniform has been deprecated in v3.0.0. This feature will be removed in v6.0.0. See https://github.com/optuna/optuna/releases/tag/v3.0.0. Use suggest_float(..., log=True) instead.\n",
      "  learning_rate = trial.suggest_loguniform('learning_rate', 1e-5, 1)\n",
      "/var/folders/q7/w_hh_4ds07n_pl9zc0p1wxbc0000gn/T/ipykernel_5786/1525725235.py:22: FutureWarning: suggest_loguniform has been deprecated in v3.0.0. This feature will be removed in v6.0.0. See https://github.com/optuna/optuna/releases/tag/v3.0.0. Use suggest_float(..., log=True) instead.\n",
      "  l2_leaf_reg = trial.suggest_loguniform('l2_leaf_reg', 1e-5, 10)\n",
      "[I 2024-09-26 19:50:09,952] Trial 99 finished with value: 0.956989247311828 and parameters: {'depth': 7, 'learning_rate': 0.02675553553757431, 'l2_leaf_reg': 6.194250225875553, 'iterations': 844}. Best is trial 9 with value: 0.956989247311828.\n"
     ]
    },
    {
     "name": "stdout",
     "output_type": "stream",
     "text": [
      "Best trial:\n",
      "  F1 Score: 0.956989247311828\n",
      "  Best hyperparameters: \n",
      "    depth: 7\n",
      "    learning_rate: 0.06164358348865057\n",
      "    l2_leaf_reg: 0.8657964700720062\n",
      "    iterations: 136\n",
      "Feature Ranking by RFE:\n",
      "                   Feature  Ranking\n",
      "6                   Weight        1\n",
      "21            Anticipation        2\n",
      "38         Natural Fitness        3\n",
      "40                 Stamina        4\n",
      "22                 Bravery        5\n",
      "44               Dribbling        6\n",
      "20              Aggression        7\n",
      "51          Penalty Taking        8\n",
      "26           Determination        9\n",
      "33               Work Rate       10\n",
      "39                    Pace       11\n",
      "49             Long Throws       12\n",
      "45               Finishing       13\n",
      "0                  Ability       14\n",
      "5                   Height       15\n",
      "4                     Foot       16\n",
      "50                 Marking       17\n",
      "32                  Vision       18\n",
      "23               Composure       19\n",
      "30             Positioning       20\n",
      "28              Leadership       21\n",
      "46        Free Kick Taking       22\n",
      "31                Teamwork       23\n",
      "15                 Passing       24\n",
      "24           Concentration       25\n",
      "35                 Agility       26\n",
      "47                 Heading       27\n",
      "48              Long Shots       28\n",
      "34            Acceleration       29\n",
      "43                Crossing       30\n",
      "52                Tackling       31\n",
      "41                Strength       32\n",
      "25               Decisions       33\n",
      "29            Off the Ball       34\n",
      "36                 Balance       35\n",
      "37           Jumping Reach       36\n",
      "53               Technique       37\n",
      "42                 Corners       38\n",
      "27                   Flair       39\n",
      "2                Positions       40\n",
      "11             First Touch       41\n",
      "17                Reflexes       42\n",
      "3             Caps / Goals       43\n",
      "14             One on Ones       44\n",
      "13                 Kicking       45\n",
      "19                Throwing       46\n",
      "16     Punching (Tendency)       47\n",
      "10            Eccentricity       48\n",
      "18  Rushing Out (Tendency)       49\n",
      "9            Communication       50\n",
      "8          Command of Area       51\n",
      "1                Potential       52\n",
      "7             Aerial Reach       53\n",
      "12                Handling       54\n",
      "Evaluation Results with Optimal Features:\n",
      "   Accuracy  Precision  Recall  Macro Avg TNR  F1 Score\n",
      "0  0.946237        0.0     0.0            1.0  0.946237\n",
      "        id  value_increased\n",
      "0    13436         0.212202\n",
      "1    49790         0.159235\n",
      "2    73335         0.267301\n",
      "3    15949         0.073604\n",
      "4    26364         0.225991\n",
      "..     ...              ...\n",
      "305  54262         0.092022\n",
      "306  88859         0.268074\n",
      "307  79479         0.079941\n",
      "308  38016         0.265378\n",
      "309  61663         0.077289\n",
      "\n",
      "[310 rows x 2 columns]\n"
     ]
    },
    {
     "name": "stderr",
     "output_type": "stream",
     "text": [
      "/opt/anaconda3/lib/python3.12/site-packages/sklearn/metrics/_classification.py:1509: UndefinedMetricWarning: Precision is ill-defined and being set to 0.0 due to no predicted samples. Use `zero_division` parameter to control this behavior.\n",
      "  _warn_prf(average, modifier, f\"{metric.capitalize()} is\", len(result))\n"
     ]
    }
   ],
   "source": [
    "import pandas as pd\n",
    "import optuna\n",
    "from sklearn.model_selection import train_test_split\n",
    "from catboost import CatBoostRegressor, Pool\n",
    "from sklearn.metrics import accuracy_score, precision_score, recall_score, f1_score, confusion_matrix\n",
    "from sklearn.feature_selection import RFE\n",
    "import matplotlib.pyplot as plt\n",
    "\n",
    "# Load your data\n",
    "# Assuming 'train' is your DataFrame with features and target\n",
    "X = train.drop(columns=['value_increased', 'id'])\n",
    "y = train['value_increased']\n",
    "\n",
    "# Split the data\n",
    "X_train, X_test, y_train, y_test = train_test_split(X, y, test_size=0.2, random_state=42)\n",
    "\n",
    "# Define the objective function for Optuna\n",
    "def objective(trial):\n",
    "    # Suggest hyperparameters\n",
    "    depth = trial.suggest_int('depth', 4, 10)\n",
    "    learning_rate = trial.suggest_loguniform('learning_rate', 1e-5, 1)\n",
    "    l2_leaf_reg = trial.suggest_loguniform('l2_leaf_reg', 1e-5, 10)\n",
    "    iterations = trial.suggest_int('iterations', 100, 1000)\n",
    "    \n",
    "    # Create and fit the model\n",
    "    model = CatBoostRegressor(\n",
    "        depth=depth,\n",
    "        learning_rate=learning_rate,\n",
    "        l2_leaf_reg=l2_leaf_reg,\n",
    "        iterations=iterations,\n",
    "        silent=True\n",
    "    )\n",
    "    \n",
    "    model.fit(X_train, y_train)\n",
    "    \n",
    "    # Make predictions\n",
    "    y_pred = model.predict(X_test)\n",
    "    \n",
    "    # Apply threshold to create binary predictions\n",
    "    threshold = 0.5\n",
    "    y_pred_binary = (y_pred > threshold).astype(int)\n",
    "    \n",
    "    # Calculate the F1 score\n",
    "    f1 = f1_score(y_test, y_pred_binary, average='micro')\n",
    "    \n",
    "    return f1\n",
    "\n",
    "# Create the Optuna study and optimize\n",
    "study = optuna.create_study(direction='maximize')\n",
    "study.optimize(objective, n_trials=100)  # Adjust n_trials as needed\n",
    "\n",
    "# Print the best parameters and score\n",
    "print('Best trial:')\n",
    "trial = study.best_trial\n",
    "print(f'  F1 Score: {trial.value}')\n",
    "print('  Best hyperparameters: ')\n",
    "for key, value in trial.params.items():\n",
    "    print(f'    {key}: {value}')\n",
    "\n",
    "# Use the best parameters to initialize the CatBoost model\n",
    "best_params = study.best_params\n",
    "model = CatBoostRegressor(**best_params, silent=True)\n",
    "\n",
    "# Perform Recursive Feature Elimination (RFE)\n",
    "rfe = RFE(estimator=model, n_features_to_select=1, step=1)  # Start by ranking all features\n",
    "rfe.fit(X_train, y_train)\n",
    "\n",
    "# Get ranking of features\n",
    "ranking = rfe.ranking_\n",
    "\n",
    "# Rank features according to importance\n",
    "feature_ranking = pd.DataFrame({\n",
    "    'Feature': X_train.columns,\n",
    "    'Ranking': ranking\n",
    "}).sort_values(by='Ranking')\n",
    "\n",
    "print(\"Feature Ranking by RFE:\")\n",
    "print(feature_ranking)\n",
    "\n",
    "# Select the top N features based on RFE ranking\n",
    "optimal_n_features = 50  # Set this to the desired number of features\n",
    "top_features = feature_ranking['Feature'].head(optimal_n_features).tolist()\n",
    "\n",
    "# Re-train the model using only the top features\n",
    "X_train_optimal = X_train[top_features]\n",
    "X_test_optimal = X_test[top_features]\n",
    "\n",
    "# Fit the model with the selected features\n",
    "model.fit(X_train_optimal, y_train)\n",
    "\n",
    "# Make predictions and evaluate\n",
    "y_pred_optimal = model.predict(X_test_optimal)\n",
    "threshold = 0.5\n",
    "y_pred_binary_optimal = (y_pred_optimal > threshold).astype(int)\n",
    "\n",
    "accuracy_optimal = accuracy_score(y_test, y_pred_binary_optimal)\n",
    "precision_optimal = precision_score(y_test, y_pred_binary_optimal)\n",
    "recall_optimal = recall_score(y_test, y_pred_binary_optimal)\n",
    "f1_optimal = f1_score(y_test, y_pred_binary_optimal, average='micro')\n",
    "tn, fp, fn, tp = confusion_matrix(y_test, y_pred_binary_optimal).ravel()\n",
    "macro_avg_tnr = tn / (tn + fp)  # True Negative Rate\n",
    "\n",
    "# Results with selected features\n",
    "results_optimal = {\n",
    "    'Accuracy': accuracy_optimal,\n",
    "    'Precision': precision_optimal,\n",
    "    'Recall': recall_optimal,\n",
    "    'Macro Avg TNR': macro_avg_tnr,\n",
    "    'F1 Score': f1_optimal\n",
    "}\n",
    "\n",
    "# Display the results\n",
    "results_df_optimal = pd.DataFrame([results_optimal])\n",
    "print(\"Evaluation Results with Optimal Features:\")\n",
    "print(results_df_optimal)\n",
    "\n",
    "# Save the final model with selected features\n",
    "model.save_model('catboost_model_optimal.cbm')\n",
    "\n",
    "# Load the model for predictions (later use)\n",
    "model = CatBoostRegressor()\n",
    "model.load_model('catboost_model_optimal.cbm')\n",
    "\n",
    "# Prepare test data\n",
    "X_test_final = test.drop(columns=['id'])\n",
    "X_test_final_optimal = X_test_final[top_features]  # Use only selected features\n",
    "\n",
    "# Make predictions on the test set\n",
    "predicted_values = model.predict(X_test_final_optimal)\n",
    "\n",
    "# Create a DataFrame for the results\n",
    "results_df = pd.DataFrame({\n",
    "    'id': test['id'],  # Include the ID for reference\n",
    "    'value_increased': predicted_values\n",
    "})\n",
    "\n",
    "# Display the results DataFrame\n",
    "print(results_df)"
   ]
  },
  {
   "cell_type": "code",
   "execution_count": 52,
   "id": "a4f9afa1-878d-4b35-8fcf-2251bb234dd1",
   "metadata": {
    "scrolled": true
   },
   "outputs": [
    {
     "name": "stdout",
     "output_type": "stream",
     "text": [
      "Unique values in 'value_increased':\n",
      "[ 0.21220217  0.1592351   0.26730139  0.07360401  0.22599052  0.14362717\n",
      "  0.17116703  0.15863473  0.09728347  0.09584243  0.04375677  0.00566043\n",
      " -0.00631653  0.07422916  0.17949713  0.38974885  0.05396765  0.11300589\n",
      "  0.03497136  0.4053752   0.16713215  0.17532941 -0.04354869  0.20455516\n",
      "  0.15413227  0.10327999  0.31309319  0.10243516  0.14782121  0.25466882\n",
      "  0.31562119  0.43188046 -0.05321634  0.10353705  0.14072152  0.1143427\n",
      "  0.09683337  0.19756037  0.11427904  0.20041497  0.09438634  0.05305858\n",
      "  0.12141893  0.13776131  0.39305126  0.04560407  0.06260216  0.36394359\n",
      " -0.01436282  0.15805391  0.14878813  0.09327196  0.13175205  0.27786786\n",
      "  0.2553976   0.13808298  0.03138278 -0.00080821  0.17812315  0.17814455\n",
      "  0.29679033  0.06529552  0.27840224  0.03101059  0.29355796  0.07861341\n",
      "  0.15158203  0.14313508  0.11742926  0.11768713  0.06377564  0.18718988\n",
      "  0.12698947  0.36357651  0.32402364 -0.02895575  0.25559673  0.22897841\n",
      "  0.24329025  0.00405674  0.28625914  0.0749708   0.23643065  0.20206697\n",
      "  0.05763198  0.15031546  0.04850959  0.22759492  0.15615421  0.21737655\n",
      "  0.1531928   0.17577537  0.10089784  0.23374464  0.16084711  0.05425686\n",
      "  0.16289199  0.35905399  0.09328674  0.20610987  0.25288953  0.12138985\n",
      "  0.04061614  0.31783947  0.08001492  0.46797133  0.23686977  0.08675294\n",
      "  0.16455002  0.21314911 -0.00710033  0.11026717  0.0816419   0.20039656\n",
      "  0.29467698  0.30712473  0.21732189  0.19409063  0.22536517  0.14111231\n",
      "  0.02756562  0.19856032  0.28578485  0.04398848  0.11561488  0.29868532\n",
      "  0.22657194  0.0672044   0.22394244  0.02363534  0.24995877  0.2165904\n",
      "  0.19063516  0.10142226  0.15623795 -0.03039209  0.2024513   0.17018107\n",
      "  0.31191799  0.24184482  0.19254565  0.4779484   0.26064329  0.10447573\n",
      "  0.24163796  0.1967756   0.06938913  0.1574967   0.16108722  0.19505934\n",
      "  0.23651745  0.32152242 -0.05768032  0.07108655  0.2287802   0.14529512\n",
      "  0.32062786  0.1336384   0.23966624  0.04659502  0.2991972   0.28418355\n",
      "  0.33975798  0.16415295  0.21030679  0.24826258  0.09186092  0.08112101\n",
      "  0.13538749  0.15775845  0.19048871  0.13814836  0.33755965  0.32100892\n",
      "  0.14754188  0.05463394  0.14128304  0.11833443  0.04235758  0.13950445\n",
      "  0.05483725  0.27710855  0.34974974  0.30263922  0.01630143  0.09153548\n",
      "  0.13058401  0.32808674  0.1619693   0.41715037  0.04005456  0.21041254\n",
      " -0.04126804  0.11976405  0.08665653  0.01604824  0.08968668 -0.04753272\n",
      "  0.21894285  0.09534695  0.11327728  0.2418953   0.18448697  0.31558526\n",
      "  0.04685071  0.14941201  0.04529148  0.10306261  0.1284207   0.11337356\n",
      "  0.14317463 -0.01177692 -0.01820116  0.09606058  0.17264762  0.3151309\n",
      "  0.36182365  0.1609049   0.14276485  0.10125478  0.16402849  0.09051182\n",
      "  0.15107787  0.29679117  0.20928887  0.06246736  0.07728429  0.0273012\n",
      "  0.22509321  0.1448157   0.26170774  0.11803869  0.19341064  0.02029062\n",
      "  0.12488853  0.02609386  0.14231212  0.05597758 -0.01445808  0.02632517\n",
      "  0.00718247  0.19144044  0.15853587  0.35289668  0.04364597  0.09631023\n",
      "  0.20238792 -0.01079445  0.07920387  0.13990375  0.03424716  0.29699267\n",
      "  0.04957739 -0.00910035  0.27682533 -0.09102092  0.07500806  0.09231929\n",
      "  0.12717824  0.20907438  0.09487548 -0.03550404  0.30860024  0.10104349\n",
      "  0.41072327  0.0654481   0.03476607  0.33503752  0.19265977  0.33158701\n",
      "  0.14035306  0.00440729  0.20978809  0.30856106  0.20418781  0.11983277\n",
      "  0.33457278  0.15625879  0.24054284  0.09045885  0.07926168  0.18462977\n",
      "  0.09238723  0.12832014  0.26854402  0.07637537  0.09148045  0.21116133\n",
      "  0.24072423  0.17142033  0.30398062  0.11103171  0.12346445  0.11506645\n",
      "  0.09625474  0.11833351  0.21984792  0.07554979  0.18834258  0.21942497\n",
      "  0.10292525  0.26262935  0.11378047  0.12829395  0.39120195  0.09202237\n",
      "  0.26807442  0.07994056  0.26537827  0.07728896]\n",
      " \n",
      "Value counts in 'value_increased' (including NaNs):\n",
      "value_increased\n",
      "0.077289    1\n",
      "0.212202    1\n",
      "0.159235    1\n",
      "0.267301    1\n",
      "0.073604    1\n",
      "           ..\n",
      "0.103280    1\n",
      "0.313093    1\n",
      "0.102435    1\n",
      "0.147821    1\n",
      "0.254669    1\n",
      "Name: count, Length: 310, dtype: int64\n",
      " \n",
      "Number of missing values (NaNs) in 'value_increased':\n",
      "0\n",
      " \n",
      "count    310.000000\n",
      "mean       0.158825\n",
      "std        0.106561\n",
      "min       -0.091021\n",
      "25%        0.086681\n",
      "50%        0.146418\n",
      "75%        0.226427\n",
      "max        0.477948\n",
      "Name: value_increased, dtype: float64\n"
     ]
    }
   ],
   "source": [
    "analyze_column(results_df, 'value_increased')"
   ]
  },
  {
   "cell_type": "code",
   "execution_count": 53,
   "id": "5b5bb7fd-aeb0-48a7-96e9-5762abb52471",
   "metadata": {},
   "outputs": [
    {
     "name": "stdout",
     "output_type": "stream",
     "text": [
      "Mean: 0.15882509730030858\n",
      "Standard Deviation: 0.10656117695942516\n",
      "75th Percentile: 0.22642658174366231\n",
      "Threshold (Mean + 2 * Std Dev): 0.3719474512191589\n"
     ]
    }
   ],
   "source": [
    "mean_value = results_df['value_increased'].mean()\n",
    "\n",
    "# Calculate Standard Deviation\n",
    "std_dev = results_df['value_increased'].std()\n",
    "\n",
    "# Calculate 75th Percentile\n",
    "percentile_75 = results_df['value_increased'].quantile(0.75)\n",
    "\n",
    "# Calculate Threshold based on Mean + 2 * Standard Deviation\n",
    "threshold = mean_value + 2 * std_dev\n",
    "\n",
    "# Display the results\n",
    "print(f\"Mean: {mean_value}\")\n",
    "print(f\"Standard Deviation: {std_dev}\")\n",
    "print(f\"75th Percentile: {percentile_75}\")\n",
    "print(f\"Threshold (Mean + 2 * Std Dev): {threshold}\")"
   ]
  },
  {
   "cell_type": "code",
   "execution_count": 54,
   "id": "3e65edaa-6d12-4f18-9dc9-2c9eaa3a1552",
   "metadata": {},
   "outputs": [],
   "source": [
    "#threshold = 0.15778609567572263\n",
    "results_df['value_increased'] = (results_df['value_increased'] > threshold).astype(int)"
   ]
  },
  {
   "cell_type": "code",
   "execution_count": 55,
   "id": "2165e4a6-a682-4814-87a2-51a921c619b7",
   "metadata": {
    "scrolled": true
   },
   "outputs": [
    {
     "name": "stdout",
     "output_type": "stream",
     "text": [
      "Unique values in 'value_increased':\n",
      "[1 0]\n",
      " \n",
      "Value counts in 'value_increased' (including NaNs):\n",
      "value_increased\n",
      "0    169\n",
      "1    141\n",
      "Name: count, dtype: int64\n",
      " \n",
      "Number of missing values (NaNs) in 'value_increased':\n",
      "0\n",
      " \n",
      "count    310.000000\n",
      "mean       0.454839\n",
      "std        0.498761\n",
      "min        0.000000\n",
      "25%        0.000000\n",
      "50%        0.000000\n",
      "75%        1.000000\n",
      "max        1.000000\n",
      "Name: value_increased, dtype: float64\n"
     ]
    }
   ],
   "source": [
    "analyze_column(results_df, 'value_increased')"
   ]
  },
  {
   "cell_type": "code",
   "execution_count": null,
   "id": "acda7920-ac4b-488c-8d8a-6f169aa6a16c",
   "metadata": {},
   "outputs": [],
   "source": []
  },
  {
   "cell_type": "code",
   "execution_count": 56,
   "id": "77f89afe-6ab5-47f2-9506-ae2b96fe877d",
   "metadata": {},
   "outputs": [],
   "source": [
    "#results_df.to_csv('OC-ttS-th75perc.csv', index=False)"
   ]
  }
 ],
 "metadata": {
  "kernelspec": {
   "display_name": "Python 3 (ipykernel)",
   "language": "python",
   "name": "python3"
  },
  "language_info": {
   "codemirror_mode": {
    "name": "ipython",
    "version": 3
   },
   "file_extension": ".py",
   "mimetype": "text/x-python",
   "name": "python",
   "nbconvert_exporter": "python",
   "pygments_lexer": "ipython3",
   "version": "3.12.4"
  }
 },
 "nbformat": 4,
 "nbformat_minor": 5
}
